{
 "cells": [
  {
   "cell_type": "code",
   "execution_count": 1,
   "id": "2b7ce866",
   "metadata": {},
   "outputs": [
    {
     "name": "stdout",
     "output_type": "stream",
     "text": [
      "This is not enough!\n"
     ]
    }
   ],
   "source": [
    "\"\"\"\n",
    "Mentally run the following code blocks and write down the output of each code block.\n",
    "\"\"\"\n",
    "\n",
    "m, n = 10, 20\n",
    "if m * n < 1000:\n",
    "    print(\"This is not enough!\")"
   ]
  },
  {
   "cell_type": "code",
   "execution_count": 2,
   "id": "1c3aece6",
   "metadata": {},
   "outputs": [
    {
     "name": "stdout",
     "output_type": "stream",
     "text": [
      "10 / 3 = 3.3333333333333335\n"
     ]
    }
   ],
   "source": [
    "\"\"\"\n",
    "Mentally run the following code blocks and write down the output of each code block.\n",
    "\"\"\"\n",
    "\n",
    "m, n = 10, 3\n",
    "if m // n == m / n:\n",
    "    print(f'{m}//{n} = {m//n}')\n",
    "else:\n",
    "    print(f'{m} / {n} = {m/n}')"
   ]
  },
  {
   "cell_type": "code",
   "execution_count": 3,
   "id": "39c4597e",
   "metadata": {},
   "outputs": [
    {
     "name": "stdout",
     "output_type": "stream",
     "text": [
      "13 * 2 = 26\n"
     ]
    }
   ],
   "source": [
    "\"\"\"\n",
    "Mentally run the following code blocks and write down the output of each code block.\n",
    "\"\"\"\n",
    "\n",
    "m, n = 13, 5\n",
    "if m * 2 > n**2:\n",
    "    print(f'{m} * {2} = {m*2}')\n",
    "else:\n",
    "    print(f'{n} ** {2} = {n**2}')"
   ]
  },
  {
   "cell_type": "code",
   "execution_count": 4,
   "id": "e9b58ca0",
   "metadata": {},
   "outputs": [
    {
     "name": "stdout",
     "output_type": "stream",
     "text": [
      "The cube of 1 is 1\n",
      "The cube of 2 is 8\n",
      "The cube of 3 is 27\n",
      "The cube of 4 is 64\n",
      "The cube of 5 is 125\n"
     ]
    }
   ],
   "source": [
    "\"\"\"\n",
    "Mentally run the following code blocks and write down the output of each code block.\n",
    "\"\"\"\n",
    "\n",
    "for i in range(1, 6):\n",
    "    print(f'The cube of {i} is {i*i*i}')"
   ]
  },
  {
   "cell_type": "code",
   "execution_count": 6,
   "id": "a82f92b0",
   "metadata": {},
   "outputs": [
    {
     "name": "stdout",
     "output_type": "stream",
     "text": [
      "the product of 1x2x3…10 is  3628800\n"
     ]
    }
   ],
   "source": [
    "\"\"\"\n",
    "Mentally run the following code blocks and write down the output of each code block.\n",
    "\"\"\"\n",
    "\n",
    "i, s = 1, 1\n",
    "while i<=10:\n",
    "    s *= i\n",
    "    i += 1\n",
    "print(\"the product of 1x2x3…10 is \", s)\n"
   ]
  },
  {
   "cell_type": "code",
   "execution_count": 7,
   "id": "a1ffa56c",
   "metadata": {},
   "outputs": [
    {
     "name": "stdout",
     "output_type": "stream",
     "text": [
      "1+3+5+ … +19 = 100\n"
     ]
    }
   ],
   "source": [
    "\"\"\"\n",
    "Mentally run the following code blocks and write down the output of each code block.\n",
    "\"\"\"\n",
    "\n",
    "total = 0\n",
    "for i in range(10):\n",
    "    total += i*2 +1\n",
    "print(f'1+3+5+ … +19 = {total}')"
   ]
  },
  {
   "cell_type": "code",
   "execution_count": 8,
   "id": "4bda9ccf",
   "metadata": {},
   "outputs": [
    {
     "name": "stdout",
     "output_type": "stream",
     "text": [
      "factors of 32 are [1, 2, 4, 8, 16]\n"
     ]
    }
   ],
   "source": [
    "\"\"\"\n",
    "Mentally run the following code blocks and write down the output of each code block.\n",
    "\"\"\"\n",
    "\n",
    "number = 32\n",
    "factors = []\n",
    "for d in range(1, number):\n",
    "    if number % d == 0:\n",
    "        factors += [d]\n",
    "print(f'factors of {number} are {factors}')"
   ]
  },
  {
   "cell_type": "code",
   "execution_count": 12,
   "id": "1d20d618",
   "metadata": {},
   "outputs": [
    {
     "name": "stdout",
     "output_type": "stream",
     "text": [
      "Invalid entry. Enter a number.\n",
      "Invalid entry. Enter a number.\n",
      "The largest number is 80.0.\n"
     ]
    }
   ],
   "source": [
    "\"\"\"\n",
    "Write a program that gets three numbers from the user and displays the\n",
    "biggest number among the three.\n",
    "\"\"\"\n",
    "\n",
    "def biggest_of_three():\n",
    "    count = 0\n",
    "    number_lst = []\n",
    "    while count < 3:\n",
    "        try:\n",
    "            number = float(input(\"Give me a number.\"))\n",
    "        except ValueError:\n",
    "            print(\"Invalid entry. Enter a number.\")\n",
    "        else:\n",
    "            number_lst.append(number)\n",
    "            count += 1\n",
    "    \n",
    "    print(f\"The largest number is {max(number_lst)}.\")\n",
    "\n",
    "biggest_of_three()\n"
   ]
  },
  {
   "cell_type": "code",
   "execution_count": 16,
   "id": "bcf9a262",
   "metadata": {},
   "outputs": [
    {
     "name": "stdout",
     "output_type": "stream",
     "text": [
      "Invalid entry. Enter an integer.\n",
      "Attempt complete.\n",
      "Invalid entry. Enter an integer.\n",
      "Attempt complete.\n",
      "Odd!\n",
      "Attempt complete.\n"
     ]
    }
   ],
   "source": [
    "\"\"\"\n",
    "Write a program that gets a number from the user then says whether\n",
    "the number is an even number or odd number.\n",
    "\"\"\"\n",
    "\n",
    "def even_or_odd():\n",
    "    while True:\n",
    "        try:\n",
    "            number = int(input(\"Enter a number to check if it's even or odd: \"))\n",
    "        except ValueError:\n",
    "            print(\"Invalid entry. Enter an integer.\")\n",
    "        else:\n",
    "            if number % 2 == 0:\n",
    "                print(\"Even!\")\n",
    "            else:\n",
    "                print(\"Odd!\")\n",
    "            break\n",
    "        finally:\n",
    "            print(\"Attempt complete.\")\n",
    "\n",
    "even_or_odd()"
   ]
  },
  {
   "cell_type": "code",
   "execution_count": null,
   "id": "13913bac",
   "metadata": {},
   "outputs": [
    {
     "name": "stdout",
     "output_type": "stream",
     "text": [
      "The three numbers, 2, 3, 4 can form a triangle.\n"
     ]
    }
   ],
   "source": [
    "\"\"\"\n",
    "Write a program that takes three numbers from the user as the lengths\n",
    "of three lines, then determines if the three lines can make a triangle.\n",
    "\"\"\"\n",
    "\n",
    "def triangle_or_not():\n",
    "    count = 0\n",
    "    triangle_sides = []\n",
    "    while count < 3:\n",
    "        try:\n",
    "            number = int(input(\"Enter an integer as the length of a side of a triangle: \"))\n",
    "            if number <= 0:\n",
    "                raise ValueError('Number must be a positive integer.')\n",
    "        except ValueError as e:\n",
    "            print(e)\n",
    "        else:\n",
    "            triangle_sides.append(number)\n",
    "            count += 1\n",
    "    \n",
    "    sorted_sides = sorted(triangle_sides, reverse = False)\n",
    "    if sorted_sides[0] + sorted_sides[1] > sorted_sides[2]:\n",
    "        print(f\"The three numbers, {sorted_sides[0]}, {sorted_sides[1]}, {sorted_sides[2]} can form a triangle.\")\n",
    "    else:\n",
    "        print(f\"The three numbers, {sorted_sides[0]}, {sorted_sides[1]}, {sorted_sides[2]} cannot form a triangle.\")\n",
    "\n",
    "triangle_or_not()"
   ]
  },
  {
   "cell_type": "code",
   "execution_count": 21,
   "id": "63a9b25e",
   "metadata": {},
   "outputs": [
    {
     "name": "stdout",
     "output_type": "stream",
     "text": [
      "The three numbers, 3, 3, 3 can form a triangle.\n",
      "This is an equilateral triangle.\n"
     ]
    }
   ],
   "source": [
    "\"\"\"\n",
    "Write a program that takes three numbers from the user as the\n",
    "lengths of three lines, then determines if the three lines can make a\n",
    "triangle. If the three lines can make a triangle, the program should\n",
    "further determine if the triangle is an equilateral triangle or an\n",
    "isosceles triangle.\n",
    "\"\"\"\n",
    "\n",
    "def triangle_or_not():\n",
    "    count = 0\n",
    "    triangle_sides = []\n",
    "    while count < 3:\n",
    "        try:\n",
    "            number = int(input(\"Enter an integer as the length of a side of a triangle: \"))\n",
    "            if number <= 0:\n",
    "                raise ValueError('Number must be a positive integer.')\n",
    "        except ValueError as e:\n",
    "            print(e)\n",
    "        else:\n",
    "            triangle_sides.append(number)\n",
    "            count += 1\n",
    "    \n",
    "    sorted_sides = sorted(triangle_sides, reverse = False)\n",
    "    if sorted_sides[0] + sorted_sides[1] > sorted_sides[2]:\n",
    "        print(f\"The three numbers, {sorted_sides[0]}, {sorted_sides[1]}, {sorted_sides[2]} can form a triangle.\")\n",
    "        if sorted_sides[0] == sorted_sides[1] == sorted_sides[2]:\n",
    "            print(\"This is an equilateral triangle.\")\n",
    "        elif sorted_sides[0] == sorted_sides[1] or sorted_sides[1] == sorted_sides[2]:\n",
    "            print(\"This is an isosceles triangle.\")\n",
    "        else:\n",
    "            print(\"This is a scalene triangle.\")\n",
    "    else:\n",
    "        print(f\"The three numbers, {sorted_sides[0]}, {sorted_sides[1]}, {sorted_sides[2]} cannot form a triangle.\")\n",
    "\n",
    "triangle_or_not()"
   ]
  },
  {
   "cell_type": "code",
   "execution_count": 23,
   "id": "0e0481c6",
   "metadata": {},
   "outputs": [
    {
     "name": "stdout",
     "output_type": "stream",
     "text": [
      "The three numbers, 3, 4, 5 can form a triangle.\n",
      "It is a right triangle.\n"
     ]
    }
   ],
   "source": [
    "\"\"\"\n",
    "Write a program that takes three numbers from the user as the lengths\n",
    "of three lines, then determines if the three lines can make a triangle.\n",
    "If the three lines can make a triangle, the program should further\n",
    "determine if the triangle will be a right triangle.\n",
    "\"\"\"\n",
    "\n",
    "def triangle_or_not():\n",
    "    count = 0\n",
    "    triangle_sides = []\n",
    "    while count < 3:\n",
    "        try:\n",
    "            number = int(input(\"Enter an integer as the length of a side of a triangle: \"))\n",
    "            if number <= 0:\n",
    "                raise ValueError('Number must be a positive integer.')\n",
    "        except ValueError as e:\n",
    "            print(e)\n",
    "        else:\n",
    "            triangle_sides.append(number)\n",
    "            count += 1\n",
    "    \n",
    "    sorted_sides = sorted(triangle_sides, reverse = False)\n",
    "    if sorted_sides[0] + sorted_sides[1] > sorted_sides[2]:\n",
    "        print(f\"The three numbers, {sorted_sides[0]}, {sorted_sides[1]}, {sorted_sides[2]} can form a triangle.\")\n",
    "        if sorted_sides[0]**2 + sorted_sides[1]**2 == sorted_sides[2]**2:\n",
    "            print(\"It is a right triangle.\")\n",
    "    else:\n",
    "        print(f\"The three numbers, {sorted_sides[0]}, {sorted_sides[1]}, {sorted_sides[2]} cannot form a triangle.\")\n",
    "\n",
    "triangle_or_not()"
   ]
  },
  {
   "cell_type": "code",
   "execution_count": 8,
   "id": "fdc4a222",
   "metadata": {},
   "outputs": [
    {
     "name": "stdout",
     "output_type": "stream",
     "text": [
      "Invalid entry. The interest rate must be equal to or greater than zero.\n",
      "Invalid entry. The interest rate must be equal to or greater than zero.\n",
      "Invalid entry. Enter an integer equal to or greater than zero.\n",
      "Invalid entry. Enter an integer equal to or greater than zero.\n",
      "After 4 years, you will end up with $11698.59 if you start with $10000.0 at 4.0%.\n"
     ]
    }
   ],
   "source": [
    "\"\"\"\n",
    "Compound interest is a common practice in finance and banking,\n",
    "allowing you to earn interest on interest as well as on the principal.\n",
    "Assume that your bank offers a savings account with which you can\n",
    "earn compound interest. The amount you deposit into the account is\n",
    "p, and annual compound interest is r. By the end of n years after your\n",
    "initial deposit, the account balance will be a = p(1 + r)^n. For this project,\n",
    "write a program that takes three numbers from the user as the initial\n",
    "deposit, the annual interest, and the number of years that the user\n",
    "wants the money to stay in the account. Calculate and display how\n",
    "much money the user will have by the end of the nth year.\n",
    "\"\"\"\n",
    "\n",
    "def compound_interest():\n",
    "    while True:\n",
    "        try:\n",
    "            p = float(input('Enter your principal: '))\n",
    "            if p < 0:\n",
    "                raise ValueError\n",
    "            break\n",
    "        except ValueError:\n",
    "            print('Invalid entry. Enter a number greater than or equal to zero.')\n",
    "    while True:\n",
    "        try:\n",
    "            i = float(input('Enter your interest rate (4, 5, etc.): '))\n",
    "            if i < 0:\n",
    "                raise ValueError\n",
    "            else:\n",
    "                i = i / 100\n",
    "                break\n",
    "        except ValueError:\n",
    "            print('Invalid entry. The interest rate must be equal to or greater than zero.')\n",
    "    while True:\n",
    "        try:\n",
    "            n = int(input('Enter the number of years you want to invest: '))\n",
    "            if n < 0:\n",
    "                raise ValueError\n",
    "            break\n",
    "        except ValueError:\n",
    "            print('Invalid entry. Enter an integer equal to or greater than zero.')\n",
    "    \n",
    "    ending_balance = p * (1 + i) ** n\n",
    "    print(f'After {n} years, you will end up with ${round(ending_balance, 2)} if you start with ${round(p, 2)} at {i * 100}%.')\n",
    "\n",
    "\n",
    "compound_interest()"
   ]
  },
  {
   "cell_type": "code",
   "execution_count": 10,
   "id": "72a17a44",
   "metadata": {},
   "outputs": [
    {
     "name": "stdout",
     "output_type": "stream",
     "text": [
      "Based on your income, $100000.0, your tax is $17991.83.\n"
     ]
    }
   ],
   "source": [
    "\"\"\"\n",
    "In some countries like Canada, tax on taxable personal income for a\n",
    "year is calculated progressively according to a calculation table set for\n",
    "the year, such as the one shown below:\n",
    "\n",
    "Income tax:\n",
    "15% on the first $48,534 or less\n",
    "20.5% on the next $48,534\n",
    "26% on the next $53,404\n",
    "29% on the next $63,895\n",
    "33% on taxable income over $214,368\n",
    "\n",
    "Income:\n",
    "$0–$48,534\n",
    "$48,535–$97,069\n",
    "$97,070–$150,473\n",
    "$150,474–$214,368\n",
    "over $214,368\n",
    "\n",
    "Write a program that takes taxable income from a user and calculates\n",
    "the total income tax payable according to the table above.\n",
    "\"\"\"\n",
    "\n",
    "def income_tax_calculator():\n",
    "    while True:\n",
    "        try:\n",
    "            income = float(input('Enter your income without the dollar sign and any commas: '))\n",
    "            if income < 0:\n",
    "                raise ValueError\n",
    "            else:\n",
    "                break\n",
    "        except ValueError:\n",
    "            print('Income has to be equal to or greater than zero.')\n",
    "    \n",
    "    if income <= 48534:\n",
    "        tax = income * 0.15\n",
    "    elif income <= 97069:\n",
    "        tax = (income - 48534) * 0.205 + 48534 * 0.15\n",
    "    elif income <= 150473:\n",
    "        tax = (income - 97069) * 0.26 + (97069 - 48534) * 0.205 + 48534 * 0.15\n",
    "    elif income <= 214368:\n",
    "        tax = (income - 150473) * 0.29 + (150473 - 97069) * 0.26 + (97069 - 48534) * 0.205 + 48534 * 0.15\n",
    "    else:\n",
    "        tax = (income - 214368) * 0.33 + (214368 - 150473) * 0.29 + (150473 - 97069) * 0.26 + (97069 - 48534) * 0.205 + 48534 * 0.15\n",
    "\n",
    "    print(f\"Based on your income, ${income}, your personal tax amount is ${round(tax,2 )}.\")\n",
    "\n",
    "income_tax_calculator()\n",
    "\n"
   ]
  },
  {
   "cell_type": "code",
   "execution_count": 13,
   "id": "62340a86",
   "metadata": {},
   "outputs": [
    {
     "name": "stdout",
     "output_type": "stream",
     "text": [
      "Your mortgage with principal balance of 500000.0, annual interest rate of 4.03%, and 25 amortization years has monthly payment of $2647.47\n"
     ]
    }
   ],
   "source": [
    "\"\"\"\n",
    "A mortgage is the money borrowed from a lender for the purchase\n",
    "of a property. Mortgages and mortgage payments are a big thing for\n",
    "almost everyone. For a mortgage with principal of P at a fixed monthly\n",
    "interest rate of r that needs to be paid off in Y years or 12 * Y = N\n",
    "months, the monthly payment would be:\n",
    "Write a program that takes the principal, fixed annual interest rate,\n",
    "and years of amortization then calculates and displays the monthly\n",
    "payment amount. Hint: You will need to work out the number of\n",
    "months from number of years, and the monthly interest rate from the\n",
    "annual interest rate.\n",
    "\"\"\"\n",
    "\n",
    "def mortgage_payment_calculator():\n",
    "    while True:\n",
    "        try:\n",
    "            principal = float(input('What is your mortgage principal? '))\n",
    "            if principal <= 0:\n",
    "                raise ValueError\n",
    "            else:\n",
    "                break\n",
    "        except ValueError:\n",
    "            print('Invalid entry. The principal amount must be a number greater than zero.')\n",
    "    while True:\n",
    "        try:\n",
    "            number_of_years = int(input('What is the length of amortization for your mortgage in years? '))\n",
    "            if number_of_years <= 0:\n",
    "                raise ValueError\n",
    "            else:\n",
    "                number_of_months = number_of_years * 12\n",
    "                break\n",
    "        except ValueError:\n",
    "            print('Invalid input. The number of years must be an integer greater than zero.')\n",
    "    while True:\n",
    "        try:\n",
    "            annual_interest_rate = float(input('What is the annual rate of your mortgage? E.g., 4'))\n",
    "            if annual_interest_rate <= 0:\n",
    "                raise ValueError\n",
    "            else:\n",
    "                annual_interest_rate = annual_interest_rate / 100\n",
    "                monthly_interest_rate = annual_interest_rate / 12\n",
    "                break\n",
    "        except ValueError:\n",
    "            print('The annaul interest rate must be a number greater than or equal to zero.')\n",
    "    \n",
    "    if monthly_interest_rate == 0:\n",
    "        monthly_payment = principal / number_of_months\n",
    "    else:\n",
    "        numerator = monthly_interest_rate * principal * (1 + monthly_interest_rate) ** number_of_months\n",
    "        denominator = ((1 + monthly_interest_rate) ** number_of_months) - 1\n",
    "        monthly_payment = numerator / denominator\n",
    "    \n",
    "    print(f'Your mortgage with principal balance of {principal}, annual interest rate of {annual_interest_rate * 100}%, and {number_of_years} amortization years has monthly payment of ${round(monthly_payment, 2)}.')\n",
    "    \n",
    "mortgage_payment_calculator()\n",
    "    "
   ]
  },
  {
   "cell_type": "code",
   "execution_count": 20,
   "id": "a8ae4be5",
   "metadata": {},
   "outputs": [
    {
     "name": "stdout",
     "output_type": "stream",
     "text": [
      "List of Pythagorean Triples up to 10:\n",
      "(3, 4, 5)\n",
      "(6, 8, 10)\n",
      "Total: 2\n"
     ]
    }
   ],
   "source": [
    "\"\"\"\n",
    "Three integers—A, B and C—are called a Pythagorean when C * C = A * A + B * B.\n",
    "Write a program to take an input of integer from the\n",
    "user and find all the Pythagorean triples of integers, none of which\n",
    "are bigger than the integer taken from the user. For example, if the\n",
    "number from the user is 6, then 5, 4, and 3 are a Pythagorean triple\n",
    "because 5^2 = 4^2 + 3^2 = 25. The numbers do not necessarily have to be different.\n",
    "\"\"\"\n",
    "\n",
    "def pythagorean_triples():\n",
    "    while True:\n",
    "        try:\n",
    "            max_number = int(input('Please enter a number that you want to check: '))\n",
    "            if max_number <= 0:\n",
    "                raise ValueError\n",
    "            else:\n",
    "                break\n",
    "        except ValueError:\n",
    "            print('Enter an integer greater than zero.')\n",
    "    \n",
    "    list_of_triples = []\n",
    "\n",
    "    for c in range(1, max_number+1):\n",
    "        for a in range(1, c+1):\n",
    "            for b in range(a, c+1):\n",
    "                if a**2 + b**2 == c**2:\n",
    "                    list_of_triples.append((a,b,c))\n",
    "\n",
    "    if list_of_triples:\n",
    "        print(f'List of Pythagorean Triples up to {max_number}:')\n",
    "        for triples in list_of_triples:\n",
    "            print(triples)\n",
    "        print(f'Total: {len(list_of_triples)}')\n",
    "    else:\n",
    "        print(f'There are no Pythagorean Triples up to {max_number}.')\n",
    "\n",
    "pythagorean_triples()"
   ]
  },
  {
   "cell_type": "code",
   "execution_count": 7,
   "id": "4c49f483",
   "metadata": {},
   "outputs": [
    {
     "name": "stdout",
     "output_type": "stream",
     "text": [
      "   Investment Year  Starting Balance  Interest Earned  Ending Balance  \\\n",
      "0                1      10000.000000       400.000000    10400.000000   \n",
      "1                2      10400.000000       416.000000    10816.000000   \n",
      "2                3      10816.000000       432.640000    11248.640000   \n",
      "3                4      11248.640000       449.945600    11698.585600   \n",
      "4                5      11698.585600       467.943424    12166.529024   \n",
      "5                6      12166.529024       486.661161    12653.190185   \n",
      "6                7      12653.190185       506.127607    13159.317792   \n",
      "7                8      13159.317792       526.372712    13685.690504   \n",
      "8                9      13685.690504       547.427620    14233.118124   \n",
      "9               10      14233.118124       569.324725    14802.442849   \n",
      "\n",
      "   Total Interest Earned  \n",
      "0             400.000000  \n",
      "1             816.000000  \n",
      "2            1248.640000  \n",
      "3            1698.585600  \n",
      "4            2166.529024  \n",
      "5            2653.190185  \n",
      "6            3159.317792  \n",
      "7            3685.690504  \n",
      "8            4233.118124  \n",
      "9            4802.442849  \n"
     ]
    }
   ],
   "source": [
    "\"\"\"\n",
    "Compound interest is a common practice in finance and banking\n",
    "to earn interest on interest as well as on the principal. Assume that\n",
    "your bank offers you a deposit account through which you can earn\n",
    "compound interest, the amount you deposit into the account is p, and\n",
    "annual compound interest is r. By the end of n years after your initial\n",
    "deposit, the account balance will be a = p(1 + r)^n. For this project, get\n",
    "p, r, and n from the user, then calculate and display a table showing\n",
    "the balance, the interest earned each year, and the total interest\n",
    "earned so far.\n",
    "\"\"\"\n",
    "\n",
    "import pandas as pd\n",
    "\n",
    "def compound_interest_calculator():\n",
    "\n",
    "    investment_year = []\n",
    "    starting_balance_lst = []\n",
    "    interest_earned_yearly = []\n",
    "    ending_balance_lst = []\n",
    "    total_interest_earned = []\n",
    "\n",
    "    while True:\n",
    "        try:\n",
    "            p = float(input('Enter your principal: '))\n",
    "            if p < 0:\n",
    "                raise ValueError\n",
    "            else:\n",
    "                break\n",
    "        except ValueError:\n",
    "            print('Invalid entry. Enter a number greater than or equal to zero.')\n",
    "    while True:\n",
    "        try:\n",
    "            i = float(input('Enter your interest rate (4, 5, etc.): '))\n",
    "            if i < 0:\n",
    "                raise ValueError\n",
    "            else:\n",
    "                i = i / 100\n",
    "                break\n",
    "        except ValueError:\n",
    "            print('Invalid entry. The interest rate must be equal to or greater than zero.')\n",
    "    while True:\n",
    "        try:\n",
    "            n = int(input('Enter the number of years you want to invest: '))\n",
    "            if n < 0:\n",
    "                raise ValueError\n",
    "            else:\n",
    "                break\n",
    "        except ValueError:\n",
    "            print('Invalid entry. Enter an integer equal to or greater than zero.')\n",
    "\n",
    "\n",
    "    for y in range(1, n + 1):\n",
    "        investment_year.append(y) # Add the investment year to a list\n",
    "        starting_balance_lst.append(p) # Add the principal, or the starting balance, to a list\n",
    "        ending_balance = p * (1 + i) # Calculate the ending balance for the year\n",
    "        ending_balance_lst.append(ending_balance) # Add the ending balance to a list\n",
    "        interest_earned = ending_balance - p # Calculate the interest earned for the year\n",
    "        interest_earned_yearly.append(interest_earned) # Add the interest earned to a list\n",
    "        total_interest = sum(interest_earned_yearly) # Calculate the total interest earned so far\n",
    "        total_interest_earned.append(total_interest) # Add the total interest earned so far to a list\n",
    "        p = ending_balance # Set the principal, or the starting balance, equal to the ending balance\n",
    "\n",
    "    investment_schedule = pd.DataFrame({'Investment Year' : investment_year, \n",
    "                                        'Starting Balance' : starting_balance_lst, \n",
    "                                        'Interest Earned' : interest_earned_yearly, \n",
    "                                        'Ending Balance' : ending_balance_lst, \n",
    "                                        'Total Interest Earned' : total_interest_earned})\n",
    "    print(investment_schedule)\n",
    "\n",
    "compound_interest_calculator()"
   ]
  },
  {
   "cell_type": "code",
   "execution_count": null,
   "id": "e827869b",
   "metadata": {},
   "outputs": [
    {
     "name": "stdout",
     "output_type": "stream",
     "text": [
      "The number, 10, is not a perfect number.\n"
     ]
    }
   ],
   "source": [
    "\"\"\"\n",
    "An integer is called a perfect number if the sum of its factors,\n",
    "excluding itself, is equal to the integer itself. For example, 6 is a\n",
    "perfect number because 6 = 1 + 2 + 3, and 1, 2, and 3 are all its factors.\n",
    "Write a program to get a number from a user, then determine if the\n",
    "number is a perfect number. If yes, display all its factors.\n",
    "\"\"\"\n",
    "\n",
    "def perfect_number_finder():\n",
    "    while True:\n",
    "        try:\n",
    "            user_number = int(input('Enter the number you want to test: '))\n",
    "            if user_number <= 1:\n",
    "                raise ValueError\n",
    "            else:\n",
    "                break\n",
    "        except ValueError:\n",
    "            print('The number has to be an integer greater than 1.')\n",
    "    \n",
    "    factor_lst = []\n",
    "\n",
    "    for i in range(1, user_number):\n",
    "        if user_number % i == 0:\n",
    "            factor_lst.append(i)\n",
    "    if sum(factor_lst) == user_number:\n",
    "        print(f'The number, {user_number}, is a perfect number.')\n",
    "    else:\n",
    "        print(f'The number, {user_number}, is not a perfect number.')\n",
    "\n",
    "perfect_number_finder()    "
   ]
  },
  {
   "cell_type": "code",
   "execution_count": 14,
   "id": "1c9e7f50",
   "metadata": {},
   "outputs": [
    {
     "name": "stdout",
     "output_type": "stream",
     "text": [
      "You have to enter a positive integer.\n",
      "You have to enter a positive integer.\n",
      "You have to enter a positive integer.\n",
      "10's factors are: \n",
      "1\n",
      "2\n",
      "5\n",
      "10\n"
     ]
    }
   ],
   "source": [
    "\"\"\"\n",
    "For a given integer n, if another integer m can divide n, then m is\n",
    "called a factor of n. In mathematics, finding all factors of a given\n",
    "integer is an important operation, especially for cryptography. Write\n",
    "a program that takes an integer from the user and determine and\n",
    "display all the factors of the number given by the user.\n",
    "\"\"\"\n",
    "\n",
    "def find_factor():\n",
    "    while True:\n",
    "        try:\n",
    "            number = int(input('Enter a number you want to find factors of: '))\n",
    "            if number <= 0:\n",
    "                raise ValueError\n",
    "            else:\n",
    "                break\n",
    "        except ValueError:\n",
    "            print('You have to enter a positive integer.')\n",
    "    \n",
    "    factors = []\n",
    "    for i in range(1, number + 1):\n",
    "        if number % i == 0:\n",
    "            factors.append(i)\n",
    "    print(f\"{number}'s factors are: \")\n",
    "    for factor in factors:\n",
    "        print(factor)\n",
    "\n",
    "find_factor()"
   ]
  },
  {
   "cell_type": "code",
   "execution_count": 6,
   "id": "1eba8fa1",
   "metadata": {},
   "outputs": [
    {
     "name": "stdout",
     "output_type": "stream",
     "text": [
      "The average of your numbers is 2.0.\n"
     ]
    }
   ],
   "source": [
    "\"\"\"\n",
    "Read a series of float numbers from the user and calculate and display\n",
    "the average of all the numbers given by the user. Assume that the\n",
    "number of float numbers is unknown but that a negative number is\n",
    "used to indicate the end of the input.\n",
    "\"\"\"\n",
    "\n",
    "def avg_numbers():\n",
    "\n",
    "    number_lst = []\n",
    "    while True:\n",
    "        try:\n",
    "            number = float(input('Enter a number. If you want to quit, enter a negative number: '))\n",
    "            if number < 0:\n",
    "                break\n",
    "        except ValueError:\n",
    "            print('Invalid input. Enter a number.')\n",
    "        else:\n",
    "            number_lst.append(number)\n",
    "    \n",
    "    if not number_lst:\n",
    "        print('No numbers were entered.')\n",
    "    else:\n",
    "        number_avg = sum(number_lst) / len(number_lst)\n",
    "        print(f'The average of your numbers is {round(number_avg,2)}.')\n",
    "\n",
    "avg_numbers()\n"
   ]
  },
  {
   "cell_type": "code",
   "execution_count": 10,
   "id": "28628a3a",
   "metadata": {},
   "outputs": [
    {
     "name": "stdout",
     "output_type": "stream",
     "text": [
      "Invalid input. The number of years must be an integer greater than zero.\n",
      "     Month  Starting Balance  Monthly Payment  Principal Payment  \\\n",
      "0        1         600000.00          3167.02            1167.02   \n",
      "1        2         598832.98          3167.02            1170.91   \n",
      "2        3         597662.07          3167.02            1174.81   \n",
      "3        4         596487.25          3167.02            1178.73   \n",
      "4        5         595308.52          3167.02            1182.66   \n",
      "..     ...               ...              ...                ...   \n",
      "295    296          15677.98          3167.02            3114.76   \n",
      "296    297          12563.22          3167.02            3125.14   \n",
      "297    298           9438.07          3167.02            3135.56   \n",
      "298    299           6302.51          3167.02            3146.01   \n",
      "299    300           3156.50          3167.02            3156.50   \n",
      "\n",
      "     Interest Payment  Ending Balance  \n",
      "0             2000.00       598832.98  \n",
      "1             1996.11       597662.07  \n",
      "2             1992.21       596487.25  \n",
      "3             1988.29       595308.52  \n",
      "4             1984.36       594125.86  \n",
      "..                ...             ...  \n",
      "295             52.26        12563.22  \n",
      "296             41.88         9438.07  \n",
      "297             31.46         6302.51  \n",
      "298             21.01         3156.50  \n",
      "299             10.52            0.00  \n",
      "\n",
      "[300 rows x 6 columns]\n"
     ]
    }
   ],
   "source": [
    "\"\"\"\n",
    "For a mortgage with a principal of P at a fixed monthly interest rate of\n",
    "r that needs to be paid off in Y years or 12 * Y = N months, the monthly\n",
    "payment would be:\n",
    "Continuing the project you did above for project 8, calculate a table\n",
    "showing the interest and principal paid each month and the principal\n",
    "balance at each month’s end.\n",
    "\"\"\"\n",
    "\n",
    "import pandas as pd\n",
    "\n",
    "def mortgage_payment_calculator():\n",
    "    while True:\n",
    "        try:\n",
    "            principal = float(input('What is your mortgage principal? '))\n",
    "            if principal <= 0:\n",
    "                raise ValueError\n",
    "            else:\n",
    "                break\n",
    "        except ValueError:\n",
    "            print('Invalid entry. The principal amount must be a number greater than zero.')\n",
    "    while True:\n",
    "        try:\n",
    "            number_of_years = int(input('What is the length of amortization for your mortgage in years? '))\n",
    "            if number_of_years <= 0:\n",
    "                raise ValueError\n",
    "            else:\n",
    "                number_of_months = number_of_years * 12\n",
    "                break\n",
    "        except ValueError:\n",
    "            print('Invalid input. The number of years must be an integer greater than zero.')\n",
    "    while True:\n",
    "        try:\n",
    "            annual_interest_rate = float(input('What is the annual rate of your mortgage? E.g., 4'))\n",
    "            if annual_interest_rate < 0:\n",
    "                raise ValueError\n",
    "            else:\n",
    "                annual_interest_rate = annual_interest_rate / 100\n",
    "                monthly_interest_rate = annual_interest_rate / 12\n",
    "                break\n",
    "        except ValueError:\n",
    "            print('The annaul interest rate must be a number greater than or equal to zero.')\n",
    "    \n",
    "    if monthly_interest_rate == 0:\n",
    "        monthly_payment = principal / number_of_months\n",
    "    else:\n",
    "        numerator = monthly_interest_rate * principal * (1 + monthly_interest_rate) ** number_of_months\n",
    "        denominator = ((1 + monthly_interest_rate) ** number_of_months) - 1\n",
    "        monthly_payment = numerator / denominator\n",
    "\n",
    "    month_count_lst = []\n",
    "    starting_balance_lst = []\n",
    "    monthly_payment_lst = []\n",
    "    principal_payment_lst = []\n",
    "    interest_payment_lst = []\n",
    "    ending_balance_lst = []\n",
    "\n",
    "    for month in range(1, number_of_months + 1):\n",
    "        month_count_lst.append(month)\n",
    "\n",
    "        starting_balance_lst.append(round(principal,2))\n",
    "        monthly_payment_lst.append(round(monthly_payment,2))\n",
    "\n",
    "        interest_payment = principal * monthly_interest_rate\n",
    "        interest_payment_lst.append(round(interest_payment,2))\n",
    "\n",
    "        principal_payment = monthly_payment - interest_payment\n",
    "        principal_payment_lst.append(round(principal_payment,2))\n",
    "\n",
    "        ending_balance = principal - principal_payment\n",
    "        ending_balance_lst.append(round(ending_balance,2))\n",
    "\n",
    "        if ending_balance <= 0:\n",
    "            break\n",
    "\n",
    "        principal = ending_balance\n",
    "        \n",
    "\n",
    "    amortization_schedule = pd.DataFrame({'Month':month_count_lst, \n",
    "                                          'Starting Balance':starting_balance_lst, \n",
    "                                          'Monthly Payment': monthly_payment_lst, \n",
    "                                          'Principal Payment':principal_payment_lst, \n",
    "                                          'Interest Payment':interest_payment_lst, \n",
    "                                          'Ending Balance':ending_balance_lst})\n",
    "\n",
    "    print(amortization_schedule)\n",
    "\n",
    "    \n",
    "  \n",
    "\n",
    "mortgage_payment_calculator()"
   ]
  },
  {
   "cell_type": "code",
   "execution_count": null,
   "id": "b8c846de",
   "metadata": {},
   "outputs": [],
   "source": []
  }
 ],
 "metadata": {
  "kernelspec": {
   "display_name": "Python 3",
   "language": "python",
   "name": "python3"
  },
  "language_info": {
   "codemirror_mode": {
    "name": "ipython",
    "version": 3
   },
   "file_extension": ".py",
   "mimetype": "text/x-python",
   "name": "python",
   "nbconvert_exporter": "python",
   "pygments_lexer": "ipython3",
   "version": "3.13.1"
  }
 },
 "nbformat": 4,
 "nbformat_minor": 5
}
