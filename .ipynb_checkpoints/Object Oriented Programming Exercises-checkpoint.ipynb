{
 "cells": [
  {
   "cell_type": "code",
   "execution_count": 58,
   "id": "e5148d20-0322-4082-8dd7-9034a28c445d",
   "metadata": {},
   "outputs": [],
   "source": [
    "class Reptile:\n",
    "    def __init__(self, species, habitat, diet):\n",
    "        self.species = species\n",
    "        self.habitat = habitat\n",
    "        self.diet = diet\n",
    "\n",
    "    def describe(self):\n",
    "        return f\"The {self.species} of Reptile species live in {self.habitat} and eat {self.diet}.\"\n",
    "\n",
    "class Pet(Reptile):\n",
    "    def __init__(self, species, habitat, diet, age, name):\n",
    "        super().__init__(species, habitat, diet)\n",
    "        self.age = age\n",
    "        self.name = name\n",
    "        \n",
    "    def introduce(self):\n",
    "        return f'{self.name} is {self.age} years old. He lives in {self.habitat} and he is {self.species} that feeds on {self.diet}'\n",
    "\n",
    "    def describe(self):\n",
    "        return f\"{self.name} is {species}.\"\n",
    "\n",
    "    def active(self):\n",
    "        if self.name == 'Queen':\n",
    "            return 'relaxed'\n",
    "        else:\n",
    "            return 'lively'\n",
    "\n",
    "\n",
    "\n"
   ]
  },
  {
   "cell_type": "code",
   "execution_count": 61,
   "id": "f019f15d-7286-437c-80ca-fee0507d6fd9",
   "metadata": {},
   "outputs": [],
   "source": [
    "p = Pet('gecko', 'desert', 'insects', 6, 'Gamlae')"
   ]
  },
  {
   "cell_type": "code",
   "execution_count": 64,
   "id": "74fbfa65-f4d7-472a-b5e6-0fac8d641cb0",
   "metadata": {},
   "outputs": [],
   "source": [
    "class Reptile:\n",
    "    def __init__(self, species, habitat, diet):\n",
    "        self.species = species\n",
    "        self._habitat = habitat\n",
    "        self.__diet = diet\n",
    "\n",
    "    def describe(self):\n",
    "        return f\"The {self.species} of Reptile species live in {self.habitat} and eat {self.diet}.\""
   ]
  },
  {
   "cell_type": "code",
   "execution_count": 65,
   "id": "6d8ce9a4-41d7-43a1-83a5-59686126ef97",
   "metadata": {},
   "outputs": [],
   "source": [
    "r = Reptile('crested gecko', 'rainforest', 'insects')"
   ]
  },
  {
   "cell_type": "code",
   "execution_count": 66,
   "id": "7c8c8baa-efe6-461b-8786-6fada7ae545a",
   "metadata": {},
   "outputs": [
    {
     "data": {
      "text/plain": [
       "'crested gecko'"
      ]
     },
     "execution_count": 66,
     "metadata": {},
     "output_type": "execute_result"
    }
   ],
   "source": [
    "r.species"
   ]
  },
  {
   "cell_type": "code",
   "execution_count": 68,
   "id": "0a1e0512-6e9d-4850-a597-d257c5bf5daa",
   "metadata": {},
   "outputs": [
    {
     "data": {
      "text/plain": [
       "'rainforest'"
      ]
     },
     "execution_count": 68,
     "metadata": {},
     "output_type": "execute_result"
    }
   ],
   "source": [
    "r._habitat"
   ]
  },
  {
   "cell_type": "code",
   "execution_count": 69,
   "id": "9f7873f3-0718-43ab-b51a-03b6b4109572",
   "metadata": {},
   "outputs": [
    {
     "ename": "AttributeError",
     "evalue": "'Reptile' object has no attribute '__diet'",
     "output_type": "error",
     "traceback": [
      "\u001b[1;31m---------------------------------------------------------------------------\u001b[0m",
      "\u001b[1;31mAttributeError\u001b[0m                            Traceback (most recent call last)",
      "Cell \u001b[1;32mIn[69], line 1\u001b[0m\n\u001b[1;32m----> 1\u001b[0m r\u001b[38;5;241m.\u001b[39m__diet\n",
      "\u001b[1;31mAttributeError\u001b[0m: 'Reptile' object has no attribute '__diet'"
     ]
    }
   ],
   "source": [
    "r.__diet"
   ]
  },
  {
   "cell_type": "code",
   "execution_count": 73,
   "id": "7157fbc5-e250-4c08-bc40-bffff9de5ca8",
   "metadata": {},
   "outputs": [
    {
     "data": {
      "text/plain": [
       "False"
      ]
     },
     "execution_count": 73,
     "metadata": {},
     "output_type": "execute_result"
    }
   ],
   "source": [
    "hasattr(r, '__diet')"
   ]
  },
  {
   "cell_type": "code",
   "execution_count": null,
   "id": "e1551443-99d4-4b09-9c4b-d921141d540e",
   "metadata": {},
   "outputs": [],
   "source": []
  }
 ],
 "metadata": {
  "kernelspec": {
   "display_name": "Python 3 (ipykernel)",
   "language": "python",
   "name": "python3"
  },
  "language_info": {
   "codemirror_mode": {
    "name": "ipython",
    "version": 3
   },
   "file_extension": ".py",
   "mimetype": "text/x-python",
   "name": "python",
   "nbconvert_exporter": "python",
   "pygments_lexer": "ipython3",
   "version": "3.11.7"
  }
 },
 "nbformat": 4,
 "nbformat_minor": 5
}
