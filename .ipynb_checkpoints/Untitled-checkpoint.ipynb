{
 "cells": [
  {
   "cell_type": "markdown",
   "id": "13f186e3-e4ef-41c2-b8f5-e70074b4fb85",
   "metadata": {},
   "source": [
    "# pandas\n",
    "\n",
    "Pandas contains data structures and data manipulation tools designed to make data cleaning and analysis fast and easy in Python. pandas adopts significant part of NumPy's idiomatic style of array-based computing, especially array-based functions and a preference for data processing without for loops. While pandas adopts many coding idioms from NumPy, the biggest difference is that pandas is designed for working with tabular or heterogeneous data. NumPy, by contrast, is best suited for working with homogeneous numerical array data."
   ]
  },
  {
   "cell_type": "markdown",
   "id": "215fb973-a03a-434d-9c2b-19307f330d46",
   "metadata": {
    "jp-MarkdownHeadingCollapsed": true
   },
   "source": [
    "### Importing pandas"
   ]
  },
  {
   "cell_type": "code",
   "execution_count": 1,
   "id": "ab9e131e-efd5-4aa6-9ca2-5754efbae221",
   "metadata": {},
   "outputs": [],
   "source": [
    "# Import pandas\n",
    "\n",
    "import pandas as pd"
   ]
  },
  {
   "cell_type": "markdown",
   "id": "ff827cd2-e8bf-480a-a481-b4828ece36b7",
   "metadata": {},
   "source": [
    "## Introduction to pandas Data Structures"
   ]
  },
  {
   "cell_type": "markdown",
   "id": "b68d1a5f-283b-4e04-8e75-6540164d6664",
   "metadata": {
    "jp-MarkdownHeadingCollapsed": true
   },
   "source": [
    "### Series\n",
    "\n",
    "A Series is a one-dimensional array-like object containing a sequence of values (of similar types to NumPy types) and an associated array of data labels, called its *index*."
   ]
  },
  {
   "cell_type": "code",
   "execution_count": 2,
   "id": "60627b89-7f80-4c3c-8735-a2410017fff1",
   "metadata": {},
   "outputs": [
    {
     "name": "stdout",
     "output_type": "stream",
     "text": [
      "0    4\n",
      "1    7\n",
      "2   -3\n",
      "3    1\n",
      "dtype: int64\n"
     ]
    }
   ],
   "source": [
    "# The simplest Series is formed from only an array of data\n",
    "# Since we did not speficy an index for the data, a default one consisting of the integers 0 through N-1 is created\n",
    "\n",
    "obj = pd.Series([4,7,-3,1])\n",
    "print(obj)"
   ]
  },
  {
   "cell_type": "code",
   "execution_count": 3,
   "id": "6cd19a34-b9d3-4497-b424-c84f1002245a",
   "metadata": {},
   "outputs": [
    {
     "name": "stdout",
     "output_type": "stream",
     "text": [
      "[ 4  7 -3  1]\n",
      "RangeIndex(start=0, stop=4, step=1)\n"
     ]
    }
   ],
   "source": [
    "# You can get the array representation and index object of the Series via its values and index attributes, respectively\n",
    "\n",
    "print(obj.values)\n",
    "print(obj.index)"
   ]
  },
  {
   "cell_type": "code",
   "execution_count": 4,
   "id": "81343b86-45bb-4103-a8ff-3061ef603b10",
   "metadata": {},
   "outputs": [
    {
     "name": "stdout",
     "output_type": "stream",
     "text": [
      "b    2\n",
      "a    4\n",
      "c    6\n",
      "d    8\n",
      "dtype: int64\n"
     ]
    }
   ],
   "source": [
    "# Often it will be desirable to create a Series with an index identifying each data point with a label\n",
    "\n",
    "obj2 = pd.Series([2,4,6,8], index=['b','a','c','d'])\n",
    "print(obj2)"
   ]
  },
  {
   "cell_type": "code",
   "execution_count": 5,
   "id": "303b400a-f6a6-4ed6-8764-9e272576613e",
   "metadata": {},
   "outputs": [
    {
     "name": "stdout",
     "output_type": "stream",
     "text": [
      "4\n",
      "a    4\n",
      "c    6\n",
      "dtype: int64\n"
     ]
    }
   ],
   "source": [
    "# Compared with NumPy arrays, you can use labels in the index when selecting single values or a set of values\n",
    "\n",
    "print(obj2['a'])\n",
    "print(obj2[['a', 'c']])"
   ]
  },
  {
   "cell_type": "code",
   "execution_count": 6,
   "id": "66f7d31a-cdb8-408d-a981-2c98d2cf6eff",
   "metadata": {},
   "outputs": [
    {
     "name": "stdout",
     "output_type": "stream",
     "text": [
      "a    4\n",
      "c    6\n",
      "d    8\n",
      "dtype: int64\n",
      "\n",
      "b    20\n",
      "a    40\n",
      "c    60\n",
      "d    80\n",
      "dtype: int64\n",
      "\n",
      "b       7.389056\n",
      "a      54.598150\n",
      "c     403.428793\n",
      "d    2980.957987\n",
      "dtype: float64\n"
     ]
    }
   ],
   "source": [
    "# Using NumPy functions or NumPy-like operations, such as filtering with a boolean array, scalar multiplication, \n",
    "# or applying math functions, will preserve the index-value link\n",
    "\n",
    "import numpy as np\n",
    "\n",
    "print(obj2[obj2>2])\n",
    "print(f\"\\n{obj2*10}\")\n",
    "print(f\"\\n{np.exp(obj2)}\")"
   ]
  },
  {
   "cell_type": "code",
   "execution_count": 7,
   "id": "ff5f8d9d-427d-4eec-b551-117d36d95500",
   "metadata": {},
   "outputs": [
    {
     "name": "stdout",
     "output_type": "stream",
     "text": [
      "True\n",
      "False\n"
     ]
    }
   ],
   "source": [
    "# Another way to think about a Series is as a fixed-length, ordered dict, as it is a mapping of index values to data values.\n",
    "# It can be used in many contexts where you might use a dict such as finding if an index exists (key in a dictionary)\n",
    "\n",
    "print('b' in obj2)\n",
    "print(4 in obj2)"
   ]
  },
  {
   "cell_type": "code",
   "execution_count": 8,
   "id": "49e04272-b846-4431-a464-a68aec4d8637",
   "metadata": {},
   "outputs": [
    {
     "name": "stdout",
     "output_type": "stream",
     "text": [
      "Seoul      1000000\n",
      "Busan       700000\n",
      "Daegu       200000\n",
      "Bucheon     100000\n",
      "dtype: int64\n"
     ]
    }
   ],
   "source": [
    "# You can also pass in a dictionary to create a pandas Series. The dictionary keys become Series index\n",
    "\n",
    "cdata = {'Seoul':1000000, 'Busan': 700000, 'Daegu':200000, 'Bucheon':100000}\n",
    "obj3 = pd.Series(cdata)\n",
    "print(obj3)"
   ]
  },
  {
   "cell_type": "code",
   "execution_count": 9,
   "id": "78f2e1f1-c9cd-449e-93da-4ea2b33742b0",
   "metadata": {},
   "outputs": [
    {
     "name": "stdout",
     "output_type": "stream",
     "text": [
      "My Series , Cities\n"
     ]
    }
   ],
   "source": [
    "# Both the Series object itself and its index have a name attributes, which itegrates with other key areas of pandas functionality\n",
    "\n",
    "obj3.name = 'My Series'\n",
    "obj3.index.name = 'Cities'\n",
    "\n",
    "print(obj3.name,',', obj3.index.name)"
   ]
  },
  {
   "cell_type": "code",
   "execution_count": 10,
   "id": "ba44efdb-5dd0-4dad-835f-4bc7f7114590",
   "metadata": {},
   "outputs": [
    {
     "name": "stdout",
     "output_type": "stream",
     "text": [
      "Index(['Seoul', 'Busan', 'Daegu', 'Gyeongsan'], dtype='object')\n"
     ]
    }
   ],
   "source": [
    "# A Series's index can be altered in-place by assignment\n",
    "\n",
    "obj3.index = ['Seoul', 'Busan', 'Daegu', 'Gyeongsan']\n",
    "print(obj3.index)"
   ]
  },
  {
   "cell_type": "markdown",
   "id": "7a5bdf18-8eaf-456e-be0a-8341ecbfac3c",
   "metadata": {
    "jp-MarkdownHeadingCollapsed": true
   },
   "source": [
    "### DataFrame\n",
    "\n",
    "A DataFrame represents a rectangular table of data and contains an ordered collection of columns, each of which can be a different value type (numeric, string, boolean, etc.). The DataFrame has both a row and column index."
   ]
  },
  {
   "cell_type": "code",
   "execution_count": 11,
   "id": "ba448029-1137-409c-abf7-1a6d93a7120f",
   "metadata": {},
   "outputs": [
    {
     "data": {
      "text/html": [
       "<div>\n",
       "<style scoped>\n",
       "    .dataframe tbody tr th:only-of-type {\n",
       "        vertical-align: middle;\n",
       "    }\n",
       "\n",
       "    .dataframe tbody tr th {\n",
       "        vertical-align: top;\n",
       "    }\n",
       "\n",
       "    .dataframe thead th {\n",
       "        text-align: right;\n",
       "    }\n",
       "</style>\n",
       "<table border=\"1\" class=\"dataframe\">\n",
       "  <thead>\n",
       "    <tr style=\"text-align: right;\">\n",
       "      <th></th>\n",
       "      <th>city</th>\n",
       "      <th>year</th>\n",
       "      <th>pop</th>\n",
       "    </tr>\n",
       "  </thead>\n",
       "  <tbody>\n",
       "    <tr>\n",
       "      <th>0</th>\n",
       "      <td>Seoul</td>\n",
       "      <td>1991</td>\n",
       "      <td>3.2</td>\n",
       "    </tr>\n",
       "    <tr>\n",
       "      <th>1</th>\n",
       "      <td>Bucheon</td>\n",
       "      <td>1968</td>\n",
       "      <td>1.0</td>\n",
       "    </tr>\n",
       "    <tr>\n",
       "      <th>2</th>\n",
       "      <td>Gyeongsan</td>\n",
       "      <td>1988</td>\n",
       "      <td>0.5</td>\n",
       "    </tr>\n",
       "    <tr>\n",
       "      <th>3</th>\n",
       "      <td>Daegu</td>\n",
       "      <td>1995</td>\n",
       "      <td>2.0</td>\n",
       "    </tr>\n",
       "    <tr>\n",
       "      <th>4</th>\n",
       "      <td>Jecheon</td>\n",
       "      <td>2022</td>\n",
       "      <td>0.2</td>\n",
       "    </tr>\n",
       "  </tbody>\n",
       "</table>\n",
       "</div>"
      ],
      "text/plain": [
       "        city  year  pop\n",
       "0      Seoul  1991  3.2\n",
       "1    Bucheon  1968  1.0\n",
       "2  Gyeongsan  1988  0.5\n",
       "3      Daegu  1995  2.0\n",
       "4    Jecheon  2022  0.2"
      ]
     },
     "execution_count": 11,
     "metadata": {},
     "output_type": "execute_result"
    }
   ],
   "source": [
    "# There are many ways to construct a DataFrame, though one of the most common is from a dict of equal-length lists\n",
    "# or NumPy arrays\n",
    "\n",
    "# Dictionary of lists\n",
    "data = {'city': ['Seoul', 'Bucheon', 'Gyeongsan', 'Daegu', 'Jecheon'], \n",
    "       'year': [1991, 1968, 1988, 1995, 2022], \n",
    "       'pop': [3.2, 1.0, 0.5, 2.0, 0.2]}\n",
    "df = pd.DataFrame(data)\n",
    "df"
   ]
  },
  {
   "cell_type": "code",
   "execution_count": 12,
   "id": "efc83202-c33c-488e-ad3b-0f9ff3c2fe31",
   "metadata": {},
   "outputs": [
    {
     "data": {
      "text/html": [
       "<div>\n",
       "<style scoped>\n",
       "    .dataframe tbody tr th:only-of-type {\n",
       "        vertical-align: middle;\n",
       "    }\n",
       "\n",
       "    .dataframe tbody tr th {\n",
       "        vertical-align: top;\n",
       "    }\n",
       "\n",
       "    .dataframe thead th {\n",
       "        text-align: right;\n",
       "    }\n",
       "</style>\n",
       "<table border=\"1\" class=\"dataframe\">\n",
       "  <thead>\n",
       "    <tr style=\"text-align: right;\">\n",
       "      <th></th>\n",
       "      <th>city</th>\n",
       "      <th>year</th>\n",
       "      <th>pop</th>\n",
       "    </tr>\n",
       "  </thead>\n",
       "  <tbody>\n",
       "    <tr>\n",
       "      <th>0</th>\n",
       "      <td>Seoul</td>\n",
       "      <td>1991</td>\n",
       "      <td>3.2</td>\n",
       "    </tr>\n",
       "    <tr>\n",
       "      <th>1</th>\n",
       "      <td>Bucheon</td>\n",
       "      <td>1968</td>\n",
       "      <td>1.0</td>\n",
       "    </tr>\n",
       "  </tbody>\n",
       "</table>\n",
       "</div>"
      ],
      "text/plain": [
       "      city  year  pop\n",
       "0    Seoul  1991  3.2\n",
       "1  Bucheon  1968  1.0"
      ]
     },
     "execution_count": 12,
     "metadata": {},
     "output_type": "execute_result"
    }
   ],
   "source": [
    "# For large DataFrames, the head method selects only the first five rows\n",
    "\n",
    "df.head(2)"
   ]
  },
  {
   "cell_type": "code",
   "execution_count": 13,
   "id": "16c00178-5c0e-4a3d-bd0d-24ecfd66af76",
   "metadata": {},
   "outputs": [
    {
     "data": {
      "text/html": [
       "<div>\n",
       "<style scoped>\n",
       "    .dataframe tbody tr th:only-of-type {\n",
       "        vertical-align: middle;\n",
       "    }\n",
       "\n",
       "    .dataframe tbody tr th {\n",
       "        vertical-align: top;\n",
       "    }\n",
       "\n",
       "    .dataframe thead th {\n",
       "        text-align: right;\n",
       "    }\n",
       "</style>\n",
       "<table border=\"1\" class=\"dataframe\">\n",
       "  <thead>\n",
       "    <tr style=\"text-align: right;\">\n",
       "      <th></th>\n",
       "      <th>pop</th>\n",
       "      <th>city</th>\n",
       "      <th>year</th>\n",
       "    </tr>\n",
       "  </thead>\n",
       "  <tbody>\n",
       "    <tr>\n",
       "      <th>0</th>\n",
       "      <td>3.2</td>\n",
       "      <td>Seoul</td>\n",
       "      <td>1991</td>\n",
       "    </tr>\n",
       "    <tr>\n",
       "      <th>1</th>\n",
       "      <td>1.0</td>\n",
       "      <td>Bucheon</td>\n",
       "      <td>1968</td>\n",
       "    </tr>\n",
       "    <tr>\n",
       "      <th>2</th>\n",
       "      <td>0.5</td>\n",
       "      <td>Gyeongsan</td>\n",
       "      <td>1988</td>\n",
       "    </tr>\n",
       "    <tr>\n",
       "      <th>3</th>\n",
       "      <td>2.0</td>\n",
       "      <td>Daegu</td>\n",
       "      <td>1995</td>\n",
       "    </tr>\n",
       "    <tr>\n",
       "      <th>4</th>\n",
       "      <td>0.2</td>\n",
       "      <td>Jecheon</td>\n",
       "      <td>2022</td>\n",
       "    </tr>\n",
       "  </tbody>\n",
       "</table>\n",
       "</div>"
      ],
      "text/plain": [
       "   pop       city  year\n",
       "0  3.2      Seoul  1991\n",
       "1  1.0    Bucheon  1968\n",
       "2  0.5  Gyeongsan  1988\n",
       "3  2.0      Daegu  1995\n",
       "4  0.2    Jecheon  2022"
      ]
     },
     "execution_count": 13,
     "metadata": {},
     "output_type": "execute_result"
    }
   ],
   "source": [
    "# If you specify a sequence of columns, the DataFrame's columns will be arranged in that order\n",
    "\n",
    "df = pd.DataFrame(data, columns=['pop', 'city', 'year'])\n",
    "df"
   ]
  },
  {
   "cell_type": "code",
   "execution_count": 14,
   "id": "eb16b6d3-6b10-4089-a3bf-254c7e4a9620",
   "metadata": {},
   "outputs": [
    {
     "data": {
      "text/plain": [
       "0        Seoul\n",
       "1      Bucheon\n",
       "2    Gyeongsan\n",
       "3        Daegu\n",
       "4      Jecheon\n",
       "Name: city, dtype: object"
      ]
     },
     "execution_count": 14,
     "metadata": {},
     "output_type": "execute_result"
    }
   ],
   "source": [
    "# A column in a DataFrame can be retrieved as a Series by dict-like notation\n",
    "\n",
    "df['city']"
   ]
  },
  {
   "cell_type": "code",
   "execution_count": 15,
   "id": "9fae2530-f97d-4389-851c-5e7210e196ae",
   "metadata": {},
   "outputs": [
    {
     "data": {
      "text/plain": [
       "pop       3.2\n",
       "city    Seoul\n",
       "year     1991\n",
       "Name: 0, dtype: object"
      ]
     },
     "execution_count": 15,
     "metadata": {},
     "output_type": "execute_result"
    }
   ],
   "source": [
    "# Rows can also be retrieved by position or name with the special loc attribute (much more on this later)\n",
    "# This returns a pandas Series with column names as indices\n",
    "\n",
    "df.loc[0]"
   ]
  },
  {
   "cell_type": "code",
   "execution_count": 16,
   "id": "618c8f5e-5196-47b7-9d25-96203e861d34",
   "metadata": {},
   "outputs": [
    {
     "data": {
      "text/html": [
       "<div>\n",
       "<style scoped>\n",
       "    .dataframe tbody tr th:only-of-type {\n",
       "        vertical-align: middle;\n",
       "    }\n",
       "\n",
       "    .dataframe tbody tr th {\n",
       "        vertical-align: top;\n",
       "    }\n",
       "\n",
       "    .dataframe thead th {\n",
       "        text-align: right;\n",
       "    }\n",
       "</style>\n",
       "<table border=\"1\" class=\"dataframe\">\n",
       "  <thead>\n",
       "    <tr style=\"text-align: right;\">\n",
       "      <th></th>\n",
       "      <th>pop</th>\n",
       "      <th>city</th>\n",
       "      <th>year</th>\n",
       "      <th>debt</th>\n",
       "    </tr>\n",
       "  </thead>\n",
       "  <tbody>\n",
       "    <tr>\n",
       "      <th>0</th>\n",
       "      <td>3.2</td>\n",
       "      <td>Seoul</td>\n",
       "      <td>1991</td>\n",
       "      <td>16.5</td>\n",
       "    </tr>\n",
       "    <tr>\n",
       "      <th>1</th>\n",
       "      <td>1.0</td>\n",
       "      <td>Bucheon</td>\n",
       "      <td>1968</td>\n",
       "      <td>16.5</td>\n",
       "    </tr>\n",
       "    <tr>\n",
       "      <th>2</th>\n",
       "      <td>0.5</td>\n",
       "      <td>Gyeongsan</td>\n",
       "      <td>1988</td>\n",
       "      <td>16.5</td>\n",
       "    </tr>\n",
       "    <tr>\n",
       "      <th>3</th>\n",
       "      <td>2.0</td>\n",
       "      <td>Daegu</td>\n",
       "      <td>1995</td>\n",
       "      <td>16.5</td>\n",
       "    </tr>\n",
       "    <tr>\n",
       "      <th>4</th>\n",
       "      <td>0.2</td>\n",
       "      <td>Jecheon</td>\n",
       "      <td>2022</td>\n",
       "      <td>16.5</td>\n",
       "    </tr>\n",
       "  </tbody>\n",
       "</table>\n",
       "</div>"
      ],
      "text/plain": [
       "   pop       city  year  debt\n",
       "0  3.2      Seoul  1991  16.5\n",
       "1  1.0    Bucheon  1968  16.5\n",
       "2  0.5  Gyeongsan  1988  16.5\n",
       "3  2.0      Daegu  1995  16.5\n",
       "4  0.2    Jecheon  2022  16.5"
      ]
     },
     "execution_count": 16,
     "metadata": {},
     "output_type": "execute_result"
    }
   ],
   "source": [
    "# Columns can be modified by assignment. For example, the empty 'debt' column could be assigned a scalar value or an array of values\n",
    "\n",
    "df['debt'] = None\n",
    "df['debt'] = 16.5\n",
    "df"
   ]
  },
  {
   "cell_type": "code",
   "execution_count": 17,
   "id": "32569602-8440-4e16-9ab1-aeb5aad6dd0d",
   "metadata": {},
   "outputs": [
    {
     "data": {
      "text/html": [
       "<div>\n",
       "<style scoped>\n",
       "    .dataframe tbody tr th:only-of-type {\n",
       "        vertical-align: middle;\n",
       "    }\n",
       "\n",
       "    .dataframe tbody tr th {\n",
       "        vertical-align: top;\n",
       "    }\n",
       "\n",
       "    .dataframe thead th {\n",
       "        text-align: right;\n",
       "    }\n",
       "</style>\n",
       "<table border=\"1\" class=\"dataframe\">\n",
       "  <thead>\n",
       "    <tr style=\"text-align: right;\">\n",
       "      <th></th>\n",
       "      <th>pop</th>\n",
       "      <th>city</th>\n",
       "      <th>year</th>\n",
       "      <th>debt</th>\n",
       "    </tr>\n",
       "  </thead>\n",
       "  <tbody>\n",
       "    <tr>\n",
       "      <th>0</th>\n",
       "      <td>3.2</td>\n",
       "      <td>Seoul</td>\n",
       "      <td>1991</td>\n",
       "      <td>1</td>\n",
       "    </tr>\n",
       "    <tr>\n",
       "      <th>1</th>\n",
       "      <td>1.0</td>\n",
       "      <td>Bucheon</td>\n",
       "      <td>1968</td>\n",
       "      <td>2</td>\n",
       "    </tr>\n",
       "    <tr>\n",
       "      <th>2</th>\n",
       "      <td>0.5</td>\n",
       "      <td>Gyeongsan</td>\n",
       "      <td>1988</td>\n",
       "      <td>3</td>\n",
       "    </tr>\n",
       "    <tr>\n",
       "      <th>3</th>\n",
       "      <td>2.0</td>\n",
       "      <td>Daegu</td>\n",
       "      <td>1995</td>\n",
       "      <td>4</td>\n",
       "    </tr>\n",
       "    <tr>\n",
       "      <th>4</th>\n",
       "      <td>0.2</td>\n",
       "      <td>Jecheon</td>\n",
       "      <td>2022</td>\n",
       "      <td>5</td>\n",
       "    </tr>\n",
       "  </tbody>\n",
       "</table>\n",
       "</div>"
      ],
      "text/plain": [
       "   pop       city  year  debt\n",
       "0  3.2      Seoul  1991     1\n",
       "1  1.0    Bucheon  1968     2\n",
       "2  0.5  Gyeongsan  1988     3\n",
       "3  2.0      Daegu  1995     4\n",
       "4  0.2    Jecheon  2022     5"
      ]
     },
     "execution_count": 17,
     "metadata": {},
     "output_type": "execute_result"
    }
   ],
   "source": [
    "# Columns can be modified by assignment. For example, the empty 'debt' column could be assigned a scalar value or an array of values\n",
    "# The value's length must match the length of the DataFrame\n",
    "\n",
    "ls = [n for n in range(1, len(df)+1)]\n",
    "\n",
    "df['debt'] = ls\n",
    "df"
   ]
  },
  {
   "cell_type": "code",
   "execution_count": 18,
   "id": "2eda3ccb-1dc9-4593-9092-5353b95688e3",
   "metadata": {},
   "outputs": [
    {
     "data": {
      "text/html": [
       "<div>\n",
       "<style scoped>\n",
       "    .dataframe tbody tr th:only-of-type {\n",
       "        vertical-align: middle;\n",
       "    }\n",
       "\n",
       "    .dataframe tbody tr th {\n",
       "        vertical-align: top;\n",
       "    }\n",
       "\n",
       "    .dataframe thead th {\n",
       "        text-align: right;\n",
       "    }\n",
       "</style>\n",
       "<table border=\"1\" class=\"dataframe\">\n",
       "  <thead>\n",
       "    <tr style=\"text-align: right;\">\n",
       "      <th></th>\n",
       "      <th>pop</th>\n",
       "      <th>city</th>\n",
       "      <th>year</th>\n",
       "      <th>debt</th>\n",
       "    </tr>\n",
       "  </thead>\n",
       "  <tbody>\n",
       "    <tr>\n",
       "      <th>0</th>\n",
       "      <td>3.2</td>\n",
       "      <td>Seoul</td>\n",
       "      <td>1991</td>\n",
       "      <td>1.0</td>\n",
       "    </tr>\n",
       "    <tr>\n",
       "      <th>1</th>\n",
       "      <td>1.0</td>\n",
       "      <td>Bucheon</td>\n",
       "      <td>1968</td>\n",
       "      <td>NaN</td>\n",
       "    </tr>\n",
       "    <tr>\n",
       "      <th>2</th>\n",
       "      <td>0.5</td>\n",
       "      <td>Gyeongsan</td>\n",
       "      <td>1988</td>\n",
       "      <td>5.0</td>\n",
       "    </tr>\n",
       "    <tr>\n",
       "      <th>3</th>\n",
       "      <td>2.0</td>\n",
       "      <td>Daegu</td>\n",
       "      <td>1995</td>\n",
       "      <td>3.0</td>\n",
       "    </tr>\n",
       "    <tr>\n",
       "      <th>4</th>\n",
       "      <td>0.2</td>\n",
       "      <td>Jecheon</td>\n",
       "      <td>2022</td>\n",
       "      <td>NaN</td>\n",
       "    </tr>\n",
       "  </tbody>\n",
       "</table>\n",
       "</div>"
      ],
      "text/plain": [
       "   pop       city  year  debt\n",
       "0  3.2      Seoul  1991   1.0\n",
       "1  1.0    Bucheon  1968   NaN\n",
       "2  0.5  Gyeongsan  1988   5.0\n",
       "3  2.0      Daegu  1995   3.0\n",
       "4  0.2    Jecheon  2022   NaN"
      ]
     },
     "execution_count": 18,
     "metadata": {},
     "output_type": "execute_result"
    }
   ],
   "source": [
    "# If you assign a Series, its labels will be realigned exactly to the DataFrame's index, inserting missing values in any holes\n",
    "\n",
    "sr = pd.Series([1, 5, 3, 4], index=[0, 2, 3, 5])\n",
    "df['debt'] = sr\n",
    "df"
   ]
  },
  {
   "cell_type": "code",
   "execution_count": 19,
   "id": "a6572bb2-2267-446f-8d12-37b65e4a65a4",
   "metadata": {},
   "outputs": [
    {
     "data": {
      "text/html": [
       "<div>\n",
       "<style scoped>\n",
       "    .dataframe tbody tr th:only-of-type {\n",
       "        vertical-align: middle;\n",
       "    }\n",
       "\n",
       "    .dataframe tbody tr th {\n",
       "        vertical-align: top;\n",
       "    }\n",
       "\n",
       "    .dataframe thead th {\n",
       "        text-align: right;\n",
       "    }\n",
       "</style>\n",
       "<table border=\"1\" class=\"dataframe\">\n",
       "  <thead>\n",
       "    <tr style=\"text-align: right;\">\n",
       "      <th></th>\n",
       "      <th>pop</th>\n",
       "      <th>city</th>\n",
       "      <th>year</th>\n",
       "    </tr>\n",
       "  </thead>\n",
       "  <tbody>\n",
       "    <tr>\n",
       "      <th>0</th>\n",
       "      <td>3.2</td>\n",
       "      <td>Seoul</td>\n",
       "      <td>1991</td>\n",
       "    </tr>\n",
       "    <tr>\n",
       "      <th>1</th>\n",
       "      <td>1.0</td>\n",
       "      <td>Bucheon</td>\n",
       "      <td>1968</td>\n",
       "    </tr>\n",
       "    <tr>\n",
       "      <th>2</th>\n",
       "      <td>0.5</td>\n",
       "      <td>Gyeongsan</td>\n",
       "      <td>1988</td>\n",
       "    </tr>\n",
       "    <tr>\n",
       "      <th>3</th>\n",
       "      <td>2.0</td>\n",
       "      <td>Daegu</td>\n",
       "      <td>1995</td>\n",
       "    </tr>\n",
       "    <tr>\n",
       "      <th>4</th>\n",
       "      <td>0.2</td>\n",
       "      <td>Jecheon</td>\n",
       "      <td>2022</td>\n",
       "    </tr>\n",
       "  </tbody>\n",
       "</table>\n",
       "</div>"
      ],
      "text/plain": [
       "   pop       city  year\n",
       "0  3.2      Seoul  1991\n",
       "1  1.0    Bucheon  1968\n",
       "2  0.5  Gyeongsan  1988\n",
       "3  2.0      Daegu  1995\n",
       "4  0.2    Jecheon  2022"
      ]
     },
     "execution_count": 19,
     "metadata": {},
     "output_type": "execute_result"
    }
   ],
   "source": [
    "# The del keyword will delete columns as with a dict\n",
    "\n",
    "del df['debt']\n",
    "df"
   ]
  },
  {
   "cell_type": "code",
   "execution_count": 20,
   "id": "b4e6051e-041f-429a-b26f-c8d56fcfddd9",
   "metadata": {},
   "outputs": [
    {
     "data": {
      "text/html": [
       "<div>\n",
       "<style scoped>\n",
       "    .dataframe tbody tr th:only-of-type {\n",
       "        vertical-align: middle;\n",
       "    }\n",
       "\n",
       "    .dataframe tbody tr th {\n",
       "        vertical-align: top;\n",
       "    }\n",
       "\n",
       "    .dataframe thead th {\n",
       "        text-align: right;\n",
       "    }\n",
       "</style>\n",
       "<table border=\"1\" class=\"dataframe\">\n",
       "  <thead>\n",
       "    <tr style=\"text-align: right;\">\n",
       "      <th></th>\n",
       "      <th>Seoul</th>\n",
       "      <th>Bucheon</th>\n",
       "    </tr>\n",
       "  </thead>\n",
       "  <tbody>\n",
       "    <tr>\n",
       "      <th>2001</th>\n",
       "      <td>3.0</td>\n",
       "      <td>1.5</td>\n",
       "    </tr>\n",
       "    <tr>\n",
       "      <th>2002</th>\n",
       "      <td>4.0</td>\n",
       "      <td>1.7</td>\n",
       "    </tr>\n",
       "    <tr>\n",
       "      <th>2003</th>\n",
       "      <td>4.5</td>\n",
       "      <td>NaN</td>\n",
       "    </tr>\n",
       "  </tbody>\n",
       "</table>\n",
       "</div>"
      ],
      "text/plain": [
       "      Seoul  Bucheon\n",
       "2001    3.0      1.5\n",
       "2002    4.0      1.7\n",
       "2003    4.5      NaN"
      ]
     },
     "execution_count": 20,
     "metadata": {},
     "output_type": "execute_result"
    }
   ],
   "source": [
    "# Another common form of data is a nested dict of dicts\n",
    "# If the nested dict is passed to the DataFrame, pandas will interpret the outer dict keys as the columns and the inner keys as the row indices\n",
    "\n",
    "pop = {'Seoul': {2001: 3.0, 2002: 4.0, 2003: 4.5}, \n",
    "      'Bucheon': {2001: 1.5, 2002: 1.7}}\n",
    "df1 = pd.DataFrame(pop)\n",
    "df1"
   ]
  },
  {
   "cell_type": "code",
   "execution_count": 21,
   "id": "2adfda0f-88a8-40cc-b38f-923eccf9ee33",
   "metadata": {},
   "outputs": [
    {
     "data": {
      "text/html": [
       "<div>\n",
       "<style scoped>\n",
       "    .dataframe tbody tr th:only-of-type {\n",
       "        vertical-align: middle;\n",
       "    }\n",
       "\n",
       "    .dataframe tbody tr th {\n",
       "        vertical-align: top;\n",
       "    }\n",
       "\n",
       "    .dataframe thead th {\n",
       "        text-align: right;\n",
       "    }\n",
       "</style>\n",
       "<table border=\"1\" class=\"dataframe\">\n",
       "  <thead>\n",
       "    <tr style=\"text-align: right;\">\n",
       "      <th></th>\n",
       "      <th>0</th>\n",
       "      <th>1</th>\n",
       "      <th>2</th>\n",
       "      <th>3</th>\n",
       "      <th>4</th>\n",
       "    </tr>\n",
       "  </thead>\n",
       "  <tbody>\n",
       "    <tr>\n",
       "      <th>pop</th>\n",
       "      <td>3.2</td>\n",
       "      <td>1.0</td>\n",
       "      <td>0.5</td>\n",
       "      <td>2.0</td>\n",
       "      <td>0.2</td>\n",
       "    </tr>\n",
       "    <tr>\n",
       "      <th>city</th>\n",
       "      <td>Seoul</td>\n",
       "      <td>Bucheon</td>\n",
       "      <td>Gyeongsan</td>\n",
       "      <td>Daegu</td>\n",
       "      <td>Jecheon</td>\n",
       "    </tr>\n",
       "    <tr>\n",
       "      <th>year</th>\n",
       "      <td>1991</td>\n",
       "      <td>1968</td>\n",
       "      <td>1988</td>\n",
       "      <td>1995</td>\n",
       "      <td>2022</td>\n",
       "    </tr>\n",
       "  </tbody>\n",
       "</table>\n",
       "</div>"
      ],
      "text/plain": [
       "          0        1          2      3        4\n",
       "pop     3.2      1.0        0.5    2.0      0.2\n",
       "city  Seoul  Bucheon  Gyeongsan  Daegu  Jecheon\n",
       "year   1991     1968       1988   1995     2022"
      ]
     },
     "execution_count": 21,
     "metadata": {},
     "output_type": "execute_result"
    }
   ],
   "source": [
    "# You can transpose the DataFrame (swap rows and columns) with similar syntax to a NumPy array\n",
    "\n",
    "df.T"
   ]
  },
  {
   "cell_type": "code",
   "execution_count": 22,
   "id": "50584b0f-e5c8-4dcc-a119-22d2e6b91596",
   "metadata": {},
   "outputs": [
    {
     "name": "stdout",
     "output_type": "stream",
     "text": [
      "Index([2001, 2002, 2003], dtype='int64', name='yr')\n",
      "Index(['Seoul', 'Bucheon'], dtype='object', name='city')\n"
     ]
    }
   ],
   "source": [
    "# If a DataFrame's index and columns have their name attributes set, these will also be displayed\n",
    "\n",
    "df1.index.name = 'yr'\n",
    "df1.columns.name = 'city'\n",
    "\n",
    "print(df1.index)\n",
    "print(df1.columns)\n"
   ]
  },
  {
   "cell_type": "code",
   "execution_count": 23,
   "id": "c8252229-91c3-479a-a794-40b13583771f",
   "metadata": {},
   "outputs": [
    {
     "data": {
      "text/plain": [
       "array([[3.2, 'Seoul', 1991],\n",
       "       [1.0, 'Bucheon', 1968],\n",
       "       [0.5, 'Gyeongsan', 1988],\n",
       "       [2.0, 'Daegu', 1995],\n",
       "       [0.2, 'Jecheon', 2022]], dtype=object)"
      ]
     },
     "execution_count": 23,
     "metadata": {},
     "output_type": "execute_result"
    }
   ],
   "source": [
    "# As with Series, the values attribute returns the data contained in the DataFrame as a two-dimensional ndarray\n",
    "\n",
    "df.values"
   ]
  },
  {
   "cell_type": "markdown",
   "id": "801a5ef1-93f8-41e7-b6cc-2aa07efad1f0",
   "metadata": {},
   "source": [
    "### Essential Functionality"
   ]
  },
  {
   "cell_type": "markdown",
   "id": "f6f64993-79fa-4323-a00d-e5102f2a3e42",
   "metadata": {},
   "source": [
    "#### Reindexing\n",
    "\n",
    "An important method on pandas objects is reindex, which means to create a new object with the data conformed to a new index."
   ]
  },
  {
   "cell_type": "code",
   "execution_count": 24,
   "id": "16f022a1-6d39-4e52-a7e6-28b909e624f1",
   "metadata": {},
   "outputs": [
    {
     "name": "stdout",
     "output_type": "stream",
     "text": [
      "e    5\n",
      "d    3\n",
      "c    6\n",
      "b    1\n",
      "a    2\n",
      "dtype: int64\n"
     ]
    }
   ],
   "source": [
    "# Consider this example\n",
    "\n",
    "obj = pd.Series([5,3,6,1,2], index=['e', 'd', 'c', 'b', 'a'])\n",
    "print(obj)"
   ]
  },
  {
   "cell_type": "code",
   "execution_count": 25,
   "id": "606fea76-ff07-4c8e-8a73-5d83163be3d8",
   "metadata": {},
   "outputs": [
    {
     "name": "stdout",
     "output_type": "stream",
     "text": [
      "a    5\n",
      "b    3\n",
      "c    6\n",
      "d    1\n",
      "e    2\n",
      "dtype: int64\n"
     ]
    }
   ],
   "source": [
    "# Calling index on this Series rearranges the data according to the new index\n",
    "\n",
    "obj.index = ['a', 'b', 'c', 'd', 'e']\n",
    "print(obj)"
   ]
  },
  {
   "cell_type": "code",
   "execution_count": 26,
   "id": "d7f26e80-03a8-4720-a832-5571e951129c",
   "metadata": {},
   "outputs": [
    {
     "name": "stdout",
     "output_type": "stream",
     "text": [
      "0      blue\n",
      "1      blue\n",
      "2    purple\n",
      "3    purple\n",
      "4    yellow\n",
      "5    yellow\n",
      "dtype: object\n"
     ]
    }
   ],
   "source": [
    "# For ordered data like time series, it may be desirable to do some iterpolation or filling of values when reindexing.\n",
    "# The method option allows us to do this, using a method such as ffill, which forward-fills the values\n",
    "\n",
    "obj3 = pd.Series(['blue', 'purple', 'yellow'], index=[0,2,4])\n",
    "obj3 = obj3.reindex(range(6), method='ffill')\n",
    "print(obj3)"
   ]
  },
  {
   "cell_type": "code",
   "execution_count": 27,
   "id": "9fa49645-4067-478a-95c8-cde6e0229a42",
   "metadata": {},
   "outputs": [
    {
     "name": "stdout",
     "output_type": "stream",
     "text": [
      "0    5\n",
      "1    3\n",
      "2    6\n",
      "3    1\n",
      "4    2\n",
      "dtype: int64\n"
     ]
    }
   ],
   "source": [
    "# We can also reset the index to default value. The drop parameter determines whether the current index will be dropped.\n",
    "# inplace parameter determines whether the change will apply to the existing Series\n",
    "\n",
    "obj.reset_index(drop=True, inplace=True)\n",
    "print(obj)"
   ]
  },
  {
   "cell_type": "code",
   "execution_count": 28,
   "id": "66d79c44-7948-4626-8398-d85806bb9e97",
   "metadata": {},
   "outputs": [
    {
     "name": "stdout",
     "output_type": "stream",
     "text": [
      "   pop       city  year\n",
      "0  3.2      Seoul  1991\n",
      "1  1.0    Bucheon  1968\n",
      "2  0.5  Gyeongsan  1988\n",
      "3  2.0      Daegu  1995\n",
      "4  0.2    Jecheon  2022\n",
      "\n",
      "   pop       city  year\n",
      "1  3.2      Seoul  1991\n",
      "2  1.0    Bucheon  1968\n",
      "3  0.5  Gyeongsan  1988\n",
      "4  2.0      Daegu  1995\n",
      "5  0.2    Jecheon  2022\n"
     ]
    }
   ],
   "source": [
    "# With DataFrame, the index method can alter the (row) index.\n",
    "\n",
    "print(df)\n",
    "print()\n",
    "df.index = [1,2,3,4,5]\n",
    "print(df)"
   ]
  },
  {
   "cell_type": "code",
   "execution_count": 29,
   "id": "4680fe95-a6aa-4ecc-bde1-15397bcda6cf",
   "metadata": {},
   "outputs": [
    {
     "data": {
      "text/html": [
       "<div>\n",
       "<style scoped>\n",
       "    .dataframe tbody tr th:only-of-type {\n",
       "        vertical-align: middle;\n",
       "    }\n",
       "\n",
       "    .dataframe tbody tr th {\n",
       "        vertical-align: top;\n",
       "    }\n",
       "\n",
       "    .dataframe thead th {\n",
       "        text-align: right;\n",
       "    }\n",
       "</style>\n",
       "<table border=\"1\" class=\"dataframe\">\n",
       "  <thead>\n",
       "    <tr style=\"text-align: right;\">\n",
       "      <th></th>\n",
       "      <th>pop</th>\n",
       "      <th>year</th>\n",
       "    </tr>\n",
       "    <tr>\n",
       "      <th>city</th>\n",
       "      <th></th>\n",
       "      <th></th>\n",
       "    </tr>\n",
       "  </thead>\n",
       "  <tbody>\n",
       "    <tr>\n",
       "      <th>Seoul</th>\n",
       "      <td>3.2</td>\n",
       "      <td>1991</td>\n",
       "    </tr>\n",
       "    <tr>\n",
       "      <th>Bucheon</th>\n",
       "      <td>1.0</td>\n",
       "      <td>1968</td>\n",
       "    </tr>\n",
       "    <tr>\n",
       "      <th>Gyeongsan</th>\n",
       "      <td>0.5</td>\n",
       "      <td>1988</td>\n",
       "    </tr>\n",
       "    <tr>\n",
       "      <th>Daegu</th>\n",
       "      <td>2.0</td>\n",
       "      <td>1995</td>\n",
       "    </tr>\n",
       "    <tr>\n",
       "      <th>Jecheon</th>\n",
       "      <td>0.2</td>\n",
       "      <td>2022</td>\n",
       "    </tr>\n",
       "  </tbody>\n",
       "</table>\n",
       "</div>"
      ],
      "text/plain": [
       "           pop  year\n",
       "city                \n",
       "Seoul      3.2  1991\n",
       "Bucheon    1.0  1968\n",
       "Gyeongsan  0.5  1988\n",
       "Daegu      2.0  1995\n",
       "Jecheon    0.2  2022"
      ]
     },
     "execution_count": 29,
     "metadata": {},
     "output_type": "execute_result"
    }
   ],
   "source": [
    "# You can set one of the columns as the index\n",
    "\n",
    "df.set_index('city', inplace=True)\n",
    "df"
   ]
  },
  {
   "cell_type": "code",
   "execution_count": 30,
   "id": "f62cb26c-b2df-44bf-ab97-eb9686335601",
   "metadata": {},
   "outputs": [
    {
     "name": "stdout",
     "output_type": "stream",
     "text": [
      "           Pop  Year\n",
      "City                \n",
      "Seoul      3.2  1991\n",
      "Bucheon    1.0  1968\n",
      "Gyeongsan  0.5  1988\n",
      "Daegu      2.0  1995\n",
      "Jecheon    0.2  2022\n",
      "           Population  Year\n",
      "City                       \n",
      "Seoul             3.2  1991\n",
      "Bucheon           1.0  1968\n",
      "Gyeongsan         0.5  1988\n",
      "Daegu             2.0  1995\n",
      "Jecheon           0.2  2022\n"
     ]
    }
   ],
   "source": [
    "# You can rename columns by using the .rename() or simply assigning a new list to df.columns\n",
    "\n",
    "df.rename(columns={'pop':'Pop', 'year':'Year'}, inplace=True)\n",
    "df.index.name = 'City'\n",
    "print(df)\n",
    "\n",
    "new_columns = ['Population', 'Year']\n",
    "df.columns = new_columns\n",
    "print(df)"
   ]
  },
  {
   "cell_type": "markdown",
   "id": "2a9602d3-e835-4c6f-adb4-a0ddb078cfba",
   "metadata": {},
   "source": [
    "#### Dropping Entries from an Axis"
   ]
  },
  {
   "cell_type": "code",
   "execution_count": 36,
   "id": "15aec2d2-543b-48c8-90dd-51dcafa7e303",
   "metadata": {},
   "outputs": [
    {
     "name": "stdout",
     "output_type": "stream",
     "text": [
      "a    0.0\n",
      "b    1.0\n",
      "c    2.0\n",
      "d    3.0\n",
      "e    4.0\n",
      "dtype: float64\n",
      "a    0.0\n",
      "b    1.0\n",
      "d    3.0\n",
      "e    4.0\n",
      "dtype: float64\n",
      "d    3.0\n",
      "e    4.0\n",
      "dtype: float64\n"
     ]
    }
   ],
   "source": [
    "# The drop method will return a new object with the indicated value or values deleted from an axis\n",
    "\n",
    "obj = pd.Series(np.arange(5.), index=['a','b','c','d','e'])\n",
    "print(obj)\n",
    "\n",
    "new_obj = obj.drop(\"c\")\n",
    "print(new_obj)\n",
    "\n",
    "new_new_obj = new_obj.drop(['a','b'])\n",
    "print(new_new_obj)"
   ]
  },
  {
   "cell_type": "code",
   "execution_count": 38,
   "id": "cd28b9ec-0958-4686-a8f9-e0cb915663c2",
   "metadata": {},
   "outputs": [
    {
     "name": "stdout",
     "output_type": "stream",
     "text": [
      "1    2\n",
      "2    3\n",
      "3    4\n",
      "4    5\n",
      "dtype: int64\n"
     ]
    }
   ],
   "source": [
    "# The drop method will return a new object with the indicated value or values deleted from an axis\n",
    "\n",
    "obj = pd.Series([1,2,3,4,5])\n",
    "new_obj = obj.drop(0)\n",
    "print(new_obj)"
   ]
  },
  {
   "cell_type": "code",
   "execution_count": 44,
   "id": "8e359cc8-0448-4018-bb21-4bafe54fb085",
   "metadata": {},
   "outputs": [
    {
     "name": "stdout",
     "output_type": "stream",
     "text": [
      "      city  population\n",
      "1    Seoul          10\n",
      "2    Busan           5\n",
      "3  Bucheon           1\n",
      "      city  population\n",
      "1    Seoul          10\n",
      "3  Bucheon           1\n",
      "      city\n",
      "1    Seoul\n",
      "2    Busan\n",
      "3  Bucheon\n",
      "      city\n",
      "1    Seoul\n",
      "2    Busan\n",
      "3  Bucheon\n"
     ]
    }
   ],
   "source": [
    "# With DataFrame, index values can be deleted from either axis.\n",
    "\n",
    "data = {'city':['Seoul', 'Busan', 'Bucheon'], 'population':[10,5,1]}\n",
    "obj = pd.DataFrame(data, index=[1,2,3])\n",
    "print(obj)\n",
    "\n",
    "# Calling drop with a sequence of labels will drop values from the row labels (axis 0)\n",
    "\n",
    "new_obj = obj.drop(index=[2])\n",
    "print(new_obj)\n",
    "\n",
    "# To drop labels from the columns, instead use the columns keyword\n",
    "\n",
    "new_new_obj = obj.drop(columns=['population'])\n",
    "print(new_new_obj)\n",
    "\n",
    "# You can also drop values from the columns by passing axis=1 or axis='columns'\n",
    "\n",
    "new_new_new_obj = obj.drop('population', axis=1)\n",
    "print(new_new_new_obj)"
   ]
  },
  {
   "cell_type": "markdown",
   "id": "9f9f89d6-dd77-4a3c-b3e8-54ba02bababb",
   "metadata": {},
   "source": [
    "#### Indexing, Selection, and Filtering"
   ]
  },
  {
   "cell_type": "code",
   "execution_count": 53,
   "id": "fe92ddcd-859d-48b0-bd71-d1570c195487",
   "metadata": {},
   "outputs": [
    {
     "name": "stdout",
     "output_type": "stream",
     "text": [
      "a    1\n",
      "b    2\n",
      "c    3\n",
      "d    4\n",
      "e    5\n",
      "dtype: int64\n",
      "1\n",
      "c    3\n",
      "e    5\n",
      "dtype: int64\n",
      "1\n",
      "c    3\n",
      "e    5\n",
      "dtype: int64\n",
      "d    4\n",
      "e    5\n",
      "dtype: int64\n"
     ]
    },
    {
     "name": "stderr",
     "output_type": "stream",
     "text": [
      "C:\\Users\\ericj\\AppData\\Local\\Temp\\ipykernel_29376\\3358665959.py:9: FutureWarning: Series.__getitem__ treating keys as positions is deprecated. In a future version, integer keys will always be treated as labels (consistent with DataFrame behavior). To access a value by position, use `ser.iloc[pos]`\n",
      "  print(data[0])\n",
      "C:\\Users\\ericj\\AppData\\Local\\Temp\\ipykernel_29376\\3358665959.py:10: FutureWarning: Series.__getitem__ treating keys as positions is deprecated. In a future version, integer keys will always be treated as labels (consistent with DataFrame behavior). To access a value by position, use `ser.iloc[pos]`\n",
      "  print(data[[2,4]])\n"
     ]
    }
   ],
   "source": [
    "# Series indexing (obj[...]) works analogously to NumPy array indexing, \n",
    "# except you can use the Series’s index values instead of only integers.\n",
    "\n",
    "data = pd.Series([1,2,3,4,5], index=['a','b','c','d','e'])\n",
    "print(data)\n",
    "\n",
    "print(data['a'])\n",
    "print(data[['c','e']])\n",
    "print(data[0])\n",
    "print(data[[2,4]])\n",
    "print(data[3:])"
   ]
  },
  {
   "cell_type": "code",
   "execution_count": 57,
   "id": "c4749193-1299-46d6-8468-77131bada918",
   "metadata": {},
   "outputs": [
    {
     "name": "stdout",
     "output_type": "stream",
     "text": [
      "a    1\n",
      "b    2\n",
      "dtype: int64\n",
      "    city  population\n",
      "1  Seoul          10\n",
      "2  Busan           5\n"
     ]
    }
   ],
   "source": [
    "# The preferred way to select index values is with the special loc operator\n",
    "\n",
    "print(data.loc[['a','b']])\n",
    "print(obj.loc[[1,2]])"
   ]
  },
  {
   "cell_type": "code",
   "execution_count": 61,
   "id": "78a9dcc5-b368-48f4-aae7-25f04cd4ff54",
   "metadata": {},
   "outputs": [
    {
     "name": "stdout",
     "output_type": "stream",
     "text": [
      "0    5\n",
      "1    3\n",
      "2    2\n",
      "dtype: int64\n",
      "a    1\n",
      "b    2\n",
      "c    3\n",
      "dtype: int64\n",
      "\"None of [Index([0, 1, 2], dtype='int32')] are in the [index]\"\n"
     ]
    },
    {
     "name": "stderr",
     "output_type": "stream",
     "text": [
      "C:\\Users\\ericj\\AppData\\Local\\Temp\\ipykernel_29376\\913152250.py:9: FutureWarning: Series.__getitem__ treating keys as positions is deprecated. In a future version, integer keys will always be treated as labels (consistent with DataFrame behavior). To access a value by position, use `ser.iloc[pos]`\n",
      "  print(d2[[0, 1, 2]])\n"
     ]
    }
   ],
   "source": [
    "# The reason to prefer loc is because of the different treatment of integers \n",
    "# when indexing with []. Regular []-based indexing will treat integers as labels if the index \n",
    "# contains integers, so the behavior differs depending on the data type of the index.\n",
    "\n",
    "d1 = pd.Series([1,2,3,4,5], index=[3,2,1,4,0])\n",
    "d2 = pd.Series([1,2,3,4,5], index=['a','b','c','d','e'])\n",
    "\n",
    "print(d1[[0, 1, 2]])\n",
    "print(d2[[0, 1, 2]])\n",
    "\n",
    "# When using loc, the expression d2.loc[[0, 1, 2]] will fail when the index does not contain integers\n",
    "\n",
    "try:\n",
    "    d2.loc[[0,1,2]]\n",
    "except KeyError as e:\n",
    "    print(e)"
   ]
  },
  {
   "cell_type": "code",
   "execution_count": 78,
   "id": "c2241252-5833-4600-a7d0-f3a3d07ab1fc",
   "metadata": {},
   "outputs": [
    {
     "name": "stdout",
     "output_type": "stream",
     "text": [
      "3    1\n",
      "2    2\n",
      "1    3\n",
      "dtype: int64\n",
      "a    1\n",
      "b    2\n",
      "c    3\n",
      "dtype: int64\n"
     ]
    }
   ],
   "source": [
    "# Since loc operator indexes exclusively with labels, there is also an iloc operator that indexes exclusively with integers to work\n",
    "# consistently whether or not the index contains integers\n",
    "\n",
    "print(d1.iloc[[0, 1, 2]])\n",
    "print(d2.iloc[[0,1,2]])"
   ]
  },
  {
   "cell_type": "code",
   "execution_count": 65,
   "id": "36743870-e551-4725-9302-93b42fa4457f",
   "metadata": {},
   "outputs": [
    {
     "name": "stdout",
     "output_type": "stream",
     "text": [
      "a    1\n",
      "b    2\n",
      "c    3\n",
      "dtype: int64\n",
      "a    5\n",
      "b    5\n",
      "c    5\n",
      "d    4\n",
      "e    5\n",
      "dtype: int64\n"
     ]
    }
   ],
   "source": [
    "# You can also slice with labels, but it works differently from normal Python slicing in that the endpoint is inclusive\n",
    "\n",
    "print(data.loc[\"a\":\"c\"])\n",
    "\n",
    "# Assigning values using these methods modifies the corresponding section of the Series\n",
    "\n",
    "data.loc[\"a\":\"c\"] = 5\n",
    "print(data)"
   ]
  },
  {
   "cell_type": "code",
   "execution_count": 125,
   "id": "144e7549-ae8a-4292-9e08-98b5f5758572",
   "metadata": {},
   "outputs": [
    {
     "name": "stdout",
     "output_type": "stream",
     "text": [
      "        city  age  population\n",
      "0      Seoul    0          10\n",
      "1    Bucheon    7           1\n",
      "2     Sidney    9           3\n",
      "3    Tianjin    9           9\n",
      "4    Qingdao   13           5\n",
      "5  Vancouver   14           1\n",
      "6   Montreal   18           1\n",
      "7    Toronto   27           2\n",
      "        city  age\n",
      "0      Seoul    0\n",
      "1    Bucheon    7\n",
      "2     Sidney    9\n",
      "3    Tianjin    9\n",
      "4    Qingdao   13\n",
      "5  Vancouver   14\n",
      "6   Montreal   18\n",
      "7    Toronto   27\n"
     ]
    }
   ],
   "source": [
    "# Indexing into a DataFrame retrieves one or more columns either with a single value or sequence\n",
    "\n",
    "obj = {'city':['Seoul', 'Bucheon', 'Sidney', 'Tianjin', 'Qingdao', 'Vancouver', 'Montreal', 'Toronto'],\n",
    "      'age': [0, 7, 9, 9, 13, 14, 18, 27],\n",
    "      'population': [10, 1, 3, 9, 5, 1, 1, 2]}\n",
    "df = pd.DataFrame(obj)\n",
    "print(df)\n",
    "\n",
    "print(df[['city', 'age']])"
   ]
  },
  {
   "cell_type": "code",
   "execution_count": 126,
   "id": "8b984904-91fc-4e91-8a20-93833fc39393",
   "metadata": {},
   "outputs": [
    {
     "name": "stdout",
     "output_type": "stream",
     "text": [
      "      city  age  population\n",
      "0    Seoul    0          10\n",
      "1  Bucheon    7           1\n",
      "\n",
      "        city  age  population\n",
      "4    Qingdao   13           5\n",
      "5  Vancouver   14           1\n",
      "6   Montreal   18           1\n",
      "7    Toronto   27           2\n",
      "\n",
      "0    False\n",
      "1    False\n",
      "2    False\n",
      "3    False\n",
      "4     True\n",
      "5     True\n",
      "6     True\n",
      "7     True\n",
      "Name: age, dtype: bool\n",
      "\n",
      "      city  age  population\n",
      "0    Seoul    0          10\n",
      "1  Bucheon    7           1\n",
      "2   Sidney    9           3\n",
      "3  Tianjin    9           9\n",
      "4       10   10          10\n",
      "5       10   10          10\n",
      "6       10   10          10\n",
      "7       10   10          10\n"
     ]
    }
   ],
   "source": [
    "# Indexing like this has a few special cases. The first is slicing or selecting data with a Boolean array\n",
    "\n",
    "print(df[:2])\n",
    "print()\n",
    "print(df[df['age']>10])\n",
    "print()\n",
    "\n",
    "# Another use case is indexing with a Boolean DataFrame, such as one produced by a scalar comparison.\n",
    "\n",
    "print(df['age'] > 10)\n",
    "print()\n",
    "\n",
    "# We can use this DataFrame to assign the value 10 to each location with the value True, like so:\n",
    "\n",
    "df2 = df.copy()\n",
    "df2[df2['age']>10] = 10\n",
    "print(df2)"
   ]
  },
  {
   "cell_type": "markdown",
   "id": "f45a33b7-bdf7-4fb6-90c8-b3d4336301c3",
   "metadata": {},
   "source": [
    "##### Selection on DataFrame with loc and iloc"
   ]
  },
  {
   "cell_type": "code",
   "execution_count": 127,
   "id": "1dac068b-ee3b-42e4-a2a5-5c31642ab44a",
   "metadata": {},
   "outputs": [
    {
     "name": "stdout",
     "output_type": "stream",
     "text": [
      "           age  population city color\n",
      "city                                 \n",
      "Seoul        0          10       blue\n",
      "Bucheon      7           1        red\n",
      "Sidney       9           3     orange\n",
      "Tianjin      9           9     yellow\n",
      "Qingdao     13           5     purple\n",
      "Vancouver   14           1      black\n",
      "Montreal    18           1      white\n",
      "Toronto     27           2      green\n"
     ]
    }
   ],
   "source": [
    "# Like Series, DataFrame has special attributes loc and iloc for label-based and integer-based indexing, respectively.\n",
    "# Since DataFrame is two-dimensional, you can select a subset of the rows and columns with NumPy-like notation using either\n",
    "# axis-labels (loc) or integers (iloc).\n",
    "\n",
    "df.set_index('city', inplace = True)\n",
    "df['city color'] = ['blue', 'red', 'orange', 'yellow', 'purple', 'black', 'white', 'green']\n",
    "print(df)"
   ]
  },
  {
   "cell_type": "code",
   "execution_count": 133,
   "id": "22209637-74bf-4c7a-87a8-1eee1a786826",
   "metadata": {},
   "outputs": [
    {
     "name": "stdout",
     "output_type": "stream",
     "text": [
      "age              0\n",
      "population      10\n",
      "city color    blue\n",
      "Name: Seoul, dtype: object\n",
      "\n",
      "         age  population city color\n",
      "city                               \n",
      "Seoul      0          10       blue\n",
      "Bucheon    7           1        red\n"
     ]
    }
   ],
   "source": [
    "# As a first example, let's select a single row by label\n",
    "\n",
    "print(df.loc['Seoul'])\n",
    "print()\n",
    "\n",
    "# The result of selecting a single row is a Series with an index that contains the DataFrame's column labels.\n",
    "# To select multiple roles, creating a new DataFrame, pass a sequence of labels\n",
    "\n",
    "print(df.loc[['Seoul', 'Bucheon']])"
   ]
  },
  {
   "cell_type": "code",
   "execution_count": 135,
   "id": "86569b3e-5643-4504-adbb-9656e73b1a9d",
   "metadata": {},
   "outputs": [
    {
     "name": "stdout",
     "output_type": "stream",
     "text": [
      "         age  population\n",
      "city                    \n",
      "Seoul      0          10\n",
      "Bucheon    7           1\n"
     ]
    }
   ],
   "source": [
    "# You can combine both row and column selection in loc by separating the selections with a comma\n",
    "\n",
    "print(df.loc[[\"Seoul\", \"Bucheon\"], ['age', 'population']])"
   ]
  },
  {
   "cell_type": "code",
   "execution_count": 146,
   "id": "48aaa1a7-9f29-4d71-97a6-e8fb1d669c20",
   "metadata": {},
   "outputs": [
    {
     "name": "stdout",
     "output_type": "stream",
     "text": [
      "age             7\n",
      "population      1\n",
      "city color    red\n",
      "Name: Bucheon, dtype: object\n",
      "\n",
      "           age  population city color\n",
      "city                                 \n",
      "Bucheon      7           1        red\n",
      "Tianjin      9           9     yellow\n",
      "Vancouver   14           1      black\n",
      "\n",
      "population         3\n",
      "city color    orange\n",
      "Name: Sidney, dtype: object\n",
      "\n",
      "         age city color\n",
      "city                   \n",
      "Sidney     9     orange\n",
      "Qingdao   13     purple\n"
     ]
    }
   ],
   "source": [
    "# We will then perform some similar selections with integers using iloc\n",
    "\n",
    "print(df.iloc[1])\n",
    "print()\n",
    "print(df.iloc[[1,3,5]])\n",
    "print()\n",
    "print(df.iloc[2, [1,2]])\n",
    "print()\n",
    "print(df.iloc[[2,4], [0,2]])"
   ]
  },
  {
   "cell_type": "code",
   "execution_count": null,
   "id": "6c6cb5dd-0155-4885-a188-1d3d2ea17bdc",
   "metadata": {},
   "outputs": [],
   "source": [
    "# Both indexing functions work with slices in addition to single labels or lists of labels\n",
    "\n"
   ]
  }
 ],
 "metadata": {
  "kernelspec": {
   "display_name": "Python 3 (ipykernel)",
   "language": "python",
   "name": "python3"
  },
  "language_info": {
   "codemirror_mode": {
    "name": "ipython",
    "version": 3
   },
   "file_extension": ".py",
   "mimetype": "text/x-python",
   "name": "python",
   "nbconvert_exporter": "python",
   "pygments_lexer": "ipython3",
   "version": "3.11.7"
  }
 },
 "nbformat": 4,
 "nbformat_minor": 5
}
