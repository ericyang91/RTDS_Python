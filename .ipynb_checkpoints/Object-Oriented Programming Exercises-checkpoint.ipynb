{
 "cells": [
  {
   "cell_type": "code",
   "execution_count": 207,
   "id": "1a6b6cc3-1dcb-42ea-a3ce-b7ac558f338e",
   "metadata": {},
   "outputs": [
    {
     "data": {
      "text/plain": [
       "'\\nIn Python, how do class attributes differ from other attributes of class, and what are the differences between the class method and static method?\\n'"
      ]
     },
     "execution_count": 207,
     "metadata": {},
     "output_type": "execute_result"
    }
   ],
   "source": [
    "\"\"\"\n",
    "In Python, how do class attributes differ from other attributes of class, and what are the differences between the class method and static method?\n",
    "\"\"\"\n",
    "\n",
    "# Class attributes are attributes of the class itself, and not of the individual instances/objects of the class. Therefore, the class attribute\n",
    "# applies to all instances/objects of the class, meaning it is shared across all instances, and are modified by them.\n",
    "# Class attributes are defined outside the __init__ method\n",
    "# They can be accessed through the class name or an instance.\n",
    "# Instance attributes are defined within __init__. They are specific to the instance. They can only be accessed through the instance, not a class.\n",
    "\n",
    "# class method vs. static method\n",
    "# Class method \n"
   ]
  },
  {
   "cell_type": "markdown",
   "id": "e1226aa2-8076-471a-8a86-92385ed5c089",
   "metadata": {},
   "source": [
    "Rational numbers are those real numbers that can be represented as a quotient of two integers such as a/b, which can then be represented by a pair of integers a and b. Given the class definition of rational numbers below, add a definition of the dunder method \\_\\_le\\_\\_() so the expression rational(3, 11) <= rational(7, 25) would work.\r\n",
    "```python\r\n",
    "class rational():\r\n",
    "    def __init__(self, n, d):\r\n",
    "    self.n = n\r\n",
    "    self.d = d\r\n",
    "```\r\n",
    "- **Interpretation of the question:** The question asks for the understanding of how dunder methods can be used in Python OOP to modify/override the behaviour of class instances with built-in operators and functions. For instance, the dunder method \\_\\_str\\_\\_ can be used to override how an object behaves when it is converted to a string when it is printed. The question defines rational numbers as real numbers that can be represented as a quotient of two integers that can then be represented by a pair of integers a, b. Examples of rational numbers include rational(1, 12), rational(-5/3), etc. The question then goes on to ask how we can use the dunder method \\_\\_le\\_\\_ (less than or equl to) within a class definition to modify how an instance of the class example behaves when the comparison operator <= is used to compare two rational numbers. \r\n",
    "- **Answer with explanation:** The \\_\\_le\\_\\_ method is used to define the behaviour of <= operator (less than or equal to) when comparing two instances/objects of class Rational. Along with 'self' (the current instance of the rational number), it also passes 'other', which is another instance/object of class Rational that we are comparing against. To clarify, we are comparing to see if the self instance is less than or equal to the other instance. Instead of a straight comparison of two rational numbers each with a numerator and a denominator, we first do cross multiplication to avoid the potential inaccuracy of floating-number comparisons. The result of the comparison is then printed out. By doing so, we make sure that the expression rational(3, 11) <= rational(7, 25) works.\r\n",
    "    ``` python\r\n",
    "        class Rational: # Define the class, 'Rational'\r\n",
    "            def __init__(self, n, d): \r\n",
    "                \"\"\" \r\n",
    "                Initializing an instance by passing n and d. n is the numerator and d is the denominator of the object.\r\n",
    "                Parameters:\r\n",
    "                n(int): numerator\r\n",
    "                d(int): denominator\r\n",
    "\r\n",
    "                The arguments passed into the parameters are then assigned to the instance attributes self.n and self.d\r\n",
    "                \"\"\"\r\n",
    "                self.n = n # Numerator assignment to an attribute of the class instance\r\n",
    "                self.d = d # Denominator assignment to an anttribute of the class instance\r\n",
    "            \r\n",
    "            def __le__(self, other): \r\n",
    "                \"\"\" \r\n",
    "                Use dunder method to define how an instance behaves when the comparison operator <= (less than or equal to) is used.\r\n",
    "                Compares the instance of the rational number to another rational number.\r\n",
    "\r\n",
    "                Parameters:\r\n",
    "                other(Rational): Another rational number that is used for comparison\r\n",
    "\r\n",
    "                Returns:\r\n",
    "                str: A string representation of the result of comparison\r\n",
    "\r\n",
    "                Cross multiplication is used for comparison. \r\n",
    "                A straight comparison between the two numbers can be used, but cross multiplication can be more accurate \r\n",
    "                because the straight comparison might involve float-numbers, which can deter precision.\r\n",
    "                \"\"\"                \r\n",
    "                result = self.n * other.d <= self.d * other.n # Cross multiplication comparison between the object and another rational number\r\n",
    "                return f'Rational number({self.n}, {self.d}) <= Rational number({other.n}, {other.d}) is {result}.' # Return the result of the  comparison\r\n",
    "            \r\n",
    "        # Comparison example\r\n",
    "        rational_num1 = Rational(3, 11)\r\n",
    "        rational_num2 = Rational(7, 25)\r\n",
    "\r\n",
    "        # Print the result. Output displays \"Rational number(3, 11) <= Rational number(7, 25) is True.\"\r\n",
    "        print(rational_num1 <= rational_num2)\r\n",
    "    ```"
   ]
  },
  {
   "cell_type": "code",
   "execution_count": null,
   "id": "f0197424-3de9-4a6d-b84a-5ecfb2dada53",
   "metadata": {},
   "outputs": [],
   "source": [
    "\"\"\"\n",
    "Study the script below. Explain what each of the decorators does in the class definition and which attribute is intended to be private.\n",
    "\n",
    "class Student:\n",
    "def __init__(self, firstname, lastname, sid):\n",
    "self.firstname = firstname\n",
    "self.lastname = lastname\n",
    "self._student_id = sid\n",
    "@property\n",
    "def fullname(self):\n",
    "return f\"{self.firstname} {self.lastname}\"\n",
    "@fullname.setter\n",
    "def fullname(self, fullname):\n",
    "\"\"\"\n",
    "set the value of fullname. However,\n",
    "you cannot do self.fullname = fullname\n",
    "because fullname is not a true attribute\n",
    "\"\"\"\n",
    "names = fullname.split()\n",
    "self.firstname = names[0]\n",
    "self.lastname = names[1]\n",
    "\"\"\"\n"
   ]
  },
  {
   "cell_type": "code",
   "execution_count": null,
   "id": "8ae13d30-bc64-4560-8066-d90b387b92ef",
   "metadata": {},
   "outputs": [],
   "source": [
    "\"\"\"\n",
    "Study the script below. Identify and explain the key techniques used and when these techniques can be very useful.\n",
    "\"\"\"\n",
    "class DecoClass:\n",
    "def __init__(self, wraped):\n",
    "self.function = wrapped\n",
    "def __call__(self, *args, **kwargs):\n",
    "print(\"<<Script before>>\")\n",
    "self.function(*args, **kwargs)\n",
    "print(\"<<Script after>>\")\n",
    "# use MyClass as decorator\n",
    "@DecoClass\n",
    "def myFunction(name, greet = 'Hello', message = 'Welcome'):\n",
    "\n",
    "    print(f\"{greet} {name}, {message}\")\n",
    "myFunction('Joe', \"Hello\", \"Welcome to the world of Python\")"
   ]
  },
  {
   "cell_type": "code",
   "execution_count": null,
   "id": "7a277abc-cd2f-4f17-ab26-f6455d44b9a5",
   "metadata": {},
   "outputs": [],
   "source": [
    "\"\"\"\n",
    "Develop a class to model transactions of a bank account. A transaction may have attributes for date and time of the transaction, the type of transaction (withdraw, deposit, transfer-in, transfer-out, etc.), the amount of fund involved, and a constructor.\n",
    "\"\"\"\n"
   ]
  },
  {
   "cell_type": "code",
   "execution_count": null,
   "id": "e796970c-a0e2-43d1-9fee-562d57e6528d",
   "metadata": {},
   "outputs": [],
   "source": []
  },
  {
   "cell_type": "code",
   "execution_count": null,
   "id": "fe8c4f01-db6b-4543-a06b-8a41d143dc50",
   "metadata": {},
   "outputs": [],
   "source": []
  },
  {
   "cell_type": "code",
   "execution_count": 126,
   "id": "74fbfa65-f4d7-472a-b5e6-0fac8d641cb0",
   "metadata": {},
   "outputs": [],
   "source": [
    "class Reptile:\n",
    "    extinct = True\n",
    "    def __init__(self, species, habitat, diet):\n",
    "        self.species = species\n",
    "        self._habitat = habitat\n",
    "        self.__diet = diet\n",
    "    @classmethod\n",
    "    def change_status(cls, new_status):\n",
    "        cls.extinct = new_status\n",
    "        print(f'Status changed to {cls.extinct}')"
   ]
  },
  {
   "cell_type": "code",
   "execution_count": 127,
   "id": "e1551443-99d4-4b09-9c4b-d921141d540e",
   "metadata": {},
   "outputs": [
    {
     "data": {
      "text/plain": [
       "True"
      ]
     },
     "execution_count": 127,
     "metadata": {},
     "output_type": "execute_result"
    }
   ],
   "source": [
    "Reptile.extinct"
   ]
  },
  {
   "cell_type": "code",
   "execution_count": 128,
   "id": "6c0f5b89-67b1-48da-a89c-98b2e0197602",
   "metadata": {},
   "outputs": [],
   "source": [
    "r = Reptile('crested gecko', 'rainforest', 'insects')"
   ]
  },
  {
   "cell_type": "code",
   "execution_count": 129,
   "id": "7ff38fe6-3ec5-439e-84ef-bafb6a96bf8b",
   "metadata": {},
   "outputs": [
    {
     "name": "stdout",
     "output_type": "stream",
     "text": [
      "Status changed to False\n"
     ]
    }
   ],
   "source": [
    "Reptile.change_status(False)"
   ]
  },
  {
   "cell_type": "code",
   "execution_count": 130,
   "id": "7db86e6a-c9ea-45e4-9130-4bb0070409d4",
   "metadata": {},
   "outputs": [
    {
     "data": {
      "text/plain": [
       "False"
      ]
     },
     "execution_count": 130,
     "metadata": {},
     "output_type": "execute_result"
    }
   ],
   "source": [
    "r.extinct"
   ]
  },
  {
   "cell_type": "code",
   "execution_count": 131,
   "id": "5f89350e-9901-4831-959e-e6c16c0c80ea",
   "metadata": {},
   "outputs": [
    {
     "data": {
      "text/plain": [
       "False"
      ]
     },
     "execution_count": 131,
     "metadata": {},
     "output_type": "execute_result"
    }
   ],
   "source": [
    "Reptile.extinct"
   ]
  },
  {
   "cell_type": "code",
   "execution_count": 122,
   "id": "3245199b-222a-4333-ba03-4adf03df9425",
   "metadata": {},
   "outputs": [
    {
     "name": "stdout",
     "output_type": "stream",
     "text": [
      "Status changed to True\n"
     ]
    }
   ],
   "source": [
    "r.change_status(True)"
   ]
  },
  {
   "cell_type": "code",
   "execution_count": 123,
   "id": "44fa8730-967e-44c4-b488-cf12352afaf4",
   "metadata": {},
   "outputs": [
    {
     "data": {
      "text/plain": [
       "True"
      ]
     },
     "execution_count": 123,
     "metadata": {},
     "output_type": "execute_result"
    }
   ],
   "source": [
    "r.extinct"
   ]
  },
  {
   "cell_type": "code",
   "execution_count": 124,
   "id": "4231b0d1-d7c6-4230-b9de-b67d8d89c7a5",
   "metadata": {},
   "outputs": [
    {
     "data": {
      "text/plain": [
       "True"
      ]
     },
     "execution_count": 124,
     "metadata": {},
     "output_type": "execute_result"
    }
   ],
   "source": [
    "Reptile.extinct"
   ]
  },
  {
   "cell_type": "code",
   "execution_count": 146,
   "id": "ee4f5801-4f8f-4a28-838e-f0efc25cc47e",
   "metadata": {},
   "outputs": [],
   "source": [
    "class Student:\n",
    "    def __init__(self, fullname):\n",
    "        firstname, lastname = fullname.split(' ')\n",
    "        self.firstname = firstname\n",
    "        self.lastname = lastname\n",
    "\n",
    "    @classmethod\n",
    "    def new_name(cls, firstname, lastname):\n",
    "        return cls(f'{firstname} {lastname}')\n",
    "        "
   ]
  },
  {
   "cell_type": "code",
   "execution_count": 137,
   "id": "ffff4b49-197c-48b4-9418-cf5b0b9dc438",
   "metadata": {},
   "outputs": [],
   "source": [
    "s1 = Student('Eric Yang')"
   ]
  },
  {
   "cell_type": "code",
   "execution_count": 139,
   "id": "bccebbd2-c278-4573-9067-322e4922d888",
   "metadata": {},
   "outputs": [
    {
     "data": {
      "text/plain": [
       "'Eric'"
      ]
     },
     "execution_count": 139,
     "metadata": {},
     "output_type": "execute_result"
    }
   ],
   "source": [
    "s1.firstname"
   ]
  },
  {
   "cell_type": "code",
   "execution_count": 140,
   "id": "e3eb67d2-b765-4721-86a9-10b69ce8ed22",
   "metadata": {},
   "outputs": [
    {
     "data": {
      "text/plain": [
       "'Yang'"
      ]
     },
     "execution_count": 140,
     "metadata": {},
     "output_type": "execute_result"
    }
   ],
   "source": [
    "s1.lastname"
   ]
  },
  {
   "cell_type": "code",
   "execution_count": 147,
   "id": "d7ebf938-e432-4b3c-b85f-3d5d2a18f79b",
   "metadata": {},
   "outputs": [],
   "source": [
    "s2 = Student.new_name('Lackyoung', 'Son')"
   ]
  },
  {
   "cell_type": "code",
   "execution_count": 148,
   "id": "2dd4b766-160e-4bf0-88be-2bbd20e0a3bf",
   "metadata": {},
   "outputs": [
    {
     "data": {
      "text/plain": [
       "'Lackyoung'"
      ]
     },
     "execution_count": 148,
     "metadata": {},
     "output_type": "execute_result"
    }
   ],
   "source": [
    "s2.firstname"
   ]
  },
  {
   "cell_type": "code",
   "execution_count": 149,
   "id": "5c0c5d36-a00a-41e4-9995-815966f941fa",
   "metadata": {},
   "outputs": [
    {
     "data": {
      "text/plain": [
       "'Son'"
      ]
     },
     "execution_count": 149,
     "metadata": {},
     "output_type": "execute_result"
    }
   ],
   "source": [
    "s2.lastname"
   ]
  },
  {
   "cell_type": "code",
   "execution_count": 150,
   "id": "a0605990-8cbb-4dba-af81-577f0f4eda20",
   "metadata": {},
   "outputs": [],
   "source": [
    "# Static Method\n",
    "\n",
    "class Converter:\n",
    "    @staticmethod\n",
    "    def kg2lb(w):\n",
    "        return w*2.2046\n",
    "\n",
    "    def lb2kg(w):\n",
    "        return w/2.2046"
   ]
  },
  {
   "cell_type": "code",
   "execution_count": 151,
   "id": "180e84d7-5980-4775-9519-cc70c776c780",
   "metadata": {},
   "outputs": [
    {
     "data": {
      "text/plain": [
       "143.299"
      ]
     },
     "execution_count": 151,
     "metadata": {},
     "output_type": "execute_result"
    }
   ],
   "source": [
    "Converter.kg2lb(65)"
   ]
  },
  {
   "cell_type": "code",
   "execution_count": 152,
   "id": "001bf543-c6f5-4bd7-8fba-9bbf9426962a",
   "metadata": {},
   "outputs": [
    {
     "data": {
      "text/plain": [
       "54.431642928422384"
      ]
     },
     "execution_count": 152,
     "metadata": {},
     "output_type": "execute_result"
    }
   ],
   "source": [
    "Converter.lb2kg(120)"
   ]
  },
  {
   "cell_type": "code",
   "execution_count": 194,
   "id": "de04b061-00aa-4e2b-8ae7-f28d3a56aaad",
   "metadata": {},
   "outputs": [],
   "source": [
    "class Graduate:\n",
    "    student_id = 260374177\n",
    "    def __init__(self, fullname):\n",
    "        firstname, lastname = fullname.split(' ')\n",
    "        self.firstname = firstname\n",
    "        self.lastname = lastname\n",
    "        self.student_id = self.__class__.student_id\n",
    "        self.__class__.student_id += 1\n",
    "\n",
    "    @classmethod\n",
    "    def new_student(cls, firstname, lastname):\n",
    "        return cls(f'{firstname} {lastname}')\n",
    "\n",
    "    @staticmethod\n",
    "    def intro():\n",
    "        print('From McGill University')\n",
    "\n",
    "    def __str__(self):\n",
    "        return f'{self.firstname} {self.lastname}: {self.student_id}'\n",
    "\n",
    "    def __call__(self, output = 'fullname'):\n",
    "        if output == 'student id':\n",
    "            return self.student_id\n",
    "        else:\n",
    "            return f'{self.firstname} {self.lastname}'\n",
    "\n",
    "    def __len__(self):\n",
    "        return(len(self.firstname+self.lastname))\n",
    "        \n"
   ]
  },
  {
   "cell_type": "code",
   "execution_count": 204,
   "id": "73fa8fdb-1db3-4fa8-8287-a8e477d9e148",
   "metadata": {},
   "outputs": [],
   "source": [
    "class Number:\n",
    "    def __init__(self, number):\n",
    "        self.number = number\n",
    "    def __le__(self, another):\n",
    "        return self.number <= another.number\n",
    "        "
   ]
  },
  {
   "cell_type": "code",
   "execution_count": 206,
   "id": "3f4e1283-7150-4e9d-b4ca-269d354faf30",
   "metadata": {},
   "outputs": [
    {
     "data": {
      "text/plain": [
       "False"
      ]
     },
     "execution_count": 206,
     "metadata": {},
     "output_type": "execute_result"
    }
   ],
   "source": [
    "n1 = Number(1)\n",
    "n2 = Number(2)\n",
    "\n",
    "n2.__le__(n1)"
   ]
  },
  {
   "cell_type": "code",
   "execution_count": null,
   "id": "33866fa6-bd72-4ce1-8676-910e6fff788a",
   "metadata": {},
   "outputs": [],
   "source": []
  }
 ],
 "metadata": {
  "kernelspec": {
   "display_name": "Python 3 (ipykernel)",
   "language": "python",
   "name": "python3"
  },
  "language_info": {
   "codemirror_mode": {
    "name": "ipython",
    "version": 3
   },
   "file_extension": ".py",
   "mimetype": "text/x-python",
   "name": "python",
   "nbconvert_exporter": "python",
   "pygments_lexer": "ipython3",
   "version": "3.11.7"
  }
 },
 "nbformat": 4,
 "nbformat_minor": 5
}
