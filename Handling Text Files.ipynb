{
 "cells": [
  {
   "cell_type": "code",
   "execution_count": 59,
   "metadata": {},
   "outputs": [],
   "source": [
    "w = open('Joy Gives Us Wings.txt', 'w', encoding = 'UTF-8') # Create/overwrite the text file\n",
    "w.write('Title: Joy\\nTEDA International School\\nYEAR: 2003\\n\\n') # Writes a single string to the file\n",
    "w.flush() # Must flush it for the writing to take effect\n",
    "w.close()\n",
    "\n",
    "# When you write to a file, Python sometimes stores data in a temporary buffer before writing it to disk (for performance reasons). \n",
    "# flush() ensures that all data in the buffer is written to the file.\n",
    "# This step isn't strictly necessary in many cases, as close() (next line) automatically flushes the buffer when called.\n",
    "# Using an f-string (formatted string literal) does not affect how escape sequences like \\n are handled."
   ]
  },
  {
   "cell_type": "code",
   "execution_count": 60,
   "metadata": {},
   "outputs": [],
   "source": [
    "with open(\"Joy Gives Us Wings.txt\", 'a') as a: # Open the file to append. Moves the cursor to the end of the file.\n",
    "    lines = ['Joy gives us wings to be free from this mortal cage\\n', 'And joy is the means of flight through this limitless space\\n', 'So fly, soar on wings of pure ecstasy\\n']\n",
    "    a.writelines(lines) # Append multiple lines\n",
    "    a.write('Through the realms above and believe\\n') # Append a single line"
   ]
  },
  {
   "cell_type": "code",
   "execution_count": 61,
   "metadata": {},
   "outputs": [
    {
     "name": "stdout",
     "output_type": "stream",
     "text": [
      "0\n",
      "Title: Joy\n",
      "TEDA International School\n",
      "YEAR: 2003\n",
      "\n",
      "Joy gives us wings to be free from this mortal cage\n",
      "And joy is the means of flight through this limitless space\n",
      "So fly, soar on wings of pure ecstasy\n",
      "Through the realms above and believe\n",
      "\n",
      "244\n"
     ]
    }
   ],
   "source": [
    "with open(\"Joy Gives Us Wings.txt\", 'r+') as rw: # Uses r+ mode to read and write. File must already exist. The cursor is at the beginning of the text.\n",
    "    print(rw.tell()) # Shows 0, which means the cursor is lying at the beginning of the text.\n",
    "    print(rw.read()) # Reads the entire text and moves the cursor to the end of the text.\n",
    "    print(rw.tell()) # Shows the position of the cursor in bytes.\n",
    "    rw.write('Your creations has begun\\n')\n",
    "    new_lines = ['If there ever was a time to be happy\\n', '(To be happy, yeah~)\\n', 'What other seasons then, can there be?\\n', '(What are you waiting for?)\\n']\n",
    "    rw.writelines(new_lines)\n",
    "\n",
    "\n",
    "# r.read() reads the entire file as one large string.\n",
    "# r.readline() reads a single line.\n",
    "# r.readlines() reads all lines and returns them as a list.\n",
    "# All three reads the content starting at the position of the cursor."
   ]
  },
  {
   "cell_type": "code",
   "execution_count": 62,
   "metadata": {},
   "outputs": [
    {
     "name": "stdout",
     "output_type": "stream",
     "text": [
      "\n",
      "Title: Joy\n",
      "TEDA International School\n",
      "YEAR: 2003\n",
      "\n",
      "Joy gives us wings to be free from this mortal cage\n",
      "And joy is the means of flight through this limitless space\n",
      "So fly, soar on wings of pure ecstasy\n",
      "Through the realms above and believe\n",
      "Your creations has begun\n",
      "If there ever was a time to be happy\n",
      "(To be happy, yeah~)\n",
      "What other seasons then, can there be?\n",
      "(What are you waiting for?)\n",
      "Well it's destiny, (Joy), life is meant to be (Joy), for happiness not misery\n",
      "It's reality, the way to be, true liberty, nothing can stop us now!\n",
      "\n",
      "\n"
     ]
    }
   ],
   "source": [
    "with open(\"Joy Gives Us Wings.txt\", 'a+') as ar: # Open the text for appending and reading. File does not have to exist.\n",
    "    ar.write(\"Well it's destiny, (Joy), life is meant to be (Joy), for happiness not misery\\n\")\n",
    "    ar.write(\"It's reality, the way to be, true liberty, nothing can stop us now!\\n\\n\")\n",
    "    print(ar.read()) # This will not return anything, as the cursor lies at the end of the text.\n",
    "    ar.seek(0)\n",
    "    print(ar.read())"
   ]
  },
  {
   "cell_type": "code",
   "execution_count": 63,
   "metadata": {},
   "outputs": [
    {
     "name": "stdout",
     "output_type": "stream",
     "text": [
      "Nearly ten years had passed since the Dursleys had woken up to find their nephew on the front step, but Privet Drive had hardly changed at all. The sun rose on the same tidy front gardens and lit up the brass number four on the Dursleys' front door; it crept into their living room, which was almost exactly the same as it had been on the night when Mr. Dursley had seen that fateful news report about the owls. Only the photographs on the mantelpiece really showed how much time had passed. Ten years ago, there had been lots of pictures of what looked like a large pink beach ball wearing different-colored bonnets - but Dudley Dursley was no longer a baby, and now the photographs showed a large blond boy riding his first bicycle, on a carousel at the fair, playing a computer game with his father, being hugged and kissed by his mother. The room held no sign at all that another boy lived in the house, too.\n",
      "\n",
      "Yet Harry Potter was still there, asleep at the moment, but not for long. His Aunt Petunia was awake and it was her shrill voice that made the first noise of the day.\n",
      "\n",
      "\"Up! Get up! Now!\"\n",
      "\n",
      "Harry woke with a start. His aunt rapped on the door again.\n",
      "\n",
      "\"Up!\" she screeched. Harry heard her walking toward the kitchen and then the sound of the frying pan being put on the stove. He rolled onto his back and tried to remember the dream he had been having. It had been a good one. There had been a flying motorcycle in it. He had a funny feeling he'd had the same dream before.\n",
      "\n",
      "His aunt was back outside the door.\n",
      "\n",
      "\"Are you up yet?\" she demanded.\n",
      "\n",
      "\"Nearly,\" said Harry.\n",
      "\n",
      "\"Well, get a move on, I want you to look after the bacon. And don't you dare let it burn, I want everything perfect on Duddy's birthday.\"\n",
      "\n",
      "Harry groaned.\n",
      "\n",
      "\"What did you say?\" his aunt snapped through the door.\n",
      "\n",
      "\"Nothing, nothing . . .\"\n",
      "\n",
      "Dudley's birthday - how could he have forgotten? Harry got slowly out of bed and started looking for socks. He found a pair under his bed and, after pulling a spider off one of them, put them on. Harry was used to spiders, because the cupboard under the stairs was full of them, and that was where he slept.\n",
      "\n",
      "When he was dressed he went down the hall into the kitchen. The table was almost hidden beneath all Dudley's birthday presents. It looked as though Dudley had gotten the new computer he wanted, not to mention the second television and the racing bike. Exactly why Dudley wanted a racing bike was a mystery to Harry, as Dudley was very fat and hated exercise - unless of course it involved punching somebody. Dudley's favorite punching bag was Harry, but he couldn't often catch him. Harry didn't look it, but he was very fast.\n",
      "\n",
      "Perhaps it had something to do with living in a dark cupboard, but Harry had always been small and skinny for his age. He looked even smaller and skinnier than he really was because all he had to wear were old clothes of Dudley's, and Dudley was about four times bigger than he was. Harry had a thin face, knobbly knees, black hair, and bright green eyes. He wore round glasses held together with a lot of Scotch tape because of all the times Dudley had punched him on the nose. The only thing Harry liked about his own appearance was a very thin scar on his forehead that was shaped like a bolt of lightning. He had had it as long as he could remember, and the first question he could ever remember asking his Aunt Petunia was how he had gotten it.\n",
      "\n",
      "\"In the car crash when your parents died,\" she had said. \"And don't ask questions.\"\n",
      "\n",
      "Don't ask questions - that was the first rule for a quiet life with the Dursleys.\n",
      "\n",
      "Uncle Vernon entered the kitchen as Harry was turning over the bacon.\n",
      "\n",
      "\"Comb your hair!\" he barked, by way of a morning greeting.\n"
     ]
    }
   ],
   "source": [
    "with open('Harry Potter Exerpt.txt', 'r') as r:\n",
    "    print(r.read()) # Read the entire text"
   ]
  },
  {
   "cell_type": "code",
   "execution_count": 64,
   "metadata": {},
   "outputs": [
    {
     "name": "stdout",
     "output_type": "stream",
     "text": [
      "Nearly ten\n",
      "10\n",
      "1000\n",
      "['etunia was awake and it was her shrill voice that made the first noise of the day.\\n', '\\n', '\"Up! Get up! Now!\"\\n', '\\n', 'Harry woke with a start. His aunt rapped on the door again.\\n', '\\n', '\"Up!\" she screeched. Harry heard her walking toward the kitchen and then the sound of the frying pan being put on the stove. He rolled onto his back and tried to remember the dream he had been having. It had been a good one. There had been a flying motorcycle in it. He had a funny feeling he\\'d had the same dream before.\\n', '\\n', 'His aunt was back outside the door.\\n', '\\n', '\"Are you up yet?\" she demanded.\\n', '\\n', '\"Nearly,\" said Harry.\\n', '\\n', '\"Well, get a move on, I want you to look after the bacon. And don\\'t you dare let it burn, I want everything perfect on Duddy\\'s birthday.\"\\n', '\\n', 'Harry groaned.\\n', '\\n', '\"What did you say?\" his aunt snapped through the door.\\n', '\\n', '\"Nothing, nothing . . .\"\\n', '\\n', \"Dudley's birthday - how could he have forgotten? Harry got slowly out of bed and started looking for socks. He found a pair under his bed and, after pulling a spider off one of them, put them on. Harry was used to spiders, because the cupboard under the stairs was full of them, and that was where he slept.\\n\", '\\n', \"When he was dressed he went down the hall into the kitchen. The table was almost hidden beneath all Dudley's birthday presents. It looked as though Dudley had gotten the new computer he wanted, not to mention the second television and the racing bike. Exactly why Dudley wanted a racing bike was a mystery to Harry, as Dudley was very fat and hated exercise - unless of course it involved punching somebody. Dudley's favorite punching bag was Harry, but he couldn't often catch him. Harry didn't look it, but he was very fast.\\n\", '\\n', \"Perhaps it had something to do with living in a dark cupboard, but Harry had always been small and skinny for his age. He looked even smaller and skinnier than he really was because all he had to wear were old clothes of Dudley's, and Dudley was about four times bigger than he was. Harry had a thin face, knobbly knees, black hair, and bright green eyes. He wore round glasses held together with a lot of Scotch tape because of all the times Dudley had punched him on the nose. The only thing Harry liked about his own appearance was a very thin scar on his forehead that was shaped like a bolt of lightning. He had had it as long as he could remember, and the first question he could ever remember asking his Aunt Petunia was how he had gotten it.\\n\", '\\n', '\"In the car crash when your parents died,\" she had said. \"And don\\'t ask questions.\"\\n', '\\n', \"Don't ask questions - that was the first rule for a quiet life with the Dursleys.\\n\", '\\n', 'Uncle Vernon entered the kitchen as Harry was turning over the bacon.\\n', '\\n', '\"Comb your hair!\" he barked, by way of a morning greeting.']\n",
      "etunia was awake and it was her shrill voice that made the first noise of the day.\n",
      "\n",
      "\n",
      "\n",
      "\"Up! Get up! Now!\"\n",
      "\n",
      "3737\n",
      "3736\n",
      ".\n"
     ]
    }
   ],
   "source": [
    "with open('Harry Potter Exerpt.txt', 'r') as r: # Opens the Harry Potter Exerpt in read mode\n",
    "    print(r.read(10)) # Prints the first 10 bytes of the text\n",
    "    print(r.tell()) # Tells where the cursor is, in this case, 10\n",
    "    r.seek(1000) # Moves to byte 1000\n",
    "    print(r.tell()) # Tells where the cursor is, in this case, 1000\n",
    "    content = r.readlines() # Reads the entire text from where the cursor lies and returns a list, with each element representing one line. Includes \\n\n",
    "    print(content) # Print the list\n",
    "    print(content[0]) # Print the first item in the list\n",
    "    print(content[1]) # Print the second item in the list\n",
    "    print(content[2]) # Print the third item in the list\n",
    "    print(r.tell()) # Print the last byte + 1. This is because r.readlines() read the entire text, moving the cursor to a position after the final byte.\n",
    "    r.seek(3736) # Move the cursor to the final character.\n",
    "    print(r.tell()) # Print the byte position\n",
    "    content2 = r.readline() # Print the line on that position\n",
    "    print(content2)"
   ]
  },
  {
   "cell_type": "markdown",
   "metadata": {},
   "source": [
    "# How Newline Characters Work\n",
    "\n",
    "__Reading a Text File:__\n",
    "\n",
    "When you read a text file that contains newline characters (\\n), these characters are included in the string representation of the content.\n",
    "\n",
    "For example, if the file contains:  \n",
    "\n",
    "Hello World  \n",
    "This is a test.\n",
    "\n",
    "Reading this file into a string might yield:\n",
    "```python\n",
    "    content = \"Hello World\\nThis is a test.\"\n",
    "```\n",
    "\n",
    "__String Representation:__\n",
    "\n",
    "If you print the string representation of the variable content, using repr() will show the newline characters explicitly:\n",
    "```python\n",
    "    print(repr(content))\n",
    "```\n",
    "\n",
    "Output:  \n",
    "'Hello World\\nThis is a test.'\n",
    "\n",
    "__Printing the String:__\n",
    "\n",
    "print(content)\n",
    "\n",
    "```python\n",
    "    Hello World\n",
    "    This is a test.\n",
    "```\n",
    "\n",
    "__Summary of Behavior:__\n",
    "\n",
    "String Representation:   \n",
    "The newline characters are visible in the string representation (when using repr()), indicating their presence.\n",
    "Printed Output: When printed, the newline characters cause the text to appear on separate lines, effectively making the \\n characters \"disappear\" in the sense that they don't show up as \\n in the output. Instead, they create actual line breaks in the displayed text.\n",
    "\n"
   ]
  }
 ],
 "metadata": {
  "kernelspec": {
   "display_name": "PythonEnv",
   "language": "python",
   "name": "python3"
  },
  "language_info": {
   "codemirror_mode": {
    "name": "ipython",
    "version": 3
   },
   "file_extension": ".py",
   "mimetype": "text/x-python",
   "name": "python",
   "nbconvert_exporter": "python",
   "pygments_lexer": "ipython3",
   "version": "3.11.8"
  }
 },
 "nbformat": 4,
 "nbformat_minor": 2
}
