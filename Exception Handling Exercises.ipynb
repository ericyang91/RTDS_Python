{
 "cells": [
  {
   "cell_type": "markdown",
   "id": "e1fd837d",
   "metadata": {},
   "source": [
    "# Exception Handling Exercises"
   ]
  },
  {
   "cell_type": "code",
   "execution_count": 10,
   "id": "fde07737-2992-484a-83a0-28766ec562c5",
   "metadata": {},
   "outputs": [
    {
     "name": "stdout",
     "output_type": "stream",
     "text": [
      "Input: 1. Accepted\n",
      "Attempt complete.\n"
     ]
    }
   ],
   "source": [
    "\"\"\"\n",
    "1. Suppose that you want to get an integer from a user, but you are concerned that the user may type something else other than an integer. \n",
    "Write a piece of code, as concise as possible, that asks the user for input until an integer is entered by the user.   \n",
    "\"\"\"\n",
    "\n",
    "while True:\n",
    "    try:\n",
    "        user_input = int(input(\"Enter an integer: \"))\n",
    "    except ValueError:\n",
    "        print('Your input has to be an integer.')\n",
    "    else:\n",
    "        print(f'Input: {user_input}. Accepted')\n",
    "        break\n",
    "    finally: # finally runs regardless of whether exception occurred or not.\n",
    "        print('Attempt complete.')"
   ]
  },
  {
   "cell_type": "markdown",
   "id": "1454389b",
   "metadata": {},
   "source": [
    "2. What error will occur when running the following code?\n",
    "\n",
    "- s = 8 + 'a'\n",
    "    - TypeError; Python does not allow addition between incompatible types like int and str.\n",
    "- students = ['John', 'May', 'Jim']\n",
    "    - No error\n",
    "- total = sum(12, 19, 32, 'one hundred')\n",
    "    - TypeError; the sum() function takes an iterable as its argument."
   ]
  },
  {
   "cell_type": "markdown",
   "id": "4e3dbcb2",
   "metadata": {},
   "source": [
    "3. What’s wrong with the following code?\n",
    "\n",
    "    -  ```python\n",
    "        idx = 1\n",
    "        product = 0\n",
    "        while idx>10:\n",
    "            product *= idx\n",
    "            idx++\n",
    "        print(product)\n",
    "        ```\n",
    "\n",
    "The while condition will never be True.  \n",
    "Product will always be zero.  \n",
    "++ is not a valid operator."
   ]
  },
  {
   "cell_type": "code",
   "execution_count": 4,
   "id": "2a082ab3",
   "metadata": {},
   "outputs": [
    {
     "name": "stdout",
     "output_type": "stream",
     "text": [
      "Number must be positive.\n"
     ]
    }
   ],
   "source": [
    "\"\"\"        \n",
    "4. Write a function that checks if a number is positive. If the number is negative, raise a ValueError.\n",
    "\"\"\"\n",
    "\n",
    "def positive_checker(number):\n",
    "    if number <= 0:\n",
    "        raise ValueError('Number must be positive.')\n",
    "    else:\n",
    "        print(f'{number} is positive.')\n",
    "\n",
    "try:\n",
    "    positive_checker(-1)\n",
    "except ValueError as e:\n",
    "    print(e)"
   ]
  },
  {
   "cell_type": "code",
   "execution_count": 23,
   "id": "f1d81a89",
   "metadata": {},
   "outputs": [
    {
     "name": "stdout",
     "output_type": "stream",
     "text": [
      "The number is not even.\n"
     ]
    }
   ],
   "source": [
    "\"\"\"\n",
    "5. Write a function that asserts a number is even. If the number is not even, the assert statement should trigger with a custom error message.\n",
    "\"\"\"\n",
    "\n",
    "def even_checker(number):\n",
    "    try:\n",
    "        if not isinstance(number, int):\n",
    "            raise TypeError('Entry must be an integer.')\n",
    "        assert number % 2 == 0, \"The number is not even.\"\n",
    "    except TypeError as e:\n",
    "        print(e)\n",
    "    except AssertionError as e:\n",
    "        print(e)\n",
    "\n",
    "even_checker(1)\n"
   ]
  },
  {
   "cell_type": "code",
   "execution_count": null,
   "id": "b64ae02e",
   "metadata": {},
   "outputs": [
    {
     "data": {
      "text/plain": [
       "'\\nNote: If a TypeError is raised, the script will immediately jump to the corresponding except block, and the code following the raise statement (which would check for the ValueError) will not be executed.\\nIn Python, when an exception is raised, the program stops executing the current function and looks for a corresponding except block to handle the exception. \\nOnce the exception is caught and handled, the program continues from that point (e.g., after the try-except block).\\n'"
      ]
     },
     "execution_count": 9,
     "metadata": {},
     "output_type": "execute_result"
    }
   ],
   "source": [
    "\"\"\"\n",
    "6. Write a function to validate a password. Raise specific exceptions for these cases:\n",
    "\n",
    "ValueError if the password is less than 8 characters.\n",
    "TypeError if the password is not a string.\n",
    "\"\"\"\n",
    "\n",
    "def password_validation(password):\n",
    "    if not isinstance(password, str):\n",
    "        raise TypeError('Password must be a string.')\n",
    "    if len(password) < 8:\n",
    "        raise ValueError('Password should be equal to or greater than 8 characters in length.')\n",
    "    print('Password is valid.')\n",
    "\n",
    "try:\n",
    "    password_validation(123456)\n",
    "except ValueError as e:\n",
    "    print(e)\n",
    "except TypeError as e:\n",
    "    print(e)\n",
    "\n",
    "\n",
    "\"\"\"\n",
    "Note: If a TypeError is raised, the script will immediately jump to the corresponding except block, and the code following the raise statement (which would check for the ValueError) will not be executed.\n",
    "In Python, when an exception is raised, the program stops executing the current function and looks for a corresponding except block to handle the exception. \n",
    "Once the exception is caught and handled, the program continues from that point (e.g., after the try-except block).\n",
    "\"\"\""
   ]
  },
  {
   "cell_type": "code",
   "execution_count": 21,
   "id": "c36f4980",
   "metadata": {},
   "outputs": [
    {
     "name": "stdout",
     "output_type": "stream",
     "text": [
      "Temperature must be above absolute zero.\n"
     ]
    }
   ],
   "source": [
    "\"\"\"\n",
    "7. Write a function to convert Celsius to Fahrenheit. Raise a ValueError if the Celsius temperature is below absolute zero (-273.15).\n",
    "\"\"\"\n",
    "\n",
    "def C2F(celsius_temp):\n",
    "    try:\n",
    "        if not isinstance(celsius_temp, (float, int)):\n",
    "            raise TypeError('You must provide a number.')\n",
    "        if celsius_temp < -273.15:\n",
    "            raise ValueError('Temperature must be above absolute zero.')\n",
    "        return f\"Temperature in Fahrenheit is {celsius_temp * 1.8 + 32}\"\n",
    "    except TypeError as e:\n",
    "        print(e)\n",
    "    except ValueError as e:\n",
    "        print(e)\n",
    "\n",
    "C2F(-300)"
   ]
  },
  {
   "cell_type": "code",
   "execution_count": null,
   "id": "488269ed",
   "metadata": {},
   "outputs": [],
   "source": [
    "\"\"\"\n",
    "8. Write a function that opens a file. If the file doesn’t exist, raise a FileNotFoundError.\n",
    "\"\"\"\n",
    "\n",
    "def open_file(file_name):\n",
    "    try:\n",
    "        with open(file_name, 'r') as file:\n",
    "            return file.read()\n",
    "    except FileNotFoundError:\n",
    "        raise FileNotFoundError(f\"The file '{file_name}' does not exist.\")\n"
   ]
  },
  {
   "cell_type": "code",
   "execution_count": 1,
   "id": "ce1ab0f5",
   "metadata": {},
   "outputs": [
    {
     "name": "stdout",
     "output_type": "stream",
     "text": [
      "Invalid entry.\n",
      "You are not old enough to vote.\n",
      "You are not old enough to vote.\n",
      "You are not old enough to vote.\n",
      "You are not old enough to vote.\n",
      "You are not old enough to vote.\n",
      "You are not old enough to vote.\n",
      "You are old enough to vote.\n"
     ]
    }
   ],
   "source": [
    "\"\"\"\n",
    "9. Write a function to assert that a person is old enough to vote (age >= 18). Use assert and include an error message.\n",
    "\"\"\"\n",
    "\n",
    "def voting_age():\n",
    "    while True:\n",
    "        try:\n",
    "            age = int(input(\"What is your age?\"))\n",
    "        except ValueError:\n",
    "            print('Enter a valid age.')\n",
    "        else:\n",
    "            if age < 18:\n",
    "                print(\"You are not old enough to vote.\")\n",
    "                break\n",
    "        finally:\n",
    "            print('Attempt Complete.')\n",
    "\n",
    "# voting_age()\n",
    "\n",
    "def voting_age2():\n",
    "    while True:\n",
    "        try:\n",
    "            age = int(input(\"What is your age?\"))\n",
    "            assert age >= 18, 'You are not old enough to vote.'\n",
    "        except ValueError:\n",
    "            print(\"Invalid entry.\")\n",
    "        except AssertionError as e:\n",
    "            print(e)\n",
    "        else:\n",
    "            print(\"You are old enough to vote.\")\n",
    "            break\n",
    "\n",
    "voting_age2()"
   ]
  }
 ],
 "metadata": {
  "kernelspec": {
   "display_name": "PythonEnv",
   "language": "python",
   "name": "python3"
  },
  "language_info": {
   "codemirror_mode": {
    "name": "ipython",
    "version": 3
   },
   "file_extension": ".py",
   "mimetype": "text/x-python",
   "name": "python",
   "nbconvert_exporter": "python",
   "pygments_lexer": "ipython3",
   "version": "3.11.8"
  }
 },
 "nbformat": 4,
 "nbformat_minor": 5
}
