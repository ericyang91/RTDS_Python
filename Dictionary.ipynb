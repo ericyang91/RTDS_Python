{
 "cells": [
  {
   "cell_type": "markdown",
   "id": "20e54753",
   "metadata": {},
   "source": [
    "# Python Dictionary Exercises\n",
    "\n",
    "The exercises are from [w3.resources](https://www.w3resource.com/python-exercises/dictionary/).\n",
    "\n",
    "Python dictionaries are containers of the unordered set of objects like lists. The items in a dictionary are a comma-separated list of key-value pairs. While keys must be unique, values can be repeated across different keys in a dictionary. The dictionary keys must be immutable Python objects such as tuples, floats, integers, etc. Mutable objects such as Python lists cannot be used as keys.\n",
    "\n",
    "- Collection of dictionary keys:\n",
    "`<view> = <dict>.keys()`\n",
    "- Collection of dictionary values:\n",
    "`<view> = <dict>.values()`\n",
    "- Collection of key-value tuples:\n",
    "`<view> = <dict>.items()`\n",
    "\n",
    "- Get value by key: `dict[key]`\n",
    "- Get value by key: `dict.get(key)`\n",
    "\n",
    "\n",
    "- Iterate over Python dictionaries using for loops:\n",
    "```python\n",
    "    for key, value in dict.items():\n",
    "       return key, value\n",
    "```\n",
    "\n",
    "- Remove a key from a Python dictionary: `del dict[key]`\n",
    "- Sort a Python dictionary by key: `sorted(dict)`\n",
    "- Find the max and min value of a Python dict: `max/min(dict.keys(), key=lambda x: dict[x])`\n",
    "- Updating a dictionary: `dic1.update({key:value})`; This method does not return a new dictionary.\n",
    "- Adding a new key, value pair: `dict[key] = value`; This updates the existing dictionary and does not return a new dictionary\n",
    "- Test whether a dictionary contains a specific key: `key in dict`\n",
    "- Find the length of a dictionary: `len(dict)`"
   ]
  },
  {
   "cell_type": "code",
   "execution_count": 1,
   "id": "ea3f3066",
   "metadata": {},
   "outputs": [],
   "source": [
    "family = {'Ji Yeol':32, 'Lack Young':35, 'Dahee':1, 'Kyung Suk': 56, 'Chang Ho':28}"
   ]
  },
  {
   "cell_type": "code",
   "execution_count": 9,
   "id": "e2d2890c",
   "metadata": {},
   "outputs": [
    {
     "data": {
      "text/plain": [
       "{'Kyung Suk': 56, 'Lack Young': 35, 'Ji Yeol': 32, 'Chang Ho': 28, 'Dahee': 1}"
      ]
     },
     "execution_count": 9,
     "metadata": {},
     "output_type": "execute_result"
    }
   ],
   "source": [
    "# 1. Write a Python script to sort (ascending and descending) a dictionary by value.\n",
    "\n",
    "sort_by_value = dict(sorted(family.items(), key=lambda x: x[1], reverse=True))\n",
    "print(sort_by_value)"
   ]
  },
  {
   "cell_type": "code",
   "execution_count": 10,
   "id": "dfe98983",
   "metadata": {},
   "outputs": [
    {
     "name": "stdout",
     "output_type": "stream",
     "text": [
      "{'Ji Yeol': 32, 'Lack Young': 35, 'Dahee': 1, 'Kyung Suk': 56, 'Chang Ho': 28, 'Byung Suk': 61}\n"
     ]
    }
   ],
   "source": [
    "# 2. Write a Python script to add a key to a dictionary.\n",
    "\n",
    "family['Byung Suk'] = 61\n",
    "print(family)"
   ]
  },
  {
   "cell_type": "code",
   "execution_count": 20,
   "id": "09e7c16a",
   "metadata": {},
   "outputs": [
    {
     "name": "stdout",
     "output_type": "stream",
     "text": [
      "{1: 10, 2: 20, 3: 30, 4: 40, 5: 50, 6: 60}\n"
     ]
    }
   ],
   "source": [
    "# 3. Write a Python script to concatenate the following dictionaries to create a new one.\n",
    "\n",
    "# Sample Dictionary :\n",
    "dic1={1:10, 2:20}\n",
    "dic2={3:30, 4:40}\n",
    "dic3={5:50,6:60}\n",
    "dic4 = {}\n",
    "\n",
    "for dictionary in [dic1, dic2, dic3]:\n",
    "    dic4.update(dictionary)\n",
    "    \n",
    "print(dic4)"
   ]
  },
  {
   "cell_type": "code",
   "execution_count": 13,
   "id": "e78e4cc7",
   "metadata": {},
   "outputs": [
    {
     "name": "stdout",
     "output_type": "stream",
     "text": [
      "Yes\n"
     ]
    }
   ],
   "source": [
    "# 4. Write a Python script to check whether a given key already exists in a dictionary.\n",
    "\n",
    "if 'Dahee' in family:\n",
    "    print('Yes')\n",
    "else:\n",
    "    print('No')"
   ]
  },
  {
   "cell_type": "code",
   "execution_count": 9,
   "id": "c62c5183",
   "metadata": {},
   "outputs": [
    {
     "name": "stdout",
     "output_type": "stream",
     "text": [
      "32 Ji Yeol\n",
      "35 Lack Young\n",
      "1 Dahee\n",
      "56 Kyung Suk\n",
      "28 Chang Ho\n",
      "61 Byung Suk\n"
     ]
    }
   ],
   "source": [
    "# 5. Write a Python program to iterate over dictionaries using for loops.\n",
    "\n",
    "for key, value in family.items():\n",
    "    print(value, key)"
   ]
  },
  {
   "cell_type": "code",
   "execution_count": 16,
   "id": "f8b32be1",
   "metadata": {},
   "outputs": [
    {
     "name": "stdout",
     "output_type": "stream",
     "text": [
      "{1: 1, 2: 4, 3: 9, 4: 16, 5: 25}\n",
      "{1: 1, 2: 4, 3: 9, 4: 16, 5: 25}\n"
     ]
    }
   ],
   "source": [
    "# 6. Write a Python script to generate and print a dictionary that contains a number (between 1 and n) in the form (x, x*x).\n",
    "# Sample Dictionary ( n = 5) :\n",
    "# Expected Output : {1: 1, 2: 4, 3: 9, 4: 16, 5: 25}\n",
    "\n",
    "# First approach:\n",
    "n = 5\n",
    "dic = {}\n",
    "for n in range(1,n+1):\n",
    "  dic[n] = n*n\n",
    "\n",
    "print(dic)\n",
    "\n",
    "# Second approach using dictionary comprehension:\n",
    "my_dict = {number : number*number for number in range(1,6)}\n",
    "print(my_dict)"
   ]
  },
  {
   "cell_type": "code",
   "execution_count": 18,
   "id": "d3eae275",
   "metadata": {},
   "outputs": [
    {
     "name": "stdout",
     "output_type": "stream",
     "text": [
      "{1: 1, 2: 4, 3: 9, 4: 16, 5: 25, 6: 36, 7: 49, 8: 64, 9: 81, 10: 100, 11: 121, 12: 144, 13: 169, 14: 196, 15: 225}\n",
      "{1: 1, 2: 4, 3: 9, 4: 16, 5: 25, 6: 36, 7: 49, 8: 64, 9: 81, 10: 100, 11: 121, 12: 144, 13: 169, 14: 196, 15: 225}\n"
     ]
    }
   ],
   "source": [
    "# 7. Write a Python script to print a dictionary where the keys are numbers between 1 and 15 (both included) and the \n",
    "# values are the square of the keys.\n",
    "\n",
    "# First approach\n",
    "dic = {}\n",
    "for n in range(1,16):\n",
    "  dic[n] = n**2\n",
    "\n",
    "print(dic)\n",
    "\n",
    "# Second approach using dictionary comprehension\n",
    "my_dict = {number : number**2 for number in range(1, 16)}\n",
    "print(my_dict)"
   ]
  },
  {
   "cell_type": "code",
   "execution_count": 12,
   "id": "4181be9e",
   "metadata": {},
   "outputs": [
    {
     "name": "stdout",
     "output_type": "stream",
     "text": [
      "{'a': 100, 'b': 200, 'c': 300, 'd': 400}\n"
     ]
    }
   ],
   "source": [
    "# 8. Write a Python script to merge two Python dictionaries.\n",
    "\n",
    "dic1 = {'a':100, 'b':200}\n",
    "dic2 = {'c':300, 'd':400}\n",
    "dic1.update(dic2)\n",
    "\n",
    "print(dic1)"
   ]
  },
  {
   "cell_type": "code",
   "execution_count": 13,
   "id": "95fc8b38",
   "metadata": {},
   "outputs": [
    {
     "name": "stdout",
     "output_type": "stream",
     "text": [
      "a 100\n",
      "b 200\n"
     ]
    }
   ],
   "source": [
    "# 9. Write a Python program to iterate over dictionaries using for loops.\n",
    "\n",
    "dic = {'a':100, 'b':200}\n",
    "for key, value in dic.items():\n",
    "  print(key, value)"
   ]
  },
  {
   "cell_type": "code",
   "execution_count": 25,
   "id": "50da1775",
   "metadata": {},
   "outputs": [
    {
     "name": "stdout",
     "output_type": "stream",
     "text": [
      "6\n",
      "600\n"
     ]
    }
   ],
   "source": [
    "# 10. Write a Python program to sum all the items in a dictionary.\n",
    "\n",
    "dic = {1:100, 2:200, 3:300}\n",
    "\n",
    "print(sum(dic.keys()))\n",
    "print(sum(dic.values()))"
   ]
  },
  {
   "cell_type": "code",
   "execution_count": 28,
   "id": "2f5fbaff",
   "metadata": {},
   "outputs": [
    {
     "name": "stdout",
     "output_type": "stream",
     "text": [
      "6 6000000\n"
     ]
    }
   ],
   "source": [
    "# 11. Write a Python program to multiply all the items in a dictionary.\n",
    "\n",
    "dic = {1:100, 2:200, 3:300}\n",
    "\n",
    "product = 1\n",
    "for key in dic.keys():\n",
    "    product *= key\n",
    "\n",
    "product2 = 1\n",
    "for value in dic.values():\n",
    "    product2 *= value\n",
    "\n",
    "print(product, product2)"
   ]
  },
  {
   "cell_type": "code",
   "execution_count": 29,
   "id": "2e718793",
   "metadata": {},
   "outputs": [
    {
     "name": "stdout",
     "output_type": "stream",
     "text": [
      "{'a': 100, 'b': 200}\n"
     ]
    }
   ],
   "source": [
    "# 12. Write a Python program to remove a key from a dictionary.\n",
    "\n",
    "dic = {'a':100, 'b':200, 'c':300}\n",
    "del dic['c']\n",
    "\n",
    "print(dic)"
   ]
  },
  {
   "cell_type": "code",
   "execution_count": 32,
   "id": "b7e37ba1",
   "metadata": {},
   "outputs": [
    {
     "name": "stdout",
     "output_type": "stream",
     "text": [
      "{'a': 1, 'b': 2, 'c': 3, 'd': 4, 'e': 5}\n"
     ]
    }
   ],
   "source": [
    "# 13. Write a Python program to map two lists into a dictionary.\n",
    "\n",
    "lst1 = ['a', 'b', 'c']\n",
    "lst2 = [1, 2, 3]\n",
    "\n",
    "dic = dict(zip(lst1, lst2), d=4, e=5)\n",
    "print(dic)"
   ]
  },
  {
   "cell_type": "code",
   "execution_count": 26,
   "id": "3bb258b8",
   "metadata": {},
   "outputs": [
    {
     "name": "stdout",
     "output_type": "stream",
     "text": [
      "[('a', 1), ('b', 2), ('c', 3)]\n"
     ]
    }
   ],
   "source": [
    "# 14. Write a Python program to sort a given dictionary by key.\n",
    "\n",
    "dic = {'b':2, 'c':3, 'a':1}\n",
    "sorted_dic = sorted(dic.items(), reverse = False)\n",
    "\n",
    "print(sorted_dic)"
   ]
  },
  {
   "cell_type": "code",
   "execution_count": 34,
   "id": "de56ee52",
   "metadata": {},
   "outputs": [
    {
     "name": "stdout",
     "output_type": "stream",
     "text": [
      "[('a', 1), ('b', 2), ('c', 3), ('d', 4)]\n"
     ]
    }
   ],
   "source": [
    "dic = dict(c=3, d=4, a=1, b=2)\n",
    "sorted_dic = sorted(dic.items(), key=lambda x:x[0], reverse=False)\n",
    "\n",
    "print(sorted_dic)"
   ]
  },
  {
   "cell_type": "code",
   "execution_count": 27,
   "id": "9e1c305c",
   "metadata": {},
   "outputs": [
    {
     "name": "stdout",
     "output_type": "stream",
     "text": [
      "3 1\n"
     ]
    }
   ],
   "source": [
    "# 15. Write a Python program to get the maximum and minimum values of a dictionary.\n",
    "\n",
    "dic = {'b':2, 'c':3, 'a':1}\n",
    "\n",
    "maximum = max(dic.values())\n",
    "minimum = min(dic.values())\n",
    "\n",
    "print(maximum, minimum)"
   ]
  },
  {
   "cell_type": "code",
   "execution_count": 39,
   "id": "f5eb5526",
   "metadata": {},
   "outputs": [
    {
     "name": "stdout",
     "output_type": "stream",
     "text": [
      "{'id1': {'name': ['Sara'], 'class': ['V'], 'subject_integration': ['english, math, science']}, 'id2': {'name': ['David'], 'class': ['V'], 'subject_integration': ['english, math, science']}, 'id4': {'name': ['Surya'], 'class': ['V'], 'subject_integration': ['english, math, science']}}\n"
     ]
    }
   ],
   "source": [
    "# 17. Write a Python program to remove duplicates from the dictionary.\n",
    "\n",
    "student_data = {\n",
    "    'id1': {\n",
    "        'name': ['Sara'],\n",
    "        'class': ['V'],\n",
    "        'subject_integration': ['english, math, science']\n",
    "    },\n",
    "    'id2': {\n",
    "        'name': ['David'],\n",
    "        'class': ['V'],\n",
    "        'subject_integration': ['english, math, science']\n",
    "    },\n",
    "    'id3': {\n",
    "        'name': ['Sara'],\n",
    "        'class': ['V'],\n",
    "        'subject_integration': ['english, math, science']\n",
    "    },\n",
    "    'id4': {\n",
    "        'name': ['Surya'],\n",
    "        'class': ['V'],\n",
    "        'subject_integration': ['english, math, science']\n",
    "    }\n",
    "}\n",
    "\n",
    "new_dictionary = {}\n",
    "for key, value in student_data.items():\n",
    "    if key not in new_dictionary and value not in new_dictionary.values():\n",
    "        new_dictionary[key] = value\n",
    "\n",
    "print(new_dictionary)"
   ]
  },
  {
   "cell_type": "code",
   "execution_count": 40,
   "id": "fd22b95d",
   "metadata": {},
   "outputs": [
    {
     "name": "stdout",
     "output_type": "stream",
     "text": [
      "It is empty.\n"
     ]
    }
   ],
   "source": [
    "# 18. Write a Python program to check if a dictionary is empty or not.\n",
    "\n",
    "dic = {}\n",
    "if not dic:\n",
    "    print('It is empty.')\n",
    "else:\n",
    "    print('It is not empty.')"
   ]
  },
  {
   "cell_type": "code",
   "execution_count": 30,
   "id": "b7e35a4e",
   "metadata": {},
   "outputs": [
    {
     "name": "stdout",
     "output_type": "stream",
     "text": [
      "{'a': 400, 'b': 400, 'c': 300, 'd': 400}\n"
     ]
    }
   ],
   "source": [
    "# 19. Write a Python program to combine two dictionary by adding values for common keys.\n",
    "d1 = {'a': 100, 'b': 200, 'c':300}\n",
    "d2 = {'a': 300, 'b': 200, 'd':400}\n",
    "# Sample output: Counter({'a': 400, 'b': 400, 'd': 400, 'c': 300})\n",
    "\n",
    "new_dict = {}\n",
    "\n",
    "for key, value in d1.items():\n",
    "    if key not in d2.keys():\n",
    "        new_dict[key] = value\n",
    "    else:\n",
    "        new_dict[key] = value + d2[key]\n",
    "\n",
    "for key, value in d2.items():\n",
    "    if key not in new_dict.keys():\n",
    "        new_dict[key] = value\n",
    "        \n",
    "print(new_dict)"
   ]
  },
  {
   "cell_type": "code",
   "execution_count": 49,
   "id": "0f528682",
   "metadata": {},
   "outputs": [
    {
     "name": "stdout",
     "output_type": "stream",
     "text": [
      "{'S009', 'S005', 'S002', 'S007', 'S001'}\n"
     ]
    }
   ],
   "source": [
    "# 20. Write a Python program to print all distinct values in a dictionary.\n",
    "data =  [{\"V\":\"S001\"}, {\"V\": \"S002\"}, {\"VI\": \"S001\"}, {\"VI\": \"S005\"}, {\"VII\":\"S005\"}, {\"V\":\"S009\"},{\"VIII\":\"S007\"}]\n",
    "# Expected Output : Unique Values: {'S005', 'S002', 'S007', 'S001', 'S009'}\n",
    "\n",
    "new_set = set()\n",
    "\n",
    "for dictionary in data:\n",
    "    for value in dictionary.values():\n",
    "        new_set.add(value)\n",
    "        \n",
    "print(new_set)       "
   ]
  },
  {
   "cell_type": "code",
   "execution_count": 37,
   "id": "7bb605f8",
   "metadata": {},
   "outputs": [
    {
     "name": "stdout",
     "output_type": "stream",
     "text": [
      "{'n1': [4, 2, 1], 'n2': [5, 2, 1], 'n3': [8, 7, 6]}\n"
     ]
    }
   ],
   "source": [
    "# 28. Write a Python program to sort a list alphabetically in a dictionary.\n",
    "\n",
    "num = {'n1' : [2,4,1], 'n2' : [5, 2, 1], 'n3' : [6,8,7]}\n",
    "sorted_dictionary = {key: sorted(value, reverse = True) for key, value in num.items()}\n",
    "print(sorted_dictionary)"
   ]
  },
  {
   "cell_type": "code",
   "execution_count": 41,
   "id": "db51893b",
   "metadata": {},
   "outputs": [
    {
     "name": "stdout",
     "output_type": "stream",
     "text": [
      "Ji Yeol 32 1\n",
      "Lack Young 35 2\n",
      "Dahee 1 3\n",
      "Kyung Suk 56 4\n",
      "Chang Ho 28 5\n",
      "Byung Suk 61 6\n"
     ]
    }
   ],
   "source": [
    "# 31. Write a Python program to get the key, value and item in a dictionary.\n",
    "\n",
    "count = 0\n",
    "for key, value in family.items():\n",
    "    count += 1\n",
    "    print(key, value, count)"
   ]
  },
  {
   "cell_type": "code",
   "execution_count": 42,
   "id": "56799dd8",
   "metadata": {},
   "outputs": [
    {
     "name": "stdout",
     "output_type": "stream",
     "text": [
      "Name | Age\n",
      "Ji Yeol | 32\n",
      "Lack Young | 35\n",
      "Dahee | 1\n",
      "Kyung Suk | 56\n",
      "Chang Ho | 28\n",
      "Byung Suk | 61\n"
     ]
    }
   ],
   "source": [
    "# 32. Write a Python program to print a dictionary line by line.\n",
    "\n",
    "print('Name | Age')\n",
    "for key, value in family.items():\n",
    "    print(f'{key} | {value}')"
   ]
  },
  {
   "cell_type": "code",
   "execution_count": 43,
   "id": "124a9904",
   "metadata": {},
   "outputs": [
    {
     "name": "stdout",
     "output_type": "stream",
     "text": [
      "multiple keys exist\n"
     ]
    }
   ],
   "source": [
    "# 33. Write a  Python program to check if multiple keys exist in a dictionary.\n",
    "\n",
    "if len(family.keys()) > 1:\n",
    "    print('multiple keys exist')\n",
    "else:\n",
    "    print('single or no keys exist')"
   ]
  },
  {
   "cell_type": "code",
   "execution_count": 57,
   "id": "559aebdf",
   "metadata": {},
   "outputs": [
    {
     "name": "stdout",
     "output_type": "stream",
     "text": [
      "For Alex, there are 3 items.\n",
      "For David, there are 2 items.\n"
     ]
    }
   ],
   "source": [
    "# 34. Write a Python program to count the number of items in a dictionary value that is a list.\n",
    "\n",
    "dic =  {'Alex': ['subj1', 'subj2', 'subj3'], 'David': ['subj1', 'subj2']}\n",
    "\n",
    "for key, value in dic.items():\n",
    "    print(f\"For {key}, there are {len(value)} items.\")"
   ]
  },
  {
   "cell_type": "code",
   "execution_count": 46,
   "id": "07a29b58",
   "metadata": {},
   "outputs": [
    {
     "name": "stdout",
     "output_type": "stream",
     "text": [
      "{'n1': 7, 'n2': 8, 'n3': 21}\n"
     ]
    }
   ],
   "source": [
    "# 35. Write a Python program to replace dictionary values with their sums.\n",
    "\n",
    "num = {'n1' : [2,4,1], 'n2' : [5, 2, 1], 'n3' : [6,8,7]}\n",
    "sum_num = {key : sum(value) for key, value in num.items()}\n",
    "print(sum_num)"
   ]
  },
  {
   "cell_type": "code",
   "execution_count": 65,
   "id": "3192ffec",
   "metadata": {},
   "outputs": [
    {
     "name": "stdout",
     "output_type": "stream",
     "text": [
      "{'x': [11, 12, 13, 14, 15, 16, 17, 18, 19, 20], 'y': [21, 22, 23, 24, 25, 26, 27, 28, 29, 30], 'z': [31, 32, 33, 34, 35, 36, 37, 38, 39, 40]}\n",
      "15\n",
      "25\n",
      "35\n"
     ]
    }
   ],
   "source": [
    "# 36. Write a Python program to create a dictionary of keys x, y, and z where each key has as value a list from 11-20, 21-30, and 31-40 respectively. \n",
    "# Access the fifth value of each key from the dictionary.\n",
    "\n",
    "keys = ['x', 'y', 'z']\n",
    "values = [list(range(11,21)), list(range(21,31)), list(range(31,41))]\n",
    "\n",
    "dic = dict(zip(keys, values))\n",
    "print(dic)\n",
    "\n",
    "for key in dic.keys():\n",
    "    print(dic.get(key)[4])"
   ]
  }
 ],
 "metadata": {
  "kernelspec": {
   "display_name": "Python 3",
   "language": "python",
   "name": "python3"
  },
  "language_info": {
   "codemirror_mode": {
    "name": "ipython",
    "version": 3
   },
   "file_extension": ".py",
   "mimetype": "text/x-python",
   "name": "python",
   "nbconvert_exporter": "python",
   "pygments_lexer": "ipython3",
   "version": "3.13.1"
  }
 },
 "nbformat": 4,
 "nbformat_minor": 5
}
