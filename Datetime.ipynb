{
 "cells": [
  {
   "cell_type": "markdown",
   "id": "14a2acfc",
   "metadata": {},
   "source": [
    "# DATETIME\n",
    "\n",
    "## Datetime Basics\n",
    "\n",
    "- The datetime module in Python is used to work with dates and times, including getting the current time, formatting dates, performing arithmetic on dates, and more. It has several important classes:\n",
    "    - Importing datetime:\n",
    "        - ```python\n",
    "            import datetime\n",
    "            ```\n",
    "    - Get the current date and time:\n",
    "        - ```python\n",
    "            from datetime import datetime\n",
    "            now = datetime.now()\n",
    "            print(now) # Example output: 2024-01-31 15:30:45.123456\n",
    "            ```\n",
    "    - Get only the current date:\n",
    "        - ```python\n",
    "            from datetime import datetime\n",
    "            today = datetime.today().date() # Example output: 2024-01-31\n",
    "            print(today) # Example output: 2024-01-31\n",
    "            ```\n",
    "    - Get individual components:\n",
    "        - ```python\n",
    "            import datetime\n",
    "            now = datetime.datetime.now()\n",
    "            print(f\"Year: {now.year}\")    # 2024\n",
    "            print(f\"Month: {now.month}\")  # 1\n",
    "            print(f\"Day: {now.day}\")      # 31\n",
    "            print(f\"Hour: {now.hour}\")    # 15\n",
    "            print(f\"Minute: {now.minute}\")  # 30\n",
    "            print(f\"Second: {now.second}\")  # 45\n",
    "            ```\n",
    "    - Creating a custom date and time:\n",
    "        - ```python\n",
    "            import datetime\n",
    "            bday = datetime.datetime(1991, 10, 10, 10, 10, 10) # 1991-10-10 10:10:10\n",
    "            ```\n",
    "            \n",
    "### Formatting and Parsing Dates\n",
    "\n",
    "- Converting a datetime to a string\n",
    "    - Use `strftime()` to format a date into a string.\n",
    "    - Remember this using **S**tore **T**ime as **R**eadable **F**ormat\n",
    "    - ```python\n",
    "        from datetime import datetime\n",
    "        now = datetime.now()\n",
    "        formatted_date = now.strftime(\"%Y-%m-%d %H:%M:%S\")\n",
    "        print(formatted_date) # Example: \"2024-01-31 15:30:45\"\n",
    "        ```\n",
    "\n",
    "    - | Code  | Meaning            | Example  |\n",
    "        |-------|--------------------|----------|\n",
    "        | `%Y`  | Year (4 digits)    | `2024`   |\n",
    "        | `%m`  | Month (01-12)      | `01`     |\n",
    "        | `%d`  | Day (01-31)        | `31`     |\n",
    "        | `%H`  | Hour (00-23)       | `15`     |\n",
    "        | `%M`  | Minute (00-59)     | `30`     |\n",
    "        | `%S`  | Second (00-59)     | `45`     |\n",
    "        | `%A`  | Weekday name       | `Monday` |\n",
    "        | `%B`  | Month name         | `January` |\n",
    "\n",
    "- Converting a string to a datetime\n",
    "    - Use `strptime()` to convert a string into a datetime object.\n",
    "\n",
    "    - ```python\n",
    "        from datetime import datetime\n",
    "        bday = \"1991-10-10, 10:10:10, Thursday, October\"\n",
    "        formatted_date = datetime.strpdate(bday, \"%Y-%m-%d, %H:%M:%S\")\n",
    "        print(formatted_date) # Output: 1991-10-10 10:10:10\n",
    "        ```\n",
    "\n",
    "### Date Arithmetic (Adding/ Subtracting Time)\n",
    "\n",
    "- Use `timedelta()` to add or subtract time\n",
    "\n",
    "    - ```python\n",
    "        from datetime import timedelta\n",
    "\n",
    "        now = datetime.today()\n",
    "        future_date = now + timedelta(days=7)\n",
    "\n",
    "        past_date = now - timedelta(days=7)\n",
    "\n",
    "        new_time = now + timedelta(hours=2, minutes=30)\n",
    "\n",
    "        print(future_date, past_date, new_time)\n",
    "\n",
    "        # Note you cannot calculate year/month directly using timedelta\n",
    "        ```\n",
    "\n",
    "### Comparing Dates\n",
    "- You can compare datetime objects using comparison operators (<, >, =<, >=, ==, !=). Note 1991 is GREATER than 1988!\n",
    "\n",
    "    - ```python\n",
    "        from datetime import datetime\n",
    "        date1 = datetime(1988, 1, 13)\n",
    "        date2 = datetime(1991, 10, 10)\n",
    "\n",
    "        if date1 < date2:\n",
    "            print(f'Lack Young with {date1} as birthday is older than Ji Yeol with {date2} as birthday.')\n",
    "        ```\n",
    "\n",
    "### Getting the Difference between Two Dates\n",
    "- You can subtract two datetime objects to get a timedelta object.\n",
    "\n",
    "    - ```python\n",
    "        from datetime import datetime\n",
    "        date1 = datetime(1988, 1, 13)\n",
    "        date2 = datetime(1991, 10, 10)\n",
    "\n",
    "        difference = date2 - date1\n",
    "        print(difference.days, difference.seconds) # Note timedelta object does not have year/month attributes\n",
    "        ``` "
   ]
  },
  {
   "cell_type": "code",
   "execution_count": 13,
   "id": "a3001433-8819-4fa9-a4cf-7113b429b241",
   "metadata": {},
   "outputs": [
    {
     "name": "stdout",
     "output_type": "stream",
     "text": [
      "<class 'datetime.date'>\n",
      "2025-02-01 , 2024-01-01\n"
     ]
    }
   ],
   "source": [
    "# Using datetime.date\n",
    "\n",
    "from datetime import date, time, datetime, timedelta\n",
    "\n",
    "today = date.today()\n",
    "new_year = date(2024, 1, 1)\n",
    "\n",
    "new_year.isoformat() # Returns a date string in ISO 8601 format, YYYY-MM-DD.\n",
    "\n",
    "print(type(today))\n",
    "print(today, ',', new_year)"
   ]
  },
  {
   "cell_type": "code",
   "execution_count": 3,
   "id": "b463afdf-3dc6-4c90-92e4-92cd42ecb544",
   "metadata": {},
   "outputs": [
    {
     "name": "stdout",
     "output_type": "stream",
     "text": [
      "<class 'datetime.time'>\n",
      "10:01:10\n"
     ]
    }
   ],
   "source": [
    "# Using datetime.time\n",
    "\n",
    "morning = time(10, 1, 10)\n",
    "\n",
    "print(type(morning))\n",
    "print(morning)"
   ]
  },
  {
   "cell_type": "code",
   "execution_count": 4,
   "id": "1daa290c-9d7d-4788-bfb8-e23b33b95c8c",
   "metadata": {},
   "outputs": [
    {
     "name": "stdout",
     "output_type": "stream",
     "text": [
      "<class 'datetime.datetime'>\n",
      "1968-01-18 00:00:00 , 2024-08-16 22:14:55.627699\n",
      "1968 1 18\n"
     ]
    }
   ],
   "source": [
    "# Using datetime.datetime\n",
    "\n",
    "now = datetime.now()\n",
    "mom_bday = datetime(1968, 1, 18)\n",
    "yr = mom_bday.year\n",
    "month = mom_bday.month\n",
    "day = mom_bday.day\n",
    "\n",
    "print(type(now))\n",
    "print(mom_bday, ',', now)\n",
    "print(yr, month, day)"
   ]
  },
  {
   "cell_type": "code",
   "execution_count": 11,
   "id": "bdba95ef-57d2-48a3-b898-b742c251e2a6",
   "metadata": {},
   "outputs": [
    {
     "name": "stdout",
     "output_type": "stream",
     "text": [
      "<class 'datetime.timedelta'>\n",
      "11999\n"
     ]
    }
   ],
   "source": [
    "# Using timedelta to compute differences between times\n",
    "\n",
    "now = datetime.now()\n",
    "then = datetime(1991, 10, 10)\n",
    "difference = now - then\n",
    "\n",
    "print(type(difference))\n",
    "print(difference.days)"
   ]
  },
  {
   "cell_type": "code",
   "execution_count": 6,
   "id": "895aea26-b967-4e43-bec3-9c5be2971fb4",
   "metadata": {},
   "outputs": [
    {
     "name": "stdout",
     "output_type": "stream",
     "text": [
      "11999 , 80095\n",
      "2015-05-31\n"
     ]
    }
   ],
   "source": [
    "# Using timedelta to compute differences between times (2)\n",
    "\n",
    "diff_day = difference.days\n",
    "diff_second = difference.seconds\n",
    "\n",
    "print(diff_day, ',', diff_second)\n",
    "\n",
    "leah_bday = date(1988, 1, 13)\n",
    "time_passed = timedelta(days = 10000)\n",
    "what_day = leah_bday + time_passed\n",
    "\n",
    "print(what_day)"
   ]
  },
  {
   "cell_type": "code",
   "execution_count": 7,
   "id": "a68f9028-118b-430c-9ee5-f84514c9e138",
   "metadata": {},
   "outputs": [
    {
     "name": "stdout",
     "output_type": "stream",
     "text": [
      "2079-05-20\n"
     ]
    }
   ],
   "source": [
    "# Putting dates into isoformat strings\n",
    "\n",
    "today = date.today()\n",
    "later = date.today() + timedelta(days = 20000)\n",
    "\n",
    "print(later.isoformat())"
   ]
  },
  {
   "cell_type": "code",
   "execution_count": 13,
   "id": "5c25169f-9e34-4cc2-bd3e-432cda2c540f",
   "metadata": {},
   "outputs": [
    {
     "name": "stdout",
     "output_type": "stream",
     "text": [
      "2070-01-01\n",
      "2070-01-02\n",
      "2070-01-03\n",
      "2070-01-04\n",
      "2070-01-05\n",
      "2070-01-06\n",
      "2070-01-07\n",
      "2070-01-08\n",
      "2070-01-09\n",
      "2070-01-10\n"
     ]
    }
   ],
   "source": [
    "# Iterating over dates\n",
    "\n",
    "future = date(2070, 1, 1)\n",
    "further_future = date(2070, 1, 10)\n",
    "day_delta = timedelta(days=1)\n",
    "\n",
    "for i in range((further_future - future).days + 1):\n",
    "    print(day_delta * i + future)"
   ]
  },
  {
   "cell_type": "code",
   "execution_count": 14,
   "id": "53cad494",
   "metadata": {},
   "outputs": [
    {
     "name": "stdout",
     "output_type": "stream",
     "text": [
      "2024-08-17 02:20:20.139333\n",
      "2024-08-16 22:20:20.139333\n"
     ]
    }
   ],
   "source": [
    "# UTC (Universal Time Coordinated)\n",
    "\n",
    "utc_now = datetime.utcnow()\n",
    "now = datetime.today()\n",
    "\n",
    "print(f'{utc_now}\\n{now}')"
   ]
  },
  {
   "cell_type": "code",
   "execution_count": 15,
   "id": "de871669",
   "metadata": {},
   "outputs": [
    {
     "name": "stdout",
     "output_type": "stream",
     "text": [
      "2024-08-04 00:00:00\n"
     ]
    }
   ],
   "source": [
    "# datetime.strptime to convert string to datetime object\n",
    "\n",
    "today_date = '08/04/2024'\n",
    "date_obj = datetime.strptime(today_date, '%m/%d/%Y')\n",
    "\n",
    "print(date_obj)"
   ]
  },
  {
   "cell_type": "code",
   "execution_count": 16,
   "id": "48c81c6f",
   "metadata": {},
   "outputs": [
    {
     "name": "stdout",
     "output_type": "stream",
     "text": [
      "year: 2024, month = 08, day = 16, time = 22:20:46\n"
     ]
    }
   ],
   "source": [
    "# datetime.strftime to convert datetime, date, or time object to string\n",
    "\n",
    "now = datetime.now()\n",
    "year = now.strftime('%Y')\n",
    "month = now.strftime('%m')\n",
    "day = now.strftime('%d')\n",
    "date = now.strftime('%Y-%m-%d')\n",
    "time = now.strftime('%H:%M:%S')\n",
    "\n",
    "print(f'year: {year}, month = {month}, day = {day}, time = {time}')"
   ]
  },
  {
   "cell_type": "code",
   "execution_count": 19,
   "id": "265b37ad",
   "metadata": {},
   "outputs": [
    {
     "name": "stdout",
     "output_type": "stream",
     "text": [
      "2009-09-01\n"
     ]
    }
   ],
   "source": [
    "# ISO format\n",
    "\n",
    "date = date(2009, 9, 1)\n",
    "\n",
    "print(date.isoformat())"
   ]
  },
  {
   "cell_type": "code",
   "execution_count": 20,
   "id": "355d738b",
   "metadata": {},
   "outputs": [
    {
     "name": "stdout",
     "output_type": "stream",
     "text": [
      "data type of days is <class 'datetime.timedelta'> and the value is 50 days, 0:00:00.\n",
      "data type of seconds is <class 'float'> and the value is 4320000.0.\n"
     ]
    }
   ],
   "source": [
    "# Use timedelta.total_seconds()\n",
    "\n",
    "days = timedelta(days=50)\n",
    "seconds = days.total_seconds()\n",
    "\n",
    "print(f'data type of days is {type(days)} and the value is {days}.\\ndata type of seconds is {type(seconds)} and the value is {seconds}.')"
   ]
  },
  {
   "cell_type": "code",
   "execution_count": 21,
   "id": "bd84f0b4",
   "metadata": {},
   "outputs": [
    {
     "name": "stdout",
     "output_type": "stream",
     "text": [
      "2024-08-16 2024-08-16 22:21:45.993117\n"
     ]
    }
   ],
   "source": [
    "# date.today() vs. datetime.today()\n",
    "\n",
    "today = date.today()\n",
    "now = datetime.today()\n",
    "\n",
    "print(today, now)"
   ]
  },
  {
   "cell_type": "code",
   "execution_count": 24,
   "id": "49f8b76b",
   "metadata": {},
   "outputs": [
    {
     "name": "stdout",
     "output_type": "stream",
     "text": [
      "1991-10-10 10:10:10\n",
      "1991-10-10 10:10:10\n"
     ]
    }
   ],
   "source": [
    "# datetime.combine(date, time) takes a date object and a time object and return a datetime object\n",
    "\n",
    "birthday = date(1991, 10, 10)\n",
    "time = time(10, 10, 10)\n",
    "\n",
    "print(birthday, time)\n",
    "\n",
    "birthday_time = datetime.combine(birthday, time)\n",
    "\n",
    "print(birthday_time)"
   ]
  },
  {
   "cell_type": "code",
   "execution_count": 25,
   "id": "e3024974",
   "metadata": {},
   "outputs": [
    {
     "name": "stdout",
     "output_type": "stream",
     "text": [
      "687067200.0\n"
     ]
    }
   ],
   "source": [
    "# timestamp takes a datetime, and only datetime object and returns a UNIX timestamp,\n",
    "# which is the number of seconds passed since January 1, 1970\n",
    "\n",
    "bday = datetime(1991,10,10)\n",
    "bday_timestamp = datetime.timestamp(bday)\n",
    "\n",
    "print(bday_timestamp)"
   ]
  },
  {
   "cell_type": "code",
   "execution_count": 3,
   "id": "8807ffc5",
   "metadata": {},
   "outputs": [
    {
     "name": "stdout",
     "output_type": "stream",
     "text": [
      "1991-08-17 20:46:11.935368 2024-10-17\n"
     ]
    }
   ],
   "source": [
    "# Using datetime.replace() and date.replace()\n",
    "\n",
    "dtime = datetime.today()\n",
    "dte = date.today()\n",
    "\n",
    "new_dtime = dtime.replace(year = 1991)\n",
    "new_dte = dte.replace(month = 10)\n",
    "\n",
    "print(new_dtime, new_dte)"
   ]
  },
  {
   "cell_type": "code",
   "execution_count": 4,
   "id": "d125be4c",
   "metadata": {},
   "outputs": [
    {
     "name": "stdout",
     "output_type": "stream",
     "text": [
      "5\n",
      "5\n"
     ]
    }
   ],
   "source": [
    "# Using date.weekday() to get the weekday as an integer; Monday = 0, Tuesday = 1, etc.\n",
    "\n",
    "dtime = datetime.today()\n",
    "dte = date.today()\n",
    "\n",
    "print(dtime.weekday())\n",
    "print(dte.weekday())"
   ]
  },
  {
   "cell_type": "code",
   "execution_count": null,
   "id": "ca61ac14",
   "metadata": {},
   "outputs": [],
   "source": []
  }
 ],
 "metadata": {
  "kernelspec": {
   "display_name": "PythonEnv",
   "language": "python",
   "name": "python3"
  },
  "language_info": {
   "codemirror_mode": {
    "name": "ipython",
    "version": 3
   },
   "file_extension": ".py",
   "mimetype": "text/x-python",
   "name": "python",
   "nbconvert_exporter": "python",
   "pygments_lexer": "ipython3",
   "version": "3.11.8"
  }
 },
 "nbformat": 4,
 "nbformat_minor": 5
}
