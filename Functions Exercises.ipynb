{
 "cells": [
  {
   "cell_type": "markdown",
   "id": "07de2125-a10e-45cc-a088-31b1fc1fc1e6",
   "metadata": {},
   "source": [
    "# Functions"
   ]
  },
  {
   "cell_type": "markdown",
   "id": "d39d4566-8ce1-46a5-b2e1-5cbf9a36aa5f",
   "metadata": {},
   "source": [
    "## Recursive Functions\n",
    "- Always think about the base case (condtion to end recursion) and recursive case.\n",
    "- Try drawing the recursion in a tree diagram."
   ]
  },
  {
   "cell_type": "code",
   "execution_count": 7,
   "id": "0852743f-6e8a-4fd7-bcea-099c05a1348d",
   "metadata": {},
   "outputs": [
    {
     "name": "stdout",
     "output_type": "stream",
     "text": [
      "The factorial of 5 is 120.\n"
     ]
    }
   ],
   "source": [
    "\"\"\"\n",
    "Factorial Calculation\n",
    "\n",
    "Problem: Write a recursive function to calculate the factorial of a given non-negative integer n.\n",
    "Example: factorial(5) should return 120.\n",
    "\"\"\"\n",
    "\n",
    "def factorial(n):\n",
    "    if n == 0:\n",
    "        return 1\n",
    "    else:\n",
    "        return n * factorial(n - 1)\n",
    "\n",
    "n = 5\n",
    "result = factorial(n)\n",
    "print(f'The factorial of {n} is {result}.')"
   ]
  },
  {
   "cell_type": "code",
   "execution_count": 38,
   "id": "8843cb96-289d-411e-bedf-304792d83e50",
   "metadata": {},
   "outputs": [
    {
     "name": "stdout",
     "output_type": "stream",
     "text": [
      "21\n"
     ]
    }
   ],
   "source": [
    "\"\"\"\n",
    "Fibonacci Sequence\n",
    "\n",
    "Problem: Write a recursive function to find the n-th number in the Fibonacci sequence. \n",
    "The Fibonacci sequence starts with 0, 1, and each subsequent number is the sum of the previous two.\n",
    "Example: fibonacci(6) should return 8. n is the index in the Fibonacci sequence.\n",
    "\"\"\"\n",
    "\n",
    "def fibo(n):\n",
    "    if n == 0:\n",
    "        return 0\n",
    "    elif n == 1:\n",
    "        return 1\n",
    "    else:\n",
    "        return fibo(n - 1) + fibo(n - 2) # This will branch out into multiple fibo() functions that will look like a tree. \n",
    "        # The lowest level values will add up to result in the nth Fibonacci value.\n",
    "\n",
    "n = 8\n",
    "print(fibo(n))"
   ]
  },
  {
   "cell_type": "code",
   "execution_count": 2,
   "id": "9a04f764-0fe3-4b29-a450-e9bf072a87e5",
   "metadata": {},
   "outputs": [
    {
     "name": "stdout",
     "output_type": "stream",
     "text": [
      "15\n"
     ]
    }
   ],
   "source": [
    "\"\"\"\n",
    "Sum of Digits\n",
    "\n",
    "Problem: Write a recursive function that calculates the sum of the digits of a given positive integer.\n",
    "Example: sum_of_digits(1234) should return 10.\n",
    "\"\"\"\n",
    "\n",
    "def sum_of_digits(n):\n",
    "    if n < 10:\n",
    "        return n\n",
    "    else:\n",
    "        return n % 10 + sum_of_digits(n // 10)\n",
    "\n",
    "print(sum_of_digits(12345))"
   ]
  },
  {
   "cell_type": "code",
   "execution_count": 3,
   "id": "ab1ed833-08ac-48a5-a18e-ceded8bf4c85",
   "metadata": {},
   "outputs": [
    {
     "name": "stdout",
     "output_type": "stream",
     "text": [
      "16\n"
     ]
    }
   ],
   "source": [
    "\"\"\"\n",
    "Power Function\n",
    "\n",
    "Problem: Write a recursive function to compute x raised to the power of n (i.e., x^n).\n",
    "Example: power(2, 3) should return 8.\n",
    "\"\"\"\n",
    "\n",
    "def power(x, n):\n",
    "    if n == 0:\n",
    "        return 1\n",
    "    elif n > 0:\n",
    "        return x * power(x, n - 1)\n",
    "    else:\n",
    "        return 1 / power(x, -n)\n",
    "\n",
    "print(power(2,4))"
   ]
  },
  {
   "cell_type": "code",
   "execution_count": 10,
   "id": "e76430b0-feed-44ab-a694-2bd5ead73218",
   "metadata": {},
   "outputs": [
    {
     "name": "stdout",
     "output_type": "stream",
     "text": [
      "olleh\n"
     ]
    }
   ],
   "source": [
    "\"\"\"\n",
    "Reverse a String\n",
    "\n",
    "Problem: Write a recursive function to reverse a given string.\n",
    "Example: reverse_string(\"hello\") should return \"olleh\".\n",
    "\"\"\"\n",
    "\n",
    "def reverse_string(string):\n",
    "    if len(string) == 0:\n",
    "        return string\n",
    "    else:\n",
    "        return string[-1] + reverse_string(string[:-1])\n",
    "    \n",
    "print(reverse_string('hello'))"
   ]
  },
  {
   "cell_type": "code",
   "execution_count": 1,
   "id": "487ff578-82d4-4662-a357-06799be7cefa",
   "metadata": {},
   "outputs": [
    {
     "data": {
      "text/plain": [
       "5"
      ]
     },
     "execution_count": 1,
     "metadata": {},
     "output_type": "execute_result"
    }
   ],
   "source": [
    "\"\"\"\n",
    "Greatest Common Divisor (GCD)\n",
    "\n",
    "Q: Finding the greatest common divisor (GCD) of a pair of integers is a well-known math problem. \n",
    "For this coding problem, you are required to fully study the problem using resources on the Web, study the algorithms, and \n",
    "choose one to write a recursive function that takes a pair of arguments n and m, calculate and return the GCD.\n",
    "\n",
    "Improved Euclidean Algorithm\n",
    "\n",
    "This script follows an improved version of the Euclidean algorithm to find the Greatest Common Divisor between two integers.\n",
    "It works by taking two integers and replacing the larger integer with the remainder of their division until one of the numbers reaches 0, at which\n",
    "the non-zero number is the GCD.\n",
    "\n",
    "\n",
    "The script first ensures both numbers are positive by taking their absolute values. It then uses recursion to compute the GCD efficiently. For each recursive call, it calculates the remainder of dividing the larger number by the smaller number and continues the process until reaching a base case where one number is zero. The remaining non-zero number is returned as the GCD.\n",
    "Function Definition (improved_euclidean(m, n)):\n",
    "    Takes the absolute value of the two integer inputs m and n in order to adhere to the Euclidean definition.\n",
    "    Swaps m and n if m < n to maintain the larger number is the numerator in the division to calculate the remainder.\n",
    "    The base case returns the larger number as the GCD if the smaller number is 0 as the GCD of 0 and a non-zero integer is the non-zero integer.\n",
    "    The recursion case calculates the remainder and returns the recursive function with n as the new m and the remainder as the new n.\n",
    "\n",
    "Example Input and Output:\n",
    "    m = 5000\n",
    "    n = -10\n",
    "    improved_euclidean(m, n)\n",
    "    Prints out the following statement:\n",
    "        The Greatest Common Divisor between 5000 and -10 is 10.\n",
    "\n",
    "File Name: codingproblem2.py\n",
    "Author: Ji Yeol Yang\n",
    "Date: August 7th, 2024\n",
    "Version: 1.0\n",
    "\"\"\"\n",
    "\n",
    "def improved_euclidean(m, n):\n",
    "    \"\"\"\n",
    "    Uses recursion to find the Greatest Common Divisor (GCD) of two integers by following the improved version of the Euclidean algorithm\n",
    "\n",
    "    This function replaces the larger integer with the remainder their division recursively\n",
    "    until one of the integers becomes zero. The non-zero integer at this point is the GCD.\n",
    "\n",
    "    Parameters:\n",
    "        m (integer): The first integer that will be converted to its absolute value to handle negative values\n",
    "        n (integer): The second integer that will be converted to its absolute value to handle negative values\n",
    "\n",
    "    Returns:\n",
    "        m (integer): The greatest common divisor of the two input integers.\n",
    "    \"\"\"\n",
    "    m, n = abs(m), abs(n) # Converts both integer inputs to their absolute values in order to handle negative values\n",
    "    if m < n: # Conditional if statement to handle cases when m is smaller than n\n",
    "        m, n = n, m # Swaps m and n to make sure m is greater\n",
    "\n",
    "    if n == 0: # Base case to end recursion\n",
    "        return m # If n is 0, the GCD is m\n",
    "    \n",
    "    remainder = m % n # Using modulus operation to find the remainder\n",
    "    return improved_euclidean(n, remainder) # Recursive case; the remainder replaces the larger integer\n",
    "\n",
    "# Example input\n",
    "m = 5000\n",
    "n = -10\n",
    "\n",
    "# Example output that prints out the two integers and their GCD\n",
    "print(f'The Greatest Common Divisor between {m} and {n} is {improved_euclidean(m, n)}.')\n",
    "\n"
   ]
  },
  {
   "cell_type": "code",
   "execution_count": null,
   "id": "caea84a4-97d8-4d3b-b39b-9b3b2004ab0d",
   "metadata": {},
   "outputs": [],
   "source": [
    "\"\"\"\n",
    "List Sum\n",
    "\n",
    "Problem: Write a recursive function to calculate the sum of all elements in a list of integers.\n",
    "Example: list_sum([1, 2, 3, 4]) should return 10.\n",
    "\"\"\""
   ]
  },
  {
   "cell_type": "code",
   "execution_count": null,
   "id": "9a4ab1ac-37fb-4725-a3d1-c6bf2df1215e",
   "metadata": {},
   "outputs": [],
   "source": [
    "\"\"\"\n",
    "Check Palindrome\n",
    "\n",
    "Problem: Write a recursive function to check if a given string is a palindrome (reads the same forward and backward).\n",
    "Example: is_palindrome(\"racecar\") should return True.\n",
    "\"\"\""
   ]
  },
  {
   "cell_type": "markdown",
   "id": "875388c8",
   "metadata": {},
   "source": [
    "## Function Exercises"
   ]
  },
  {
   "cell_type": "code",
   "execution_count": 8,
   "id": "3b5501ce",
   "metadata": {},
   "outputs": [
    {
     "data": {
      "text/plain": [
       "33"
      ]
     },
     "execution_count": 8,
     "metadata": {},
     "output_type": "execute_result"
    }
   ],
   "source": [
    "\"\"\"\n",
    "1. Python has a built-in\n",
    "input function for taking input from users.\n",
    "However, it treats everything from the user as a string. For this\n",
    "exercise, define a function named getInteger, which takes one\n",
    "optional argument as a prompt and gets and returns an integer from\n",
    "the user.\n",
    "\"\"\"\n",
    "\n",
    "def getInteger(prompt='Enter an integer:'):\n",
    "    while True:\n",
    "        try:\n",
    "            user_input = input(prompt).strip() # You don't try to convert this integer in this code because the next code will unintentionally raise ValueError on '0's. 'not' in Python and '0' in Python are both considred falsy.\n",
    "            if not user_input: # 'if not user_input.isdigit()' will not work because it will filter out negative integers as well.\n",
    "                raise ValueError\n",
    "            user_input = int(user_input)\n",
    "        except ValueError:\n",
    "            print('Invalid Input. You must enter an integer.')\n",
    "        else:\n",
    "            return user_input\n",
    "\n",
    "getInteger('Enter your age: ')"
   ]
  },
  {
   "cell_type": "code",
   "execution_count": 18,
   "id": "6ab8eeb9",
   "metadata": {},
   "outputs": [
    {
     "data": {
      "text/plain": [
       "945"
      ]
     },
     "execution_count": 18,
     "metadata": {},
     "output_type": "execute_result"
    }
   ],
   "source": [
    "\"\"\"\n",
    "2. Define a function that has one argument, n, that will take a natural\n",
    "number and return the product of all the odd numbers between 1 and n. \n",
    "Note that natural numbers are positive integers used for counting.\n",
    "\"\"\"\n",
    "\n",
    "def product_naturalNumber(n):\n",
    "    try:\n",
    "        if not isinstance(n, int):\n",
    "            raise ValueError\n",
    "        if n <= 0:\n",
    "            raise ValueError\n",
    "    except ValueError:\n",
    "        return 'You must enter a natural number, which is a positive integer greater than 0.'\n",
    "    else:\n",
    "        product = 1\n",
    "        for i in range(1, n+1):\n",
    "            if i % 2 != 0:\n",
    "                product *= i\n",
    "        \n",
    "        return product\n",
    "    \n",
    "product_naturalNumber(10)"
   ]
  },
  {
   "cell_type": "code",
   "execution_count": 24,
   "id": "aa82a0f9",
   "metadata": {},
   "outputs": [
    {
     "data": {
      "text/plain": [
       "3"
      ]
     },
     "execution_count": 24,
     "metadata": {},
     "output_type": "execute_result"
    }
   ],
   "source": [
    "\"\"\"\n",
    "3. Define a function that has one argument, n, that will take an integer\n",
    "and return the product of all the odd numbers between 1 and n, or\n",
    "between n and −1 if n is a negative integer, or that will return None if n\n",
    "is not an integer.\n",
    "\"\"\"\n",
    "\n",
    "def int_operations(n):\n",
    "    if not isinstance(n, int):\n",
    "        return None\n",
    "    else:\n",
    "        if n > 0:\n",
    "            product = 1\n",
    "            for i in range(1, n+1):\n",
    "                if i % 2 != 0:\n",
    "                    product *= i\n",
    "            return product\n",
    "        elif n < 0:\n",
    "            product = 1\n",
    "            for i in range(n, 0): # iterate up to -1\n",
    "                if i % 2 != 0:\n",
    "                    product *= i\n",
    "            return product\n",
    "        \n",
    "int_operations(-3)\n"
   ]
  },
  {
   "cell_type": "code",
   "execution_count": 37,
   "id": "f021c936",
   "metadata": {},
   "outputs": [
    {
     "name": "stdout",
     "output_type": "stream",
     "text": [
      "21\n"
     ]
    }
   ],
   "source": [
    "\"\"\"\n",
    "4. The Fibonacci sequence (Fn) is well-known\n",
    "in mathematics, and is defined as follows:\n",
    "F0 = 1, F1 = 1, Fn = Fn−1 + Fn−2\n",
    "Define a recursive function that takes one argument, n, and\n",
    "calculates and returns the nth item (Fn) of the Fibonacci sequence.\n",
    "\"\"\"\n",
    "\n",
    "def fibonacci(n):\n",
    "    if n == 0:\n",
    "        return 0\n",
    "    elif n == 1:\n",
    "        return 1\n",
    "    else:\n",
    "        return fibonacci(n-1) + fibonacci(n-2)\n",
    "    \n",
    "print(fibonacci(8))    "
   ]
  },
  {
   "cell_type": "code",
   "execution_count": 1,
   "id": "2458c9cb",
   "metadata": {},
   "outputs": [
    {
     "name": "stdout",
     "output_type": "stream",
     "text": [
      "[0, 1, 1, 2, 3, 5, 8, 13, 21]\n"
     ]
    }
   ],
   "source": [
    "\"\"\"\n",
    "5. Define a recursive function that takes one argument, n, and calculates\n",
    "and returns the entire list of all items from F0 to Fn, of the Fibonacci\n",
    "sequence.\n",
    "\"\"\"\n",
    "\n",
    "def fibonacci_sequence(n):\n",
    "    if n == 0:\n",
    "        return [0]\n",
    "    if n == 1:\n",
    "        return [0, 1]\n",
    "    \n",
    "    fibo_list = fibonacci_sequence(n-1)\n",
    "    fibo_list.append(fibo_list[-1] + fibo_list[-2])\n",
    "    return fibo_list\n",
    "\n",
    "print(fibonacci_sequence(8))"
   ]
  },
  {
   "cell_type": "code",
   "execution_count": 28,
   "id": "2e26af27",
   "metadata": {},
   "outputs": [
    {
     "data": {
      "text/plain": [
       "-120"
      ]
     },
     "execution_count": 28,
     "metadata": {},
     "output_type": "execute_result"
    }
   ],
   "source": [
    "\"\"\"\n",
    "6. Define a function that takes a variable-length\n",
    "list of numbers and\n",
    "returns the product of all these numbers.\n",
    "\"\"\"\n",
    "\n",
    "def get_product(*args): # args become a tuple of arguments.\n",
    "        if not all(isinstance(arg, (float, int)) for arg in args): # The elements inside all() will be True, False, True, True, etc. depending on the arguments passed.\n",
    "                raise ValueError('All arguments must be numbers.')\n",
    "        else:\n",
    "            product = 1\n",
    "            for number in args:\n",
    "                   product *= number\n",
    "            return product\n",
    "        \n",
    "get_product(1,2,3,4,-5)"
   ]
  },
  {
   "cell_type": "markdown",
   "id": "eba5ef88",
   "metadata": {},
   "source": [
    "## Function Projects"
   ]
  },
  {
   "cell_type": "code",
   "execution_count": 2,
   "id": "7427813a",
   "metadata": {},
   "outputs": [
    {
     "name": "stdout",
     "output_type": "stream",
     "text": [
      "43196.665\n"
     ]
    }
   ],
   "source": [
    "\"\"\"\n",
    "1. Study the federal personal income tax rates for the current tax\n",
    "year and define a function that takes one argument as net taxable\n",
    "income and calculates and returns the total federal income tax due.\n",
    "\"\"\"\n",
    "\n",
    "def fed_tax(net_taxable_income):\n",
    "    if not isinstance(net_taxable_income, (float,int)):\n",
    "        raise ValueError('You must enter a number without the dollar sign and commas.')\n",
    "    else:\n",
    "        if net_taxable_income <= 57375:\n",
    "            net_tax = net_taxable_income * 0.15\n",
    "        elif net_taxable_income <= 114750:\n",
    "            net_tax = (net_taxable_income - 57375) * 0.205 + (57375 * 0.15)\n",
    "        elif net_taxable_income <= 177882:\n",
    "            net_tax = (net_taxable_income - 114750) * 0.26 + (114750 - 57375) * 0.205 + (57375 * 0.15)\n",
    "        elif net_taxable_income <= 253414:\n",
    "            net_tax = (net_taxable_income - 177882) * 0.29 + (177882 - 114750) * 0.26 + (114750 - 57375) * 0.205 + (57375 * 0.15)\n",
    "        else:\n",
    "            net_tax = (net_taxable_income - 253414) * 0.33 + (253414 - 177882) * 0.29 + (177882 - 114750) * 0.26 + (114750 - 57375) * 0.205 + (57375 * 0.15)\n",
    "\n",
    "    return net_tax\n",
    "\n",
    " \n",
    "\n",
    "print(fed_tax(200000))"
   ]
  },
  {
   "cell_type": "code",
   "execution_count": 3,
   "id": "1045e572",
   "metadata": {},
   "outputs": [
    {
     "name": "stdout",
     "output_type": "stream",
     "text": [
      "18840.799\n"
     ]
    }
   ],
   "source": [
    "\"\"\"\n",
    "2. Study both the federal personal income tax rates and the provincial\n",
    "tax rates for your province for the current tax year. Define a function\n",
    "that takes one argument as net taxable income and calculate and\n",
    "return both total federal income tax due and total provincial tax due.\n",
    "\"\"\"\n",
    "\n",
    "def fedAndprov_tax(net_taxable_income):\n",
    "    if not isinstance(net_taxable_income, (float,int)):\n",
    "        raise ValueError('You must enter a number without the dollar sign and commas.')\n",
    "   \n",
    "    if net_taxable_income <= 57375:\n",
    "        net_fed = net_taxable_income * 0.15\n",
    "    elif net_taxable_income <= 114750:\n",
    "        net_fed = (net_taxable_income - 57375) * 0.205 + (57375 * 0.15)\n",
    "    elif net_taxable_income <= 177882:\n",
    "        net_fed = (net_taxable_income - 114750) * 0.26 + (114750 - 57375) * 0.205 + (57375 * 0.15)\n",
    "    elif net_taxable_income <= 253414:\n",
    "        net_fed = (net_taxable_income - 177882) * 0.29 + (177882 - 114750) * 0.26 + (114750 - 57375) * 0.205 + (57375 * 0.15)\n",
    "    else:\n",
    "        net_fed = (net_taxable_income - 253414) * 0.33 + (253414 - 177882) * 0.29 + (177882 - 114750) * 0.26 + (114750 - 57375) * 0.205 + (57375 * 0.15)\n",
    "\n",
    "    if net_taxable_income <= 52886:\n",
    "        net_pro = net_taxable_income * 0.0505\n",
    "    elif net_taxable_income <= 105775:\n",
    "        net_pro = (net_taxable_income - 52886) * 0.0915 + (52886 * 0.0505)\n",
    "    elif net_taxable_income <= 150000:\n",
    "        net_pro = (net_taxable_income - 105775) * 0.1116 + (105775 - 52866) * 0.0915 + (52886 * 0.0505)\n",
    "    elif net_taxable_income <= 220000:\n",
    "        net_pro = (net_taxable_income - 150000) * 0.1216 + (150000 - 105775) * 0.1116 + (105775 - 52866) * 0.0915 + (52886 * 0.0505)\n",
    "    else:\n",
    "        net_pro = (net_taxable_income - 220000) * 0.1316 + (220000 - 150000) * 0.1216 + (150000 - 105775) * 0.1116 + (105775 - 52866) * 0.0915 + (52886 * 0.0505)\n",
    "\n",
    "    return net_fed + net_pro\n",
    "\n",
    " \n",
    "\n",
    "print(fedAndprov_tax(81500))"
   ]
  },
  {
   "cell_type": "code",
   "execution_count": 4,
   "id": "f272e367",
   "metadata": {},
   "outputs": [
    {
     "name": "stdout",
     "output_type": "stream",
     "text": [
      "5288.924000000001\n"
     ]
    }
   ],
   "source": [
    "\"\"\"\n",
    "3. Modify the function defined for 6.6 by adding a keyword argument\n",
    "with the default value f or F to tell the function to calculate and return\n",
    "the federal tax due. If the argument passed to the keyword parameter\n",
    "is p or P, then provincial tax due should be calculated and returned.\n",
    "Test the modified function with different values passed to the keyword\n",
    "argument to make sure it works as expected.\n",
    "\"\"\"\n",
    "\n",
    "def fedAndprov_tax(net_taxable_income, fed_or_prov = 'f'):\n",
    "    if not isinstance(net_taxable_income, (float,int)):\n",
    "        raise ValueError('You must enter a number without the dollar sign and commas.')\n",
    "\n",
    "    if fed_or_prov == 'f':\n",
    "        if net_taxable_income <= 57375:\n",
    "            net_fed = net_taxable_income * 0.15\n",
    "        elif net_taxable_income <= 114750:\n",
    "            net_fed = (net_taxable_income - 57375) * 0.205 + (57375 * 0.15)\n",
    "        elif net_taxable_income <= 177882:\n",
    "            net_fed = (net_taxable_income - 114750) * 0.26 + (114750 - 57375) * 0.205 + (57375 * 0.15)\n",
    "        elif net_taxable_income <= 253414:\n",
    "            net_fed = (net_taxable_income - 177882) * 0.29 + (177882 - 114750) * 0.26 + (114750 - 57375) * 0.205 + (57375 * 0.15)\n",
    "        else:\n",
    "            net_fed = (net_taxable_income - 253414) * 0.33 + (253414 - 177882) * 0.29 + (177882 - 114750) * 0.26 + (114750 - 57375) * 0.205 + (57375 * 0.15)\n",
    "        return net_fed\n",
    "\n",
    "    elif fed_or_prov == 'p':\n",
    "        if net_taxable_income <= 52886:\n",
    "            net_pro = net_taxable_income * 0.0505\n",
    "        elif net_taxable_income <= 105775:\n",
    "            net_pro = (net_taxable_income - 52886) * 0.0915 + (52886 * 0.0505)\n",
    "        elif net_taxable_income <= 150000:\n",
    "            net_pro = (net_taxable_income - 105775) * 0.1116 + (105775 - 52866) * 0.0915 + (52886 * 0.0505)\n",
    "        elif net_taxable_income <= 220000:\n",
    "            net_pro = (net_taxable_income - 150000) * 0.1216 + (150000 - 105775) * 0.1116 + (105775 - 52866) * 0.0915 + (52886 * 0.0505)\n",
    "        else:\n",
    "            net_pro = (net_taxable_income - 220000) * 0.1316 + (220000 - 150000) * 0.1216 + (150000 - 105775) * 0.1116 + (105775 - 52866) * 0.0915 + (52886 * 0.0505)\n",
    "    return net_pro\n",
    "\n",
    " \n",
    "\n",
    "print(fedAndprov_tax(81500, fed_or_prov='p'))"
   ]
  },
  {
   "cell_type": "code",
   "execution_count": null,
   "id": "c25ae9cd",
   "metadata": {},
   "outputs": [],
   "source": [
    "\"\"\"\n",
    "4. The Tower of Hanoi is a mental game. It consists of three rods and N\n",
    "disks of different sizes that can move onto any rod one by one, but\n",
    "at no time is a bigger disk allowed to be on top of a smaller disk. The\n",
    "three rods are labelled A, B, and C. The game begins with all disks\n",
    "stack on rod A, and the goal is to move all the disks onto rod C. Write\n",
    "a recursive function that takes one argument as the number of disks\n",
    "initially on rod A and print out the moves to be taken in order to move\n",
    "all the disks from A to C. Each move can be represented as i: Rs Rd,\n",
    "where i is 0, 1, 2…, Rs and Rd is A, B or C, but Rs and Rd cannot be the\n",
    "same. It means that at step i, take one disk from source rod Rs and\n",
    "slide it onto destination rod Rd. For example, if there are three disks\n",
    "on rod A, the moves will be as follows:\n",
    "1: A C, 2 : A B, 3 : C B, 4 : A C, 5 : B A, 6 : B C, 7 : A C\n",
    "\"\"\"\n",
    "\n",
    "def tower_of_hanoi(n, source, target, temp):\n",
    "    \"\"\"\n",
    "    Solves the Tower of Hanoi puzzle using recursion.\n",
    "\n",
    "    Parameters:\n",
    "    n (int): Number of discs to move.\n",
    "    source (str): The starting pole where the discs are initially placed.\n",
    "    target (str): The destination pole where the discs need to be moved.\n",
    "    temp (str): The temporary pole used as an intermediary.\n",
    "\n",
    "    Moves 'n' discs from the source pole to the target pole using the temporary pole as a placeholder.\n",
    "    \"\"\"\n",
    "    # Base Case:\n",
    "    if n == 1:\n",
    "        # Move a single disc directly from the source pole to the target pole\n",
    "        print(f'Move disc {n} from {source} to {target}.')\n",
    "        return\n",
    "\n",
    "    # Recursive Case:\n",
    "    # 1. Move n-1 discs from the source pole to the temporary pole using the target pole as intermediary\n",
    "    tower_of_hanoi(n-1, source, temp, target)\n",
    "\n",
    "    # 2. Move the nth (largest) disc directly from the source pole to the target pole\n",
    "    print(f'Move disc {n} from {source} to {target}.')\n",
    "\n",
    "    # 3. Move the n-1 discs from the temporary pole to the target pole using the source pole as intermediary\n",
    "    tower_of_hanoi(n-1, temp, target, source)\n",
    "\n",
    "def initiate():\n",
    "    \"\"\"\n",
    "    Initiates the Tower of Hanoi process by asking the user for the number of discs.\n",
    "    \"\"\"\n",
    "\n",
    "    while True:\n",
    "        try:\n",
    "            # Prompt user to enter the number of discs and ensure it's an integer\n",
    "            n = int(input('Please enter the number of discs you would like to try (e.g., 3): '))\n",
    "            break\n",
    "        except ValueError:\n",
    "            # Handle invalid input by prompting the user again\n",
    "            print('Invalid Entry! Please enter an integer.')\n",
    "\n",
    "    # Define the names of the poles\n",
    "    source = 'Pole A'\n",
    "    target = 'Pole C'\n",
    "    temp = 'Pole B'\n",
    "    \n",
    "    # Call the recursive function to solve the Tower of Hanoi puzzle\n",
    "    tower_of_hanoi(n, source, target, temp)\n",
    "\n",
    "if __name__ == \"__main__\":\n",
    "    # Execute the initiate function when the script is run directly\n",
    "    initiate()"
   ]
  },
  {
   "cell_type": "code",
   "execution_count": null,
   "id": "e13b48fe",
   "metadata": {},
   "outputs": [
    {
     "name": "stdout",
     "output_type": "stream",
     "text": [
      "You are 33 years, 3 months, and 22 days old!\n"
     ]
    }
   ],
   "source": [
    "\"\"\"\n",
    "Version 1\n",
    "Problem 3: Age Calculator\n",
    "\n",
    "This script takes a user input and calculates a the user's age in years, months, and days.\n",
    "It prompts the user to enter their date of birth in the format: DD/MM/YYYY.\n",
    "Using the datetime module, the script computes the difference between the current date and the birth date,\n",
    "adjusting for negative values in days and months to provide an accurate age calculation.\n",
    "\n",
    "The script correctly adjusts for cases when the straightforward subtraction in days and months result in negative values.\n",
    "\n",
    "An initiation function that asks for the user's input is defined to call the age calculator function.\n",
    "\n",
    "Function Definition (age_calculator):\n",
    "    This function calculates the user's age based on the user input from the initiate function and the current date.\n",
    "    It gracefully handles input errors.\n",
    "    It prints the age in years, months, and days.\n",
    "\n",
    "Function Definition (initiate):\n",
    "    It prompts the user to enter their date of birth and calls the age_calculator function.\n",
    "\n",
    "Input:\n",
    "    The initiate function prompts user to enter their date of birth in DD/MM/YYYY format.\n",
    "\n",
    "Output:\n",
    "    The age_calculator function prints the age in years, months, and days.\n",
    "\n",
    "File name: codingproblem3.py\n",
    "Author: Ji Yeol Yang\n",
    "Date: August 13th, 2024\n",
    "Version: 2.0\n",
    "\"\"\"\n",
    "\n",
    "# Import the datetime module\n",
    "from datetime import datetime\n",
    "\n",
    "# Define the age_caculator function that calculates the age\n",
    "def age_calculator(birth_date):\n",
    "    \"\"\"\n",
    "    Calculates and prints the user's age in years, months, and days based on the user-provided birth date.\n",
    "    Handles incorrect date formats and future dates by prompting the user to re-enter their birth date.\n",
    "    \n",
    "    Parameters:\n",
    "        birth_date(str): The user's birth date in the following format: DD/MM/YYYY.\n",
    "    \"\"\"\n",
    "    while True: # The loop ensures that the user enters a correct birthdate format before proceeding\n",
    "        try: # Try-Except block to ensure correct formatting\n",
    "            birth_date_obj = datetime.strptime(birth_date, '%d/%m/%Y') # Use strptime to convert string input to datetime object\n",
    "            if birth_date_obj > datetime.now(): # The if condition ensures that no future dates are entered for date of birth\n",
    "                print('Your date of birth cannot be in future.')\n",
    "                return initiate() # Call the initiate function if invalid inputs\n",
    "            break\n",
    "        except ValueError: # Exception handling for invalid input formats\n",
    "            print('Please adhere to the DD/MM/YYYY format.')\n",
    "            return initiate() # Call the initiate function if invalid inputs\n",
    "    \n",
    "    # Calculate age in years, months, and days using the datetime.now() for the current date and the birth date datetime object\n",
    "    present = datetime.now()\n",
    "    age_years = present.year - birth_date_obj.year\n",
    "    age_months = present.month - birth_date_obj.month\n",
    "    age_days = present.day - birth_date_obj.day\n",
    "\n",
    "    # Adjust for the month and year of the age if the day of the present month is smaller than the birth day of the birth month\n",
    "    if age_days < 0:\n",
    "        if present.month == 1: # If the current month is January, calculate the number of days in December of the previous year\n",
    "            previous_month = 12\n",
    "            days_in_previous_month = (datetime(present.year, 1, 1) - datetime(present.year - 1, previous_month, 1)).days # Subtract to get a timedelta object then convert to integer\n",
    "        else:\n",
    "            previous_month = present.month - 1 # For all other cases when the present month is not January\n",
    "            days_in_previous_month = (datetime(present.year, present.month, 1) - datetime(present.year, previous_month, 1)).days # Subtract to get a timedelta object then convert to integer\n",
    "    \n",
    "        age_days += days_in_previous_month # Adjust the days\n",
    "        age_months -= 1 # Adjust the months\n",
    "\n",
    "    if age_months < 0: # If the difference in months is negative\n",
    "        age_years -= 1 # Decrease the year by 1\n",
    "        age_months += 12 # Adjust the months\n",
    "    \n",
    "    #Print the output\n",
    "    print(f'You are {age_years} years, {age_months} months, and {age_days} days old!')\n",
    "\n",
    "\n",
    "def initiate():\n",
    "    \"\"\"\n",
    "    Prompts a user input that will be used as an argument in the age_calculator function\n",
    "    \"\"\"\n",
    "    birth_date = input('Please provide your date of birth in DD/MM/YYYY format.')\n",
    "    age_calculator(birth_date) # Call age_calculator\n",
    "\n",
    "if __name__ == '__main__':\n",
    "    # Execute the initiate function when the script is run directly\n",
    "    initiate()\n",
    "\n"
   ]
  },
  {
   "cell_type": "code",
   "execution_count": 24,
   "id": "c13d838d",
   "metadata": {},
   "outputs": [
    {
     "name": "stdout",
     "output_type": "stream",
     "text": [
      "You are 33 years, 4 months, and 3 days old.\n"
     ]
    }
   ],
   "source": [
    "\"\"\"\n",
    "Version 2\n",
    "Write a function that will take one argument as someone’s birthdate in DD/MM/YYYY format \n",
    "and calculate and return the age of the person. Note that you will need to use the datetime module \n",
    "to get the current date and use the related functions/methods to work out the age.\n",
    "\"\"\"\n",
    "\n",
    "from datetime import datetime\n",
    "\n",
    "def get_birthday():\n",
    "    while True:\n",
    "        try:\n",
    "            year = int(input('Enter the year of birth: ').strip())\n",
    "        except ValueError:\n",
    "            print('You must enter the year of your birth in integer.')\n",
    "        else:\n",
    "            break\n",
    "    while True:\n",
    "        try:\n",
    "            month = int(input('Enter the month of your birth in integer format (January is 1)').strip())\n",
    "        except ValueError:\n",
    "            print('You must enter the month of your birth in integer.')\n",
    "        else:\n",
    "            break\n",
    "    while True:\n",
    "        try:\n",
    "            day = int(input('Enter the date of your birth: '))\n",
    "        except ValueError:\n",
    "            print('You must enter the date of your birth in integer.')\n",
    "        else:\n",
    "            break\n",
    "    \n",
    "    birthday = f'{day}/{month}/{year}'\n",
    "    return calculate_age(birthday)\n",
    "\n",
    "\n",
    "def calculate_age(birthday):\n",
    "    bday = datetime.strptime(birthday, \"%d/%m/%Y\").date()\n",
    "    today = datetime.today().date()\n",
    "\n",
    "    difference_days = (today-bday).days\n",
    "    age_years = difference_days // 365\n",
    "    age_months = (difference_days % 365) // 30\n",
    "    age_days = (difference_days % 365) % 30\n",
    "\n",
    "    print(f'You are {age_years} years, {age_months} months, and {age_days} days old.')\n",
    "\n",
    "get_birthday()"
   ]
  },
  {
   "cell_type": "markdown",
   "id": "4a58dbff",
   "metadata": {},
   "source": [
    "Study the code and explain what the function does, then add a comment to each line of code explaining what the code on that line does.\n",
    "```python\n",
    "    def fibo(n):\n",
    "    \"\"\"\n",
    "    The function generates a list of Fibonacci numbers.\n",
    "\n",
    "    It initializes the Fibonacci sequence with [1, 1], and iterates from index 2 up to and including the nth index.\n",
    "    It returns an empty list if n is not an integer or is a negative number.\n",
    "\n",
    "    Function parameter:\n",
    "        n indicates how many terms of the Fibonacci sequence should be generated. The total number of elements in the sequence is n + 1.\n",
    "\n",
    "    Return:\n",
    "        Returns a list containing n + 1 Fibonacci numbers.\n",
    "\n",
    "    Example:\n",
    "        fibo(6) returns [1, 1, 2, 3, 5, 8, 13]\n",
    "    \"\"\"\n",
    "        fl = [] # Initialize an empty list; returned if n is invalid\n",
    "        if not isinstance(n, int) or n < 0: # Uses isinstance(n, int) and n < 0 to check if n is a non-integer or negative\n",
    "            return fl # Returns the empty list if n is a non-integer or negative\n",
    "\n",
    "        fl = [1, 1] # Initialize the Fibonacci list with the first two Fibonacci numbers\n",
    "        for i in range(2, n+1): # Uses for loop to iterate from index 2 up to n inclusive\n",
    "            # Cacluate the next Fibonacci number and update the Fibonacci list\n",
    "            fl += [fl[i-1] + fl[i-2]] \n",
    "            # The updated Fibonacci list is the concatenation of the existing list and the list containing the new number, \n",
    "            # which is the sum of the two preceding numbers. [i-1] and [i-2] indicates the two preciding indices of the list.\n",
    "        return fl # Return the Fibonacci list after looping from 2 and up to n inclusive\n",
    "```\n",
    "- *Explanation*: The program defines a function that returns a list of Fibonacci numbers. A Fibonacci sequence is a sequence of numbers in which each number is the sum of the two immediately preceding numbers. The function initializes a Fibonacci list with [1,1]. If n is a non-negative integer, the function will return n+1 Fibonacci numbers in a list. If n is a negative integer or is not an integer, the function will return an empty list []. An example of the Fibonacci sequence is [0, 1, 1, 2, 3, 5, 8, 13, ...].\n",
    "- *Output example*: fibo(6) returns [1, 1, 2, 3, 5, 8, 13]"
   ]
  },
  {
   "cell_type": "markdown",
   "id": "d51b8a3f",
   "metadata": {},
   "source": [
    "Study the script below, explain what it does, then write down the output from the code.\n",
    "```python\n",
    "    number = 32 # Assign 32 to the variable 'number'\n",
    "    factors = [] # Initialize an empty list that will later store the factors of the number\n",
    "\n",
    "    for d in range(1, number): # Iterate through integers 1 up to but excluding 32\n",
    "        if number % d == 0: # Check if 'd' is a factor of 'number' by checking if 'number' divided by 'd' has no remainder using modulus\n",
    "            factors += [d] # Add 'd' to the list of factors if 'd' is a factor using list concatenation\n",
    "\n",
    "    print(f'factors of {number} are {factors}') # Print the 'number' and the list of factors\n",
    "```\n",
    "- *Explanation*: This program returns a list of all the factors of the number 32, not including 32 itself. It assigns integer 32 to the variable `number` and initializes an empty list named `factors` into which the factors of 32 will be stored. It then loops through the integers `d` from 1 up to but excluding 32. In each loop, it checks if `d` is a factor of 32 using modulus (`number % d == 0`) - meaning `number` divided by `d` leaves no remainder. If `d` is a factor, it is added to the list of factors. This is done by concatenating the `factors` list with the new list that stores `d`. After completing the iteration, a statement with the number 32 and a list of its factors is printed.\n",
    "- *Output*: **factors of 32 are [1, 2, 4, 8, 16]**"
   ]
  }
 ],
 "metadata": {
  "kernelspec": {
   "display_name": "PythonEnv",
   "language": "python",
   "name": "python3"
  },
  "language_info": {
   "codemirror_mode": {
    "name": "ipython",
    "version": 3
   },
   "file_extension": ".py",
   "mimetype": "text/x-python",
   "name": "python",
   "nbconvert_exporter": "python",
   "pygments_lexer": "ipython3",
   "version": "3.11.8"
  }
 },
 "nbformat": 4,
 "nbformat_minor": 5
}
