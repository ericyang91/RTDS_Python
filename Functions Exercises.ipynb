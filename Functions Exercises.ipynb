{
 "cells": [
  {
   "cell_type": "markdown",
   "id": "07de2125-a10e-45cc-a088-31b1fc1fc1e6",
   "metadata": {},
   "source": [
    "# Functions"
   ]
  },
  {
   "cell_type": "markdown",
   "id": "d39d4566-8ce1-46a5-b2e1-5cbf9a36aa5f",
   "metadata": {},
   "source": [
    "## Recursive Functions\n",
    "- Always think about the base case (condtion to end recursion) and recursive case.\n",
    "- Try drawing the recursion in a tree diagram."
   ]
  },
  {
   "cell_type": "code",
   "execution_count": 7,
   "id": "0852743f-6e8a-4fd7-bcea-099c05a1348d",
   "metadata": {},
   "outputs": [
    {
     "name": "stdout",
     "output_type": "stream",
     "text": [
      "The factorial of 5 is 120.\n"
     ]
    }
   ],
   "source": [
    "\"\"\"\n",
    "Factorial Calculation\n",
    "\n",
    "Problem: Write a recursive function to calculate the factorial of a given non-negative integer n.\n",
    "Example: factorial(5) should return 120.\n",
    "\"\"\"\n",
    "\n",
    "def factorial(n):\n",
    "    if n == 0:\n",
    "        return 1\n",
    "    else:\n",
    "        return n * factorial(n - 1)\n",
    "\n",
    "n = 5\n",
    "result = factorial(n)\n",
    "print(f'The factorial of {n} is {result}.')"
   ]
  },
  {
   "cell_type": "code",
   "execution_count": 38,
   "id": "8843cb96-289d-411e-bedf-304792d83e50",
   "metadata": {},
   "outputs": [
    {
     "name": "stdout",
     "output_type": "stream",
     "text": [
      "21\n"
     ]
    }
   ],
   "source": [
    "\"\"\"\n",
    "Fibonacci Sequence\n",
    "\n",
    "Problem: Write a recursive function to find the n-th number in the Fibonacci sequence. \n",
    "The Fibonacci sequence starts with 0, 1, and each subsequent number is the sum of the previous two.\n",
    "Example: fibonacci(6) should return 8. n is the index in the Fibonacci sequence.\n",
    "\"\"\"\n",
    "\n",
    "def fibo(n):\n",
    "    if n == 0:\n",
    "        return 0\n",
    "    elif n == 1:\n",
    "        return 1\n",
    "    else:\n",
    "        return fibo(n - 1) + fibo(n - 2) # This will branch out into multiple fibo() functions that will look like a tree. \n",
    "        # The lowest level values will add up to result in the nth Fibonacci value.\n",
    "\n",
    "n = 8\n",
    "print(fibo(n))"
   ]
  },
  {
   "cell_type": "code",
   "execution_count": 2,
   "id": "9a04f764-0fe3-4b29-a450-e9bf072a87e5",
   "metadata": {},
   "outputs": [
    {
     "name": "stdout",
     "output_type": "stream",
     "text": [
      "15\n"
     ]
    }
   ],
   "source": [
    "\"\"\"\n",
    "Sum of Digits\n",
    "\n",
    "Problem: Write a recursive function that calculates the sum of the digits of a given positive integer.\n",
    "Example: sum_of_digits(1234) should return 10.\n",
    "\"\"\"\n",
    "\n",
    "def sum_of_digits(n):\n",
    "    if n < 10:\n",
    "        return n\n",
    "    else:\n",
    "        return n % 10 + sum_of_digits(n // 10)\n",
    "\n",
    "print(sum_of_digits(12345))"
   ]
  },
  {
   "cell_type": "code",
   "execution_count": 3,
   "id": "ab1ed833-08ac-48a5-a18e-ceded8bf4c85",
   "metadata": {},
   "outputs": [
    {
     "name": "stdout",
     "output_type": "stream",
     "text": [
      "16\n"
     ]
    }
   ],
   "source": [
    "\"\"\"\n",
    "Power Function\n",
    "\n",
    "Problem: Write a recursive function to compute x raised to the power of n (i.e., x^n).\n",
    "Example: power(2, 3) should return 8.\n",
    "\"\"\"\n",
    "\n",
    "def power(x, n):\n",
    "    if n == 0:\n",
    "        return 1\n",
    "    elif n > 0:\n",
    "        return x * power(x, n - 1)\n",
    "    else:\n",
    "        return 1 / power(x, -n)\n",
    "\n",
    "print(power(2,4))"
   ]
  },
  {
   "cell_type": "code",
   "execution_count": 10,
   "id": "e76430b0-feed-44ab-a694-2bd5ead73218",
   "metadata": {},
   "outputs": [
    {
     "name": "stdout",
     "output_type": "stream",
     "text": [
      "olleh\n"
     ]
    }
   ],
   "source": [
    "\"\"\"\n",
    "Reverse a String\n",
    "\n",
    "Problem: Write a recursive function to reverse a given string.\n",
    "Example: reverse_string(\"hello\") should return \"olleh\".\n",
    "\"\"\"\n",
    "\n",
    "def reverse_string(string):\n",
    "    if len(string) == 0:\n",
    "        return string\n",
    "    else:\n",
    "        return string[-1] + reverse_string(string[:-1])\n",
    "    \n",
    "print(reverse_string('hello'))"
   ]
  },
  {
   "cell_type": "code",
   "execution_count": null,
   "id": "487ff578-82d4-4662-a357-06799be7cefa",
   "metadata": {},
   "outputs": [],
   "source": [
    "\"\"\"\n",
    "Greatest Common Divisor (GCD)\n",
    "\n",
    "Problem: Write a recursive function to compute the GCD of two non-negative integers using the Euclidean algorithm \n",
    "(if you want to use a different approach, let me know).\n",
    "Example: gcd(48, 18) should return 6.\n",
    "\"\"\""
   ]
  },
  {
   "cell_type": "code",
   "execution_count": null,
   "id": "caea84a4-97d8-4d3b-b39b-9b3b2004ab0d",
   "metadata": {},
   "outputs": [],
   "source": [
    "\"\"\"\n",
    "List Sum\n",
    "\n",
    "Problem: Write a recursive function to calculate the sum of all elements in a list of integers.\n",
    "Example: list_sum([1, 2, 3, 4]) should return 10.\n",
    "\"\"\""
   ]
  },
  {
   "cell_type": "code",
   "execution_count": null,
   "id": "9a4ab1ac-37fb-4725-a3d1-c6bf2df1215e",
   "metadata": {},
   "outputs": [],
   "source": [
    "\"\"\"\n",
    "Check Palindrome\n",
    "\n",
    "Problem: Write a recursive function to check if a given string is a palindrome (reads the same forward and backward).\n",
    "Example: is_palindrome(\"racecar\") should return True.\n",
    "\"\"\""
   ]
  },
  {
   "cell_type": "code",
   "execution_count": null,
   "id": "e4099f91",
   "metadata": {},
   "outputs": [],
   "source": [
    "def fibonacci(n):\n",
    "    if n == 0:\n",
    "        return 0\n",
    "    else:\n",
    "        n "
   ]
  },
  {
   "cell_type": "markdown",
   "id": "875388c8",
   "metadata": {},
   "source": [
    "## Function Exercises"
   ]
  },
  {
   "cell_type": "code",
   "execution_count": 8,
   "id": "3b5501ce",
   "metadata": {},
   "outputs": [
    {
     "data": {
      "text/plain": [
       "33"
      ]
     },
     "execution_count": 8,
     "metadata": {},
     "output_type": "execute_result"
    }
   ],
   "source": [
    "\"\"\"\n",
    "1. Python has a built-in\n",
    "input function for taking input from users.\n",
    "However, it treats everything from the user as a string. For this\n",
    "exercise, define a function named getInteger, which takes one\n",
    "optional argument as a prompt and gets and returns an integer from\n",
    "the user.\n",
    "\"\"\"\n",
    "\n",
    "def getInteger(prompt='Enter an integer:'):\n",
    "    while True:\n",
    "        try:\n",
    "            user_input = input(prompt).strip() # You don't try to convert this integer in this code because the next code will unintentionally raise ValueError on '0's. 'not' in Python and '0' in Python are both considred falsy.\n",
    "            if not user_input: # 'if not user_input.isdigit()' will not work because it will filter out negative integers as well.\n",
    "                raise ValueError\n",
    "            user_input = int(user_input)\n",
    "        except ValueError:\n",
    "            print('Invalid Input. You must enter an integer.')\n",
    "        else:\n",
    "            return user_input\n",
    "\n",
    "getInteger('Enter your age: ')"
   ]
  },
  {
   "cell_type": "code",
   "execution_count": 18,
   "id": "6ab8eeb9",
   "metadata": {},
   "outputs": [
    {
     "data": {
      "text/plain": [
       "945"
      ]
     },
     "execution_count": 18,
     "metadata": {},
     "output_type": "execute_result"
    }
   ],
   "source": [
    "\"\"\"\n",
    "2. Define a function that has one argument, n, that will take a natural\n",
    "number and return the product of all the odd numbers between 1 and n. \n",
    "Note that natural numbers are positive integers used for counting.\n",
    "\"\"\"\n",
    "\n",
    "def product_naturalNumber(n):\n",
    "    try:\n",
    "        if not isinstance(n, int):\n",
    "            raise ValueError\n",
    "        if n <= 0:\n",
    "            raise ValueError\n",
    "    except ValueError:\n",
    "        return 'You must enter a natural number, which is a positive integer greater than 0.'\n",
    "    else:\n",
    "        product = 1\n",
    "        for i in range(1, n+1):\n",
    "            if i % 2 != 0:\n",
    "                product *= i\n",
    "        \n",
    "        return product\n",
    "    \n",
    "product_naturalNumber(10)"
   ]
  },
  {
   "cell_type": "code",
   "execution_count": 24,
   "id": "aa82a0f9",
   "metadata": {},
   "outputs": [
    {
     "data": {
      "text/plain": [
       "3"
      ]
     },
     "execution_count": 24,
     "metadata": {},
     "output_type": "execute_result"
    }
   ],
   "source": [
    "\"\"\"\n",
    "3. Define a function that has one argument, n, that will take an integer\n",
    "and return the product of all the odd numbers between 1 and n, or\n",
    "between n and −1 if n is a negative integer, or that will return None if n\n",
    "is not an integer.\n",
    "\"\"\"\n",
    "\n",
    "def int_operations(n):\n",
    "    if not isinstance(n, int):\n",
    "        return None\n",
    "    else:\n",
    "        if n > 0:\n",
    "            product = 1\n",
    "            for i in range(1, n+1):\n",
    "                if i % 2 != 0:\n",
    "                    product *= i\n",
    "            return product\n",
    "        elif n < 0:\n",
    "            product = 1\n",
    "            for i in range(n, 0): # iterate up to -1\n",
    "                if i % 2 != 0:\n",
    "                    product *= i\n",
    "            return product\n",
    "        \n",
    "int_operations(-3)\n"
   ]
  },
  {
   "cell_type": "code",
   "execution_count": 37,
   "id": "f021c936",
   "metadata": {},
   "outputs": [
    {
     "name": "stdout",
     "output_type": "stream",
     "text": [
      "21\n"
     ]
    }
   ],
   "source": [
    "\"\"\"\n",
    "4. The Fibonacci sequence (Fn) is well-known\n",
    "in mathematics, and is defined as follows:\n",
    "F0 = 1, F1 = 1, Fn = Fn−1 + Fn−2\n",
    "Define a recursive function that takes one argument, n, and\n",
    "calculates and returns the nth item (Fn) of the Fibonacci sequence.\n",
    "\"\"\"\n",
    "\n",
    "def fibonacci(n):\n",
    "    if n == 0:\n",
    "        return 0\n",
    "    elif n == 1:\n",
    "        return 1\n",
    "    else:\n",
    "        return fibonacci(n-1) + fibonacci(n-2)\n",
    "    \n",
    "print(fibonacci(8))    "
   ]
  },
  {
   "cell_type": "code",
   "execution_count": 1,
   "id": "2458c9cb",
   "metadata": {},
   "outputs": [
    {
     "name": "stdout",
     "output_type": "stream",
     "text": [
      "[0, 1, 1, 2, 3, 5, 8, 13, 21]\n"
     ]
    }
   ],
   "source": [
    "\"\"\"\n",
    "5. Define a recursive function that takes one argument, n, and calculates\n",
    "and returns the entire list of all items from F0 to Fn, of the Fibonacci\n",
    "sequence.\n",
    "\"\"\"\n",
    "\n",
    "def fibonacci_sequence(n):\n",
    "    if n == 0:\n",
    "        return [0]\n",
    "    if n == 1:\n",
    "        return [0, 1]\n",
    "    \n",
    "    fibo_list = fibonacci_sequence(n-1)\n",
    "    fibo_list.append(fibo_list[-1] + fibo_list[-2])\n",
    "    return fibo_list\n",
    "\n",
    "print(fibonacci_sequence(8))"
   ]
  },
  {
   "cell_type": "code",
   "execution_count": 28,
   "id": "2e26af27",
   "metadata": {},
   "outputs": [
    {
     "data": {
      "text/plain": [
       "-120"
      ]
     },
     "execution_count": 28,
     "metadata": {},
     "output_type": "execute_result"
    }
   ],
   "source": [
    "\"\"\"\n",
    "6. Define a function that takes a variable-length\n",
    "list of numbers and\n",
    "returns the product of all these numbers.\n",
    "\"\"\"\n",
    "\n",
    "def get_product(*args): # args become a tuple of arguments.\n",
    "        if not all(isinstance(arg, (float, int)) for arg in args): # The elements inside all() will be True, False, True, True, etc. depending on the arguments passed.\n",
    "                raise ValueError('All arguments must be numbers.')\n",
    "        else:\n",
    "            product = 1\n",
    "            for number in args:\n",
    "                   product *= number\n",
    "            return product\n",
    "        \n",
    "get_product(1,2,3,4,-5)"
   ]
  },
  {
   "cell_type": "markdown",
   "id": "eba5ef88",
   "metadata": {},
   "source": [
    "## Function Projects"
   ]
  },
  {
   "cell_type": "code",
   "execution_count": 2,
   "id": "7427813a",
   "metadata": {},
   "outputs": [
    {
     "name": "stdout",
     "output_type": "stream",
     "text": [
      "43196.665\n"
     ]
    }
   ],
   "source": [
    "\"\"\"\n",
    "1. Study the federal personal income tax rates for the current tax\n",
    "year and define a function that takes one argument as net taxable\n",
    "income and calculates and returns the total federal income tax due.\n",
    "\"\"\"\n",
    "\n",
    "def fed_tax(net_taxable_income):\n",
    "    if not isinstance(net_taxable_income, (float,int)):\n",
    "        raise ValueError('You must enter a number without the dollar sign and commas.')\n",
    "    else:\n",
    "        if net_taxable_income <= 57375:\n",
    "            net_tax = net_taxable_income * 0.15\n",
    "        elif net_taxable_income <= 114750:\n",
    "            net_tax = (net_taxable_income - 57375) * 0.205 + (57375 * 0.15)\n",
    "        elif net_taxable_income <= 177882:\n",
    "            net_tax = (net_taxable_income - 114750) * 0.26 + (114750 - 57375) * 0.205 + (57375 * 0.15)\n",
    "        elif net_taxable_income <= 253414:\n",
    "            net_tax = (net_taxable_income - 177882) * 0.29 + (177882 - 114750) * 0.26 + (114750 - 57375) * 0.205 + (57375 * 0.15)\n",
    "        else:\n",
    "            net_tax = (net_taxable_income - 253414) * 0.33 + (253414 - 177882) * 0.29 + (177882 - 114750) * 0.26 + (114750 - 57375) * 0.205 + (57375 * 0.15)\n",
    "\n",
    "    return net_tax\n",
    "\n",
    " \n",
    "\n",
    "print(fed_tax(200000))"
   ]
  },
  {
   "cell_type": "code",
   "execution_count": 3,
   "id": "1045e572",
   "metadata": {},
   "outputs": [
    {
     "name": "stdout",
     "output_type": "stream",
     "text": [
      "18840.799\n"
     ]
    }
   ],
   "source": [
    "\"\"\"\n",
    "2. Study both the federal personal income tax rates and the provincial\n",
    "tax rates for your province for the current tax year. Define a function\n",
    "that takes one argument as net taxable income and calculate and\n",
    "return both total federal income tax due and total provincial tax due.\n",
    "\"\"\"\n",
    "\n",
    "def fedAndprov_tax(net_taxable_income):\n",
    "    if not isinstance(net_taxable_income, (float,int)):\n",
    "        raise ValueError('You must enter a number without the dollar sign and commas.')\n",
    "   \n",
    "    if net_taxable_income <= 57375:\n",
    "        net_fed = net_taxable_income * 0.15\n",
    "    elif net_taxable_income <= 114750:\n",
    "        net_fed = (net_taxable_income - 57375) * 0.205 + (57375 * 0.15)\n",
    "    elif net_taxable_income <= 177882:\n",
    "        net_fed = (net_taxable_income - 114750) * 0.26 + (114750 - 57375) * 0.205 + (57375 * 0.15)\n",
    "    elif net_taxable_income <= 253414:\n",
    "        net_fed = (net_taxable_income - 177882) * 0.29 + (177882 - 114750) * 0.26 + (114750 - 57375) * 0.205 + (57375 * 0.15)\n",
    "    else:\n",
    "        net_fed = (net_taxable_income - 253414) * 0.33 + (253414 - 177882) * 0.29 + (177882 - 114750) * 0.26 + (114750 - 57375) * 0.205 + (57375 * 0.15)\n",
    "\n",
    "    if net_taxable_income <= 52886:\n",
    "        net_pro = net_taxable_income * 0.0505\n",
    "    elif net_taxable_income <= 105775:\n",
    "        net_pro = (net_taxable_income - 52886) * 0.0915 + (52886 * 0.0505)\n",
    "    elif net_taxable_income <= 150000:\n",
    "        net_pro = (net_taxable_income - 105775) * 0.1116 + (105775 - 52866) * 0.0915 + (52886 * 0.0505)\n",
    "    elif net_taxable_income <= 220000:\n",
    "        net_pro = (net_taxable_income - 150000) * 0.1216 + (150000 - 105775) * 0.1116 + (105775 - 52866) * 0.0915 + (52886 * 0.0505)\n",
    "    else:\n",
    "        net_pro = (net_taxable_income - 220000) * 0.1316 + (220000 - 150000) * 0.1216 + (150000 - 105775) * 0.1116 + (105775 - 52866) * 0.0915 + (52886 * 0.0505)\n",
    "\n",
    "    return net_fed + net_pro\n",
    "\n",
    " \n",
    "\n",
    "print(fedAndprov_tax(81500))"
   ]
  },
  {
   "cell_type": "code",
   "execution_count": 4,
   "id": "f272e367",
   "metadata": {},
   "outputs": [
    {
     "name": "stdout",
     "output_type": "stream",
     "text": [
      "5288.924000000001\n"
     ]
    }
   ],
   "source": [
    "\"\"\"\n",
    "3. Modify the function defined for 6.6 by adding a keyword argument\n",
    "with the default value f or F to tell the function to calculate and return\n",
    "the federal tax due. If the argument passed to the keyword parameter\n",
    "is p or P, then provincial tax due should be calculated and returned.\n",
    "Test the modified function with different values passed to the keyword\n",
    "argument to make sure it works as expected.\n",
    "\"\"\"\n",
    "\n",
    "def fedAndprov_tax(net_taxable_income, fed_or_prov = 'f'):\n",
    "    if not isinstance(net_taxable_income, (float,int)):\n",
    "        raise ValueError('You must enter a number without the dollar sign and commas.')\n",
    "\n",
    "    if fed_or_prov == 'f':\n",
    "        if net_taxable_income <= 57375:\n",
    "            net_fed = net_taxable_income * 0.15\n",
    "        elif net_taxable_income <= 114750:\n",
    "            net_fed = (net_taxable_income - 57375) * 0.205 + (57375 * 0.15)\n",
    "        elif net_taxable_income <= 177882:\n",
    "            net_fed = (net_taxable_income - 114750) * 0.26 + (114750 - 57375) * 0.205 + (57375 * 0.15)\n",
    "        elif net_taxable_income <= 253414:\n",
    "            net_fed = (net_taxable_income - 177882) * 0.29 + (177882 - 114750) * 0.26 + (114750 - 57375) * 0.205 + (57375 * 0.15)\n",
    "        else:\n",
    "            net_fed = (net_taxable_income - 253414) * 0.33 + (253414 - 177882) * 0.29 + (177882 - 114750) * 0.26 + (114750 - 57375) * 0.205 + (57375 * 0.15)\n",
    "        return net_fed\n",
    "\n",
    "    elif fed_or_prov == 'p':\n",
    "        if net_taxable_income <= 52886:\n",
    "            net_pro = net_taxable_income * 0.0505\n",
    "        elif net_taxable_income <= 105775:\n",
    "            net_pro = (net_taxable_income - 52886) * 0.0915 + (52886 * 0.0505)\n",
    "        elif net_taxable_income <= 150000:\n",
    "            net_pro = (net_taxable_income - 105775) * 0.1116 + (105775 - 52866) * 0.0915 + (52886 * 0.0505)\n",
    "        elif net_taxable_income <= 220000:\n",
    "            net_pro = (net_taxable_income - 150000) * 0.1216 + (150000 - 105775) * 0.1116 + (105775 - 52866) * 0.0915 + (52886 * 0.0505)\n",
    "        else:\n",
    "            net_pro = (net_taxable_income - 220000) * 0.1316 + (220000 - 150000) * 0.1216 + (150000 - 105775) * 0.1116 + (105775 - 52866) * 0.0915 + (52886 * 0.0505)\n",
    "    return net_pro\n",
    "\n",
    " \n",
    "\n",
    "print(fedAndprov_tax(81500, fed_or_prov='p'))"
   ]
  },
  {
   "cell_type": "code",
   "execution_count": null,
   "id": "c25ae9cd",
   "metadata": {},
   "outputs": [],
   "source": [
    "\"\"\"\n",
    "4. The Tower of Hanoi is a mental game. It consists of three rods and N\n",
    "disks of different sizes that can move onto any rod one by one, but\n",
    "at no time is a bigger disk allowed to be on top of a smaller disk. The\n",
    "three rods are labelled A, B, and C. The game begins with all disks\n",
    "stack on rod A, and the goal is to move all the disks onto rod C. Write\n",
    "a recursive function that takes one argument as the number of disks\n",
    "initially on rod A and print out the moves to be taken in order to move\n",
    "all the disks from A to C. Each move can be represented as i: Rs Rd,\n",
    "where i is 0, 1, 2…, Rs and Rd is A, B or C, but Rs and Rd cannot be the\n",
    "same. It means that at step i, take one disk from source rod Rs and\n",
    "slide it onto destination rod Rd. For example, if there are three disks\n",
    "on rod A, the moves will be as follows:\n",
    "1: A C, 2 : A B, 3 : C B, 4 : A C, 5 : B A, 6 : B C, 7 : A C\n",
    "\"\"\""
   ]
  }
 ],
 "metadata": {
  "kernelspec": {
   "display_name": "Python 3",
   "language": "python",
   "name": "python3"
  },
  "language_info": {
   "codemirror_mode": {
    "name": "ipython",
    "version": 3
   },
   "file_extension": ".py",
   "mimetype": "text/x-python",
   "name": "python",
   "nbconvert_exporter": "python",
   "pygments_lexer": "ipython3",
   "version": "3.13.1"
  }
 },
 "nbformat": 4,
 "nbformat_minor": 5
}
