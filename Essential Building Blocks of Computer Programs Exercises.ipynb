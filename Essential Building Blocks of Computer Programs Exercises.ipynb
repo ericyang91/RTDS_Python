{
 "cells": [
  {
   "cell_type": "markdown",
   "metadata": {},
   "source": [
    "# Essential Building Blocks of Computer Programs Exercises"
   ]
  },
  {
   "cell_type": "markdown",
   "metadata": {},
   "source": [
    "Indicate which of the following are not legitimate Python identifiers to name variables, functions/methods, and classes, and explain why.\n",
    "\n",
    "| Identifier | Yes/No | Reason |\n",
    "| ---- | ---- | ---- |\n",
    "| This | Yes | Contains alphabets only |\n",
    "| 3da | No | Cannot start with numbers |\n",
    "| My_name | Yes | Contains alphabets and underscores only |\n",
    "| for | No | \"for\" is a reserved keyword in Python |\n",
    "| i9 | Yes | Contains alphanumeric characters only |\n",
    "| vote | Yes | \"vote\" is not a reserved keyword |\n",
    "| $s | No | Cannot contain \"$\" |\n",
    "| \\_sum_ | Yes | Can begin with underscore |\n",
    "| cLearance | Yes | Contains alphabet characters only |\n",
    "| method | Yes | \"method\" is not a reserved keyword |\n",
    "| lists | Yes | \"lists\" is not a reserved keyword |\n",
    "| t5# | No | Cannot contain \"#\" |"
   ]
  },
  {
   "cell_type": "markdown",
   "metadata": {},
   "source": [
    "2. Write a single statement to complete each of the following tasks:\n",
    "\n",
    "a. Read an integer from user into variable k.\n",
    "```python\n",
    "    k = int(input('Enter the integer:').strip())\n",
    "```\n",
    "\n",
    "b. Print a multiple-line mailing label with your name and home address, including the postal code.\n",
    "```python\n",
    "    print(f\"Eric\\nToronto\\nM2M4L9\")\n",
    "```\n",
    "\n",
    "c. Print the area of a circle with a radius of 13.\n",
    "```python\n",
    "    import math\n",
    "    print(math.pi * 13**2)\n",
    "```\n",
    "\n",
    "d. Assign the cube of 23 to variable x.\n",
    "```python\n",
    "    x = 23 **3\n",
    "```\n",
    "\n",
    "e. Print the square of 12, 25, and 56, respectively, on one line.\n",
    "```python\n",
    "    print(12**2, 25**2, 56**2)\n",
    "```"
   ]
  },
  {
   "cell_type": "markdown",
   "metadata": {},
   "source": [
    "3. Evaluate the following expressions  \n",
    "\n",
    "a. 23 + 16 / 2  \n",
    "Output: 31.0\n",
    "\n",
    "b. round(78.3)  \n",
    "Output: 78\n",
    "\n",
    "c. pow(2,3) + 5  \n",
    "Output: 13\n",
    "\n",
    "d. sum([1,3,5,7,9])/13  \n",
    "Output: 1.9230769230769231\n",
    "\n",
    "e. bin(9)  \n",
    "Output: ob1001\n",
    "\n",
    "f. divmod(13, 5)  \n",
    "Output: (2, 3)\n",
    "\n",
    "g. int(38.6)//7  \n",
    "Output: 5\n",
    "\n",
    "h. (3.5 + 6.7j) + (5.3 + 12.9j)  \n",
    "Output: (8.8 + 19.6j)\n",
    "\n",
    "i. 'Well' * 3 + '!'  \n",
    "Output: 'WellWellWell!'\n"
   ]
  },
  {
   "cell_type": "markdown",
   "metadata": {},
   "source": [
    "4. Mentally run the following code blocks and state what each code block will display.\n",
    "\n",
    "a. \n",
    "x = 5  \n",
    "y = 6  \n",
    "print(x + y)  \n",
    "Output: 11  \n",
    "\n",
    "\n",
    "b.  \n",
    "m = 5  \n",
    "k = 3  \n",
    "print(f'{m}\\**{k} = {m\\**k}')  \n",
    "Output: 5**3 = 125  \n",
    "\n",
    "c. \n",
    "m, k = 35, 12  \n",
    "m //= k  \n",
    "print(m)  \n",
    "Output: 2  \n",
    "\n",
    "d.  \n",
    "m, k = 35, 12  \n",
    "m %= k  \n",
    "print(m)  \n",
    "Output: 11"
   ]
  },
  {
   "cell_type": "code",
   "execution_count": null,
   "metadata": {},
   "outputs": [
    {
     "data": {
      "text/plain": [
       "'\\nWrite a program to read a float number from the user into variable s,\\nthen calculate and print the area of a square with s as the length of\\nits side.\\n'"
      ]
     },
     "execution_count": 4,
     "metadata": {},
     "output_type": "execute_result"
    }
   ],
   "source": [
    "\"\"\"\n",
    "Write a program to read a float number from the user into variable s,\n",
    "then calculate and print the area of a square with s as the length of\n",
    "its side.\n",
    "\"\"\"\n",
    "\n",
    "def area_square():\n",
    "    while True:\n",
    "        try:\n",
    "            s = float(input('Enter the side of a square: ').strip())\n",
    "            if s <= 0:\n",
    "                raise ValueError('Length has to be greater than zero.')\n",
    "        except ValueError as e:\n",
    "            print(f\"{e}\")\n",
    "        else:\n",
    "            break\n",
    "    \n",
    "    area = s ** 2\n",
    "    return area\n",
    "\n"
   ]
  },
  {
   "cell_type": "code",
   "execution_count": 12,
   "metadata": {},
   "outputs": [
    {
     "name": "stdout",
     "output_type": "stream",
     "text": [
      "Attempt...\n",
      "2.0\n"
     ]
    }
   ],
   "source": [
    "\"\"\"\n",
    "Write a program to read two numbers and calculate the product of the\n",
    "two numbers.\n",
    "\"\"\"\n",
    "\n",
    "def get_product():\n",
    "    while True:\n",
    "        try:\n",
    "            num1 = float(input('Enter the first number: ').strip())\n",
    "            num2 = float(input('Enter the second number: ').strip())\n",
    "        except ValueError:\n",
    "            print('Invalid entry.')\n",
    "        else:\n",
    "            break\n",
    "        finally:\n",
    "            print('Attempt...')\n",
    "    product = num1 * num2\n",
    "    return product\n",
    "\n",
    "print(get_product())"
   ]
  },
  {
   "cell_type": "code",
   "execution_count": 13,
   "metadata": {},
   "outputs": [
    {
     "name": "stdout",
     "output_type": "stream",
     "text": [
      "could not convert string to float: 'a'\n",
      "Attempt...1\n",
      "could not convert string to float: 'a'\n",
      "Attempt...2\n",
      "Hours cannot be less than zero.\n",
      "Attempt...3\n",
      "Attempt...4\n",
      "The total parking fee is $12.5.\n"
     ]
    }
   ],
   "source": [
    "\"\"\"\n",
    "A parking lot charges $2.50 per hour. Write a program to read the\n",
    "number of hours a vehicle has parked, then calculate and print the\n",
    "total to be paid for parking.\n",
    "\"\"\"\n",
    "\n",
    "def parking_charge():\n",
    "    attempt_count = 0\n",
    "    while True:\n",
    "        try:\n",
    "            hours = float(input('How many hours did you park? ').strip())\n",
    "            if hours < 0:\n",
    "                raise ValueError('Hours cannot be less than zero.')\n",
    "        except ValueError as e:\n",
    "            print(f\"{e}\")\n",
    "        else:\n",
    "            break\n",
    "        finally:\n",
    "            attempt_count += 1\n",
    "            print(f\"Attempt...{attempt_count}\")\n",
    "        \n",
    "    total_charge = 2.5 * hours\n",
    "    return f\"The total parking fee is ${round(total_charge,2)}.\"\n",
    "\n",
    "print(parking_charge())"
   ]
  },
  {
   "cell_type": "code",
   "execution_count": 15,
   "metadata": {},
   "outputs": [
    {
     "name": "stdout",
     "output_type": "stream",
     "text": [
      "Attempt...1\n",
      "2.0\n"
     ]
    }
   ],
   "source": [
    "\"\"\"\n",
    "The arithmetic mean of several numbers is the sum of all these\n",
    "numbers divided by the number of these numbers. For this project,\n",
    "write a program that will generate three numbers from users and\n",
    "calculate and display the arithmetic mean of these three numbers.\n",
    "\"\"\"\n",
    "\n",
    "def gen_mean():\n",
    "    attempt_count = 0\n",
    "    while True:\n",
    "        try:\n",
    "            num1 = float(input('Enter the first number: ').strip())\n",
    "            num2 = float(input('Enter the second number: ').strip())\n",
    "            num3 = float(input('Enter the third number: ').strip())\n",
    "        except ValueError:\n",
    "            print('Invalid entry.')\n",
    "        else:\n",
    "            break\n",
    "        finally:\n",
    "            attempt_count += 1\n",
    "            print(f\"Attempt...{attempt_count}\")\n",
    "    num_lst = [num1, num2, num3]\n",
    "    mean = sum(num_lst)/len(num_lst)\n",
    "    return mean\n",
    "\n",
    "print(gen_mean()) "
   ]
  },
  {
   "cell_type": "code",
   "execution_count": 16,
   "metadata": {},
   "outputs": [
    {
     "name": "stdout",
     "output_type": "stream",
     "text": [
      "24.0\n"
     ]
    }
   ],
   "source": [
    "\"\"\"\n",
    "A cube has 6 faces and 12 edges, all of the same length. Write a\n",
    "program that takes a number from the user as the length of an edge\n",
    "and calculate and display the total surface area of the cube.\n",
    "\"\"\"\n",
    "def surface_area_cube():\n",
    "    while True:\n",
    "        try:\n",
    "            s = float(input('Enter the side of a square: ').strip())\n",
    "            if s <= 0:\n",
    "                raise ValueError('Length has to be greater than zero.')\n",
    "        except ValueError as e:\n",
    "            print(f\"{e}\")\n",
    "        else:\n",
    "            break\n",
    "    \n",
    "    surface_area = (s ** 2) * 6\n",
    "    return surface_area\n",
    "\n",
    "print(surface_area_cube())"
   ]
  },
  {
   "cell_type": "code",
   "execution_count": null,
   "metadata": {},
   "outputs": [],
   "source": []
  }
 ],
 "metadata": {
  "kernelspec": {
   "display_name": "PythonEnv",
   "language": "python",
   "name": "python3"
  },
  "language_info": {
   "codemirror_mode": {
    "name": "ipython",
    "version": 3
   },
   "file_extension": ".py",
   "mimetype": "text/x-python",
   "name": "python",
   "nbconvert_exporter": "python",
   "pygments_lexer": "ipython3",
   "version": "3.11.8"
  }
 },
 "nbformat": 4,
 "nbformat_minor": 2
}
