{
 "cells": [
  {
   "cell_type": "markdown",
   "id": "9eab0c51",
   "metadata": {},
   "source": [
    "# Lists\n",
    "- The exercises are from https://www.w3resource.com/python-exercises/list/"
   ]
  },
  {
   "cell_type": "code",
   "execution_count": 2,
   "id": "3f316022-bed4-4211-a53b-d6726f214c42",
   "metadata": {},
   "outputs": [
    {
     "name": "stdout",
     "output_type": "stream",
     "text": [
      "15\n"
     ]
    }
   ],
   "source": [
    "# 1. Write a Python program to sum all the items in a list.\n",
    "l1 = [1, 2, 3, 4, 5]\n",
    "print(sum(l1))"
   ]
  },
  {
   "cell_type": "code",
   "execution_count": 3,
   "id": "a298d7cb-2e0e-4bdf-b8ab-82a789bbc625",
   "metadata": {},
   "outputs": [
    {
     "name": "stdout",
     "output_type": "stream",
     "text": [
      "120\n"
     ]
    }
   ],
   "source": [
    "# 2. Write a Python program to multiply all the items in a list.\n",
    "\n",
    "l2 = [1,2,3,4,5]\n",
    "product = 1\n",
    "for number in l2:\n",
    "    product *= number\n",
    "print(product)"
   ]
  },
  {
   "cell_type": "code",
   "execution_count": 4,
   "id": "a36a1e79-72de-4757-9cc1-6b989103ce67",
   "metadata": {},
   "outputs": [
    {
     "name": "stdout",
     "output_type": "stream",
     "text": [
      "5\n"
     ]
    }
   ],
   "source": [
    "# 3. Write a Python program to get the largest number from a list.\n",
    "\n",
    "l3 = [1,2,3,4,5]\n",
    "print(max(l3))"
   ]
  },
  {
   "cell_type": "code",
   "execution_count": 5,
   "id": "7e20c78a-0005-4581-bfcd-b20f103d2975",
   "metadata": {},
   "outputs": [
    {
     "name": "stdout",
     "output_type": "stream",
     "text": [
      "1\n"
     ]
    }
   ],
   "source": [
    "# 4. Write a Python program to get the smallest number from a list.\n",
    "\n",
    "l4 = [1,2,3,4,5]\n",
    "print(min(l4))"
   ]
  },
  {
   "cell_type": "code",
   "execution_count": 6,
   "id": "d21df4d1-dcfb-4ca2-abaf-b60e81a775af",
   "metadata": {},
   "outputs": [
    {
     "name": "stdout",
     "output_type": "stream",
     "text": [
      "2\n"
     ]
    }
   ],
   "source": [
    "\"\"\"\n",
    "5. Write a Python program to count the number of strings from a given list of strings. \n",
    "The string length is 2 or more and the first and last characters are the same.\n",
    "Sample List : ['abc', 'xyz', 'aba', '1221']\n",
    "Expected Result : 2\n",
    "\"\"\"\n",
    "def string_counter(list_of_strings):\n",
    "    new_list = []\n",
    "    for word in list_of_strings:\n",
    "        if len(word) >= 2 and word[0] == word[-1]:\n",
    "            new_list.append(word)\n",
    "    print(len(new_list))\n",
    "\n",
    "string_counter(['abc', 'xyz', 'aba', '1221'])\n",
    "            "
   ]
  },
  {
   "cell_type": "code",
   "execution_count": 7,
   "id": "31bd442e-582e-461e-945f-e8996d935370",
   "metadata": {},
   "outputs": [
    {
     "name": "stdout",
     "output_type": "stream",
     "text": [
      "[(2, 1), (1, 2), (2, 3), (4, 4), (2, 5)]\n"
     ]
    }
   ],
   "source": [
    "\"\"\"\n",
    "6. Write a Python program to get a list, sorted in increasing order by the last element in each tuple from a given list of non-empty tuples.\n",
    "Sample List : [(2, 5), (1, 2), (4, 4), (2, 3), (2, 1)]\n",
    "Expected Result : [(2, 1), (1, 2), (2, 3), (4, 4), (2, 5)]\n",
    "\"\"\"\n",
    "l6 = [(2, 5), (1, 2), (4, 4), (2, 3), (2, 1)]\n",
    "\n",
    "print(sorted(l6, reverse = False, key = lambda x: x[-1]))"
   ]
  },
  {
   "cell_type": "code",
   "execution_count": 8,
   "id": "17e13008-689d-4f9d-ba0d-f729b985dc4d",
   "metadata": {},
   "outputs": [
    {
     "name": "stdout",
     "output_type": "stream",
     "text": [
      "[1, 2, 3, 4, 5]\n"
     ]
    }
   ],
   "source": [
    "# 7. Write a Python program to remove duplicates from a list.\n",
    "\n",
    "l7 = [1, 1, 2, 2, 3, 3, 4, 4, 5, 5]\n",
    "print(list(set(l7)))"
   ]
  },
  {
   "cell_type": "code",
   "execution_count": 9,
   "id": "b5fbd303-aed5-43f1-bf4a-68c10071d4c6",
   "metadata": {},
   "outputs": [
    {
     "data": {
      "text/plain": [
       "'empty'"
      ]
     },
     "execution_count": 9,
     "metadata": {},
     "output_type": "execute_result"
    }
   ],
   "source": [
    "# 8. Write a Python program to check if a list is empty or not.\n",
    "\n",
    "def check_empty(list):\n",
    "    if len(list) == 0:\n",
    "        return 'empty'\n",
    "    else:\n",
    "        return 'not empty'\n",
    "\n",
    "l8 = []\n",
    "check_empty(l8)"
   ]
  },
  {
   "cell_type": "code",
   "execution_count": 10,
   "id": "f0366a78-46d2-422d-a6bc-0013f7dd1c17",
   "metadata": {},
   "outputs": [
    {
     "name": "stdout",
     "output_type": "stream",
     "text": [
      "[1, 2, 3, 4, 5] ,  [1, 2, 3, 4, 5]\n"
     ]
    }
   ],
   "source": [
    "# 9. Write a Python program to clone or copy a list.\n",
    "\n",
    "l9 = [1,2,3,4,5]\n",
    "l9_copy = l9.copy()\n",
    "print(l9, ', ', l9_copy)"
   ]
  },
  {
   "cell_type": "code",
   "execution_count": 11,
   "id": "5353e573-c97f-43f9-bb3c-e8dc54b538e2",
   "metadata": {},
   "outputs": [
    {
     "name": "stdout",
     "output_type": "stream",
     "text": [
      "['hello', 'python']\n"
     ]
    }
   ],
   "source": [
    "# 10. Write a Python program to find the list of words that are longer than n from a given list of words.\n",
    "\n",
    "l10 = ['hello', 'python', 'a']\n",
    "n = 3\n",
    "empty_l = []\n",
    "for word in l10:\n",
    "    if len(word) > 3:\n",
    "        empty_l.append(word)\n",
    "\n",
    "print(empty_l)\n"
   ]
  }
 ],
 "metadata": {
  "kernelspec": {
   "display_name": "PythonEnv",
   "language": "python",
   "name": "python3"
  },
  "language_info": {
   "codemirror_mode": {
    "name": "ipython",
    "version": 3
   },
   "file_extension": ".py",
   "mimetype": "text/x-python",
   "name": "python",
   "nbconvert_exporter": "python",
   "pygments_lexer": "ipython3",
   "version": "3.11.8"
  }
 },
 "nbformat": 4,
 "nbformat_minor": 5
}
