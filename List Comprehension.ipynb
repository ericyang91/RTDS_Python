{
 "cells": [
  {
   "cell_type": "markdown",
   "id": "7a65f7a5",
   "metadata": {},
   "source": [
    "# List Comprehension\n",
    "\n",
    "- The basic expression:\n",
    "\n",
    "    - `[expression for item in iterable if condition]`\n",
    "\n",
    "- The exercises are from [ryanorsinger](https://gist.github.com/ryanorsinger/f7d7c1dd6a328730c04f3dc5c5c69f3a)'s GitHub page."
   ]
  },
  {
   "cell_type": "code",
   "execution_count": 5,
   "id": "7bb9fab3",
   "metadata": {},
   "outputs": [
    {
     "name": "stdout",
     "output_type": "stream",
     "text": [
      "[(1, 4), (1, 5), (1, 6), (2, 4), (2, 5), (2, 6), (3, 4), (3, 5), (3, 6)]\n"
     ]
    }
   ],
   "source": [
    "\"\"\"\n",
    "Warm up\n",
    "\n",
    "Write a list comprehension to generate all possible coordinate pairs (x, y) where:\n",
    "\n",
    "x ranges from 1 to 3 (inclusive).\n",
    "y ranges from 4 to 6 (inclusive).\n",
    "\"\"\"\n",
    "\n",
    "pairs = [(first_number, second_number) for first_number in range(1,4) for second_number in range(4,7)]\n",
    "pairs\n",
    "\n",
    "# This is the same as:\n",
    "# pairs = []\n",
    "# for i in range(1,4):\n",
    "#     for j in range(4,7):\n",
    "#         pairs.append((i,j))\n",
    "# print(pairs)"
   ]
  },
  {
   "cell_type": "code",
   "execution_count": 2,
   "id": "a604d878",
   "metadata": {},
   "outputs": [],
   "source": [
    "\"\"\"\n",
    "Use the following lists for the exercises:\n",
    "\"\"\"\n",
    "\n",
    "fruits = ['mango', 'kiwi', 'strawberry', 'guava', 'pineapple', 'mandarin orange']\n",
    "numbers = [2, 3, 4, 5, 6, 7, 8, 9, 10, 11, 13, 17, 19, 23, 256, -8, -4, -2, 5, -9]"
   ]
  },
  {
   "cell_type": "code",
   "execution_count": 3,
   "id": "24e768cd",
   "metadata": {},
   "outputs": [
    {
     "name": "stdout",
     "output_type": "stream",
     "text": [
      "['MANGO', 'KIWI', 'STRAWBERRY', 'GUAVA', 'PINEAPPLE', 'MANDARIN ORANGE']\n"
     ]
    }
   ],
   "source": [
    "\"\"\"\n",
    "Exercise 1 - rewrite the above example code using list comprehension syntax.\n",
    "Make a variable named uppercased_fruits to hold the output of the list comprehension.\n",
    "Output should be ['MANGO', 'KIWI', etc...]\n",
    "\"\"\"\n",
    "\n",
    "uppercased_fruits = [fruit.upper() for fruit in fruits]\n",
    "print(uppercased_fruits)"
   ]
  },
  {
   "cell_type": "code",
   "execution_count": 5,
   "id": "c0eedac9",
   "metadata": {},
   "outputs": [
    {
     "name": "stdout",
     "output_type": "stream",
     "text": [
      "['Mango', 'Kiwi', 'Strawberry', 'Guava', 'Pineapple', 'Mandarin Orange']\n"
     ]
    }
   ],
   "source": [
    "\"\"\"\n",
    "Exercise 2 - create a variable named capitalized_fruits and use list comprehension syntax\n",
    "to produce output like ['Mango', 'Kiwi', 'Strawberry', etc...]\n",
    "\"\"\"\n",
    "\n",
    "capitalized_fruits = [fruit.title() for fruit in fruits]\n",
    "print(capitalized_fruits)"
   ]
  },
  {
   "cell_type": "code",
   "execution_count": 6,
   "id": "3547465f",
   "metadata": {},
   "outputs": [
    {
     "name": "stdout",
     "output_type": "stream",
     "text": [
      "['guava', 'pineapple', 'mandarin orange']\n"
     ]
    }
   ],
   "source": [
    "\"\"\" \n",
    "Exercise 3 - Use a list comprehension to make a variable named fruits_with_more_than_two_vowels.\n",
    "Hint: You'll need a way to check if something is a vowel.\n",
    "\"\"\"\n",
    "\n",
    "def more_than_two_vowels(fruit):\n",
    "    count = 0\n",
    "    for character in fruit:\n",
    "        if character in ['a','e','i','o','u']:\n",
    "            count += 1\n",
    "    if count >= 3:\n",
    "        return True\n",
    "    else:\n",
    "        return False\n",
    "\n",
    "multi_vowel_fruits = [fruit for fruit in fruits if more_than_two_vowels(fruit) == True]\n",
    "print(multi_vowel_fruits)"
   ]
  },
  {
   "cell_type": "code",
   "execution_count": 11,
   "id": "523bb77e",
   "metadata": {},
   "outputs": [
    {
     "name": "stdout",
     "output_type": "stream",
     "text": [
      "['mango', 'kiwi', 'strawberry']\n"
     ]
    }
   ],
   "source": [
    "\"\"\" \n",
    "Exercise 4 - make a variable named fruits_with_only_two_vowels.\n",
    "The result should be ['mango', 'kiwi', 'strawberry']\n",
    "\"\"\"\n",
    "\n",
    "def two_vowels(fruit):\n",
    "    count = 0\n",
    "    for character in fruit:\n",
    "        if character in 'aeiou':\n",
    "            count += 1\n",
    "    if count == 2:\n",
    "        return True\n",
    "    return False\n",
    "\n",
    "fruits_with_only_two_vowels = [fruit for fruit in fruits if two_vowels(fruit) == True]\n",
    "print(fruits_with_only_two_vowels)\n"
   ]
  },
  {
   "cell_type": "code",
   "execution_count": 12,
   "id": "9648a42f",
   "metadata": {},
   "outputs": [
    {
     "name": "stdout",
     "output_type": "stream",
     "text": [
      "['strawberry', 'pineapple', 'mandarin orange']\n"
     ]
    }
   ],
   "source": [
    "\"\"\"\n",
    "Exercise 5 - make a list that contains each fruit with more than 5 characters\n",
    "\"\"\"\n",
    "\n",
    "more_than_five_characters = [fruit for fruit in fruits if len(fruit) > 5]\n",
    "print(more_than_five_characters)"
   ]
  },
  {
   "cell_type": "code",
   "execution_count": 13,
   "id": "0f18dd91",
   "metadata": {},
   "outputs": [
    {
     "name": "stdout",
     "output_type": "stream",
     "text": [
      "['mango', 'guava']\n"
     ]
    }
   ],
   "source": [
    "\"\"\"\n",
    "Exercise 6 - make a list that contains each fruit with exactly 5 characters\n",
    "\"\"\"\n",
    "\n",
    "exactly_five_characters = [fruit for fruit in fruits if len(fruit) == 5]\n",
    "print(exactly_five_characters)"
   ]
  },
  {
   "cell_type": "code",
   "execution_count": 14,
   "id": "1885237a",
   "metadata": {},
   "outputs": [
    {
     "name": "stdout",
     "output_type": "stream",
     "text": [
      "['kiwi']\n"
     ]
    }
   ],
   "source": [
    "\"\"\"\n",
    "Exercise 7 - Make a list that contains fruits that have less than 5 characters\n",
    "\"\"\"\n",
    "\n",
    "less_than_five_characters = [fruit for fruit in fruits if len(fruit) < 5]\n",
    "print(less_than_five_characters)"
   ]
  },
  {
   "cell_type": "code",
   "execution_count": 15,
   "id": "aa5676dd",
   "metadata": {},
   "outputs": [
    {
     "name": "stdout",
     "output_type": "stream",
     "text": [
      "[5, 4, 10, 5, 9, 15]\n"
     ]
    }
   ],
   "source": [
    "\"\"\"\n",
    "Exercise 8 - Make a list containing the number of characters in each fruit.\n",
    "Output would be [5, 4, 10, etc... ]\n",
    "\"\"\"\n",
    "\n",
    "number_of_char = [len(fruit) for fruit in fruits]\n",
    "print(number_of_char)"
   ]
  },
  {
   "cell_type": "code",
   "execution_count": 16,
   "id": "56faf9f3",
   "metadata": {},
   "outputs": [
    {
     "name": "stdout",
     "output_type": "stream",
     "text": [
      "['mango', 'strawberry', 'guava', 'pineapple', 'mandarin orange']\n"
     ]
    }
   ],
   "source": [
    "\"\"\"\n",
    "Exercise 9 - Make a variable named fruits_with_letter_a that contains a list of only\n",
    "the fruits that contain the letter \"a\"\n",
    "\"\"\"\n",
    "\n",
    "fruits_with_letter_a = [fruit for fruit in fruits if 'a' in fruit]\n",
    "print(fruits_with_letter_a)"
   ]
  },
  {
   "cell_type": "code",
   "execution_count": 17,
   "id": "e68b8a4e",
   "metadata": {},
   "outputs": [
    {
     "name": "stdout",
     "output_type": "stream",
     "text": [
      "[2, 4, 6, 8, 10, 256, -8, -4, -2]\n"
     ]
    }
   ],
   "source": [
    "\"\"\"\n",
    "Exercise 10 - Make a variable named even_numbers that holds only the even numbers\n",
    "\"\"\"\n",
    "\n",
    "even_numbers = [number for number in numbers if number % 2 == 0]\n",
    "print(even_numbers)"
   ]
  },
  {
   "cell_type": "code",
   "execution_count": 19,
   "id": "494f4eb2",
   "metadata": {},
   "outputs": [
    {
     "name": "stdout",
     "output_type": "stream",
     "text": [
      "[3, 5, 7, 9, 11, 13, 17, 19, 23, 5, -9]\n"
     ]
    }
   ],
   "source": [
    "\"\"\"\n",
    "Exercise 11 - Make a variable named odd_numbers that holds only the odd numbers\n",
    "\"\"\"\n",
    "\n",
    "odd_numbers = [number for number in numbers if number % 2 != 0]\n",
    "print(odd_numbers)"
   ]
  },
  {
   "cell_type": "code",
   "execution_count": 14,
   "id": "18a9c65b",
   "metadata": {},
   "outputs": [
    {
     "name": "stdout",
     "output_type": "stream",
     "text": [
      "[2, 3, 4, 5, 6, 7, 8, 9, 10, 11, 13, 17, 19, 23, 256, 5]\n"
     ]
    }
   ],
   "source": [
    "# Exercise 12 - Make a variable named positive_numbers that holds only the positive numbers\n",
    "\n",
    "positive_numbers = [number for number in numbers if number>0]\n",
    "\n",
    "print(positive_numbers)"
   ]
  },
  {
   "cell_type": "code",
   "execution_count": 15,
   "id": "c2c12572",
   "metadata": {},
   "outputs": [
    {
     "name": "stdout",
     "output_type": "stream",
     "text": [
      "[-8, -4, -2, -9]\n"
     ]
    }
   ],
   "source": [
    "# Exercise 13 - Make a variable named negative_numbers that holds only the negative numbers\n",
    "\n",
    "negative_numbers = [number for number in numbers if number<0]\n",
    "\n",
    "print(negative_numbers)"
   ]
  },
  {
   "cell_type": "code",
   "execution_count": 22,
   "id": "223203c0",
   "metadata": {},
   "outputs": [
    {
     "name": "stdout",
     "output_type": "stream",
     "text": [
      "[10, 11, 13, 17, 19, 23, 256]\n"
     ]
    }
   ],
   "source": [
    "# Exercise 14 - use a list comprehension w/ a conditional in order to produce a list of numbers with 2 or more numerals\n",
    "\n",
    "two_or_more_numerals = [number for number in numbers if number>=10]\n",
    "\n",
    "print(two_or_more_numerals)"
   ]
  },
  {
   "cell_type": "code",
   "execution_count": 24,
   "id": "ad6de961",
   "metadata": {},
   "outputs": [
    {
     "name": "stdout",
     "output_type": "stream",
     "text": [
      "[4, 9, 16, 25, 36, 49, 64, 81, 100, 121, 169, 289, 361, 529, 65536, 64, 16, 4, 25, 81]\n"
     ]
    }
   ],
   "source": [
    "# Exercise 15 - Make a variable named numbers_squared that contains the numbers list with each element squared. \n",
    "# Output is [4, 9, 16, etc...]\n",
    "\n",
    "numbers_squared = [number**2 for number in numbers]\n",
    "\n",
    "print(numbers_squared)"
   ]
  },
  {
   "cell_type": "code",
   "execution_count": 26,
   "id": "a4259919",
   "metadata": {},
   "outputs": [
    {
     "name": "stdout",
     "output_type": "stream",
     "text": [
      "[-9]\n"
     ]
    }
   ],
   "source": [
    "# Exercise 16 - Make a variable named odd_negative_numbers that contains only the numbers that are both odd and negative.\n",
    "\n",
    "odd_negative_numbers = [number for number in numbers if (number<0) & (number%2!=0)]\n",
    "print(odd_negative_numbers)"
   ]
  },
  {
   "cell_type": "code",
   "execution_count": 27,
   "id": "198e5fab",
   "metadata": {},
   "outputs": [
    {
     "name": "stdout",
     "output_type": "stream",
     "text": [
      "[7, 8, 9, 10, 11, 12, 13, 14, 15, 16, 18, 22, 24, 28, 261, -3, 1, 3, 10, -4]\n"
     ]
    }
   ],
   "source": [
    "# Exercise 17 - Make a variable named numbers_plus_5. In it, return a list containing each number plus five.\n",
    "\n",
    "number_plus_5 = [number+5 for number in numbers]\n",
    "\n",
    "print(number_plus_5)"
   ]
  },
  {
   "cell_type": "code",
   "execution_count": 51,
   "id": "8fe66270",
   "metadata": {},
   "outputs": [
    {
     "name": "stdout",
     "output_type": "stream",
     "text": [
      "[2, 3, 5, 7, 11, 13, 17, 19, 23, 5]\n"
     ]
    }
   ],
   "source": [
    "# BONUS Make a variable named \"primes\" that is a list containing the prime numbers in the numbers list. \n",
    "# *Hint* you may want to make or find a helper function that determines if a given number is prime or not.\n",
    "\n",
    "def prime(number):\n",
    "    if number < 0:\n",
    "        return False\n",
    "    elif number == 1:\n",
    "        return False\n",
    "    elif number == 2:\n",
    "        return True\n",
    "    for i in range(2,number):\n",
    "        if number%i == 0:\n",
    "            return False\n",
    "    else:\n",
    "        return True\n",
    "        \n",
    "prime_numbers = [number for number in numbers if prime(number) == True]\n",
    "\n",
    "print(prime_numbers)"
   ]
  }
 ],
 "metadata": {
  "kernelspec": {
   "display_name": "Python 3",
   "language": "python",
   "name": "python3"
  },
  "language_info": {
   "codemirror_mode": {
    "name": "ipython",
    "version": 3
   },
   "file_extension": ".py",
   "mimetype": "text/x-python",
   "name": "python",
   "nbconvert_exporter": "python",
   "pygments_lexer": "ipython3",
   "version": "3.13.1"
  }
 },
 "nbformat": 4,
 "nbformat_minor": 5
}
