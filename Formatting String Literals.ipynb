{
 "cells": [
  {
   "cell_type": "markdown",
   "metadata": {},
   "source": [
    "# Formatted String Literals\n",
    "\n",
    "The .2f format in Python is part of formatted string literals (also known as f-strings) and the str.format() method. This format is used to control how values are displayed when converting them to strings, especially for numerical data.\n"
   ]
  },
  {
   "cell_type": "code",
   "execution_count": 1,
   "metadata": {},
   "outputs": [
    {
     "name": "stdout",
     "output_type": "stream",
     "text": [
      "3.14\n"
     ]
    }
   ],
   "source": [
    "# .2f formatting for floating-point numbers\n",
    "\n",
    "num = 3.14159\n",
    "print(f'{num:.2f}')"
   ]
  },
  {
   "cell_type": "code",
   "execution_count": 2,
   "metadata": {},
   "outputs": [
    {
     "name": "stdout",
     "output_type": "stream",
     "text": [
      "3.142\n",
      "3\n",
      "0007\n"
     ]
    }
   ],
   "source": [
    "# Other floating-point formats\n",
    "# .nf: Where n is any positive integer, it controls the number of decimal places displayed.\n",
    "# .3f: Displays the number with 3 decimal places.\n",
    "# .0f: Rounds to the nearest whole number (no decimals).\n",
    "# 04: 4 digits, padded with leading zeros\n",
    "\n",
    "num = 3.14159\n",
    "num2 = 7\n",
    "print(f'{num:.3f}')\n",
    "print(f'{num:.0f}')\n",
    "print(f'{num2:04}')"
   ]
  },
  {
   "cell_type": "code",
   "execution_count": 4,
   "metadata": {},
   "outputs": [
    {
     "name": "stdout",
     "output_type": "stream",
     "text": [
      "    123.46\n"
     ]
    }
   ],
   "source": [
    "# Width and Alignment Formatting\n",
    "# You can also specify the minimum width of the number, as well as how it should be aligned within that width.\n",
    "\n",
    "# {number:width.precisionf}:\n",
    "# width: The minimum width of the entire number (including decimals).\n",
    "# precision: The number of digits after the decimal.\n",
    "# Numbers are right-aligned by default unless you specify alignment explicitly.\n",
    "\n",
    "num = 123.456\n",
    "print(f'{num:10.2f}') # Output: \"    123.46\" (total width is 10, 2 decimals)"
   ]
  },
  {
   "cell_type": "code",
   "execution_count": 5,
   "metadata": {},
   "outputs": [
    {
     "name": "stdout",
     "output_type": "stream",
     "text": [
      "                 123\n"
     ]
    }
   ],
   "source": [
    "# Alignment specifiers\n",
    "# You can control how text or numbers are aligned within a fixed width by using alignment specifiers:\n",
    "\n",
    "# <: Left-align\n",
    "# >: Right-align (default for numbers)\n",
    "# ^: Center-align\n",
    "\n",
    "num = 123.456\n",
    "print(f'{num:>20.0f}')"
   ]
  },
  {
   "cell_type": "code",
   "execution_count": 7,
   "metadata": {},
   "outputs": [
    {
     "name": "stdout",
     "output_type": "stream",
     "text": [
      "1,234,567\n"
     ]
    }
   ],
   "source": [
    "# Thousand Separators\n",
    "\n",
    "num = 1234567\n",
    "print(f'{num:,}')\n"
   ]
  },
  {
   "cell_type": "code",
   "execution_count": 8,
   "metadata": {},
   "outputs": [
    {
     "name": "stdout",
     "output_type": "stream",
     "text": [
      "12.35%\n"
     ]
    }
   ],
   "source": [
    "# Percentage formatting\n",
    "fraction = 0.123456\n",
    "print(f'{fraction:.2%}')"
   ]
  },
  {
   "cell_type": "code",
   "execution_count": 10,
   "metadata": {},
   "outputs": [
    {
     "name": "stdout",
     "output_type": "stream",
     "text": [
      "        123,456,789.12        \n"
     ]
    }
   ],
   "source": [
    "# Put it all together\n",
    "\n",
    "num = 123456789.123456\n",
    "print(f'{num:^30,.2f}')"
   ]
  }
 ],
 "metadata": {
  "kernelspec": {
   "display_name": "PythonEnv",
   "language": "python",
   "name": "python3"
  },
  "language_info": {
   "codemirror_mode": {
    "name": "ipython",
    "version": 3
   },
   "file_extension": ".py",
   "mimetype": "text/x-python",
   "name": "python",
   "nbconvert_exporter": "python",
   "pygments_lexer": "ipython3",
   "version": "3.11.8"
  }
 },
 "nbformat": 4,
 "nbformat_minor": 2
}
