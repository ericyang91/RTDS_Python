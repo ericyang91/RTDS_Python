{
 "cells": [
  {
   "cell_type": "markdown",
   "metadata": {},
   "source": [
    "# **Pandas: A Comprehensive Guide**\n",
    "\n",
    "## **Introduction**\n",
    "\n",
    "Pandas is a powerful Python library for data manipulation and analysis. It provides flexible data structures such as `Series` and `DataFrame` to work efficiently with structured data.\n",
    "\n",
    "### **Installation**\n",
    "\n",
    "To install Pandas, use:\n",
    "\n",
    "```bash\n",
    "pip install pandas\n",
    "```\n",
    "\n",
    "Then, import it in Python  \n",
    "```python\n",
    "import pandas as pd\n",
    "```\n",
    "\n",
    "### **Core Data Structures**\n",
    "\n",
    "#### **Series**\n",
    "\n",
    "A series is a one-dimensional labeled array capable of holding any data type.\n",
    "\n",
    "- ```python\n",
    "    data = [10, 20, 30, 40]\n",
    "    s = pd.Series(data, index=['A','B','C','D'])\n",
    "    print(s)\n",
    "    ```\n",
    "\n",
    "- In Pandas Series, you can use any iterable for the data. This includes Lists, Tuples, NumPy Arrays, Dictionaries, Strings, Dictionaries, and Sets.\n",
    "\n",
    "- ```python\n",
    "    data = (10, 20, 30, 40)\n",
    "    s = pd.Series(data, index=['A','B','C','D'])\n",
    "    print(s)\n",
    "    ```\n",
    "\n",
    "- ```python\n",
    "    import pandas as pd\n",
    "    import numpy as np\n",
    "\n",
    "    data = (1,2,3,4,5)\n",
    "    index = np.array(['A','B','C','D','E'])\n",
    "    s = pd.Series(data, index)\n",
    "    print(s)\n",
    "    ```\n",
    "\n",
    "#### **DataFrame**\n",
    "\n",
    "A dataframe is a two-dimensional labeled data structure, similar to a table in SQL or Excel.\n",
    "\n",
    "- Creating a Pandas DataFrame using **list of dictionaries**:\n",
    "    - Each dictionary represents a row, and the keys become the column labels.\n",
    "\n",
    "- ```python\n",
    "    s = pd.DataFrame([{'Reptiles':'scales', 'Birds':'feathers'}, {'Reptiles':'regenerate tail', 'Birds':'does not regenerate'}])\n",
    "    print(s)\n",
    "    ```\n",
    "\n",
    "- Creating a Pandas DataFrame using **dictionary of lists**\n",
    "    - Each key in the dictionary represents a column label, and the values are lists of column data.\n",
    "\n",
    "- ```python\n",
    "    s = pd.DataFrame({'Reptiles':['scales', 'regenerate tail'], 'Birds':['feathers', 'does not regenerate']})\n",
    "    print(s)\n",
    "    ```\n",
    "\n",
    "- Creating a Pandas DataFrame using **list of lists (or Tuples)**\n",
    "    - Each inner list or tuple represents a row of data, and an optional columns argument can be used to specify the column names.\n",
    "\n",
    "- ```python\n",
    "    data = [['a',2],['b',3],['c',4]]\n",
    "\n",
    "    s = pd.DataFrame(data, columns=['alphabet','numbers'], index=[1,2])\n",
    "    print(s)\n",
    "    ```\n",
    "\n",
    "- Creating a Pandas DataFrame using **single dictionary**\n",
    "    - You can also pass a single dictionary with column names as keys and the corresponding values as lists.\n",
    "\n",
    "- ```python\n",
    "    data = {'alphabet':['a','b','c','d'], 'number':[1,2,3,4]}\n",
    "    s = pd.DataFrame(data)\n",
    "    print(s)\n",
    "    ```\n",
    "\n",
    "- Creating a Pandas DataFrame using **Numpy Array**\n",
    "    - You can create a DataFrame by passing a numpy array and defining column labels.\n",
    "\n",
    "- ```python\n",
    "    import numpy as np\n",
    "    import pandas as pd\n",
    "\n",
    "    data = np.array([['a',1],['b',2]])\n",
    "    s = pd.DataFrame(data, columns=['alphabet', 'number'])\n",
    "    print(s)\n",
    "    ```\n",
    "\n",
    "- Creating a Pandas DataFrame from **CSV/Excel files**\n",
    "    - You can read data from external files (e.g., CSV, Excel) into a DataFrame using Pandas' built-in functions.\n",
    "\n",
    "- ```python\n",
    "    data = pd.read_csv('data.csv')\n",
    "    ```\n",
    "\n",
    "\n",
    "### **Reading and Writing Data**\n",
    "\n",
    "- Reading CSV Files\n",
    "    ```python\n",
    "    df = pd.read_csv('data.csv')\n",
    "    print(df.head())\n",
    "    ```\n",
    "\n",
    "- Writing to CSV Files\n",
    "    ```python\n",
    "    df.to_csv('data.csv', index=False)\n",
    "    ```\n",
    "\n",
    "### **Basic Data Exploration**\n",
    "\n",
    "#### **Viewing Data**\n",
    "\n",
    "```python\n",
    "print(df.head()) # First 5 rows\n",
    "print(df.tail()) # Last 5 rows\n",
    "print(df.info()) # Summary of the dataset (number of columns, data type of each column, non-null count, etc.)\n",
    "print(df.describe()) # Descriptive Statistical summary (mean, median, etc.)\n",
    "```\n",
    "\n",
    "#### **Selecting Columns**\n",
    "\n",
    "```python\n",
    "print(df['Column Name']) # Single column; returns a pandas Series\n",
    "print(df[['Column Name', 'Column Name2']]) # Multiple columns; returns a pandas DataFrame\n",
    "```\n",
    "\n",
    "#### **Selecting Rows**\n",
    "\n",
    "##### **.loc - Label-based Indexing**\n",
    "- The `.loc` indexer is used when you want to select data by label (i.e., by row and column names). It *includes* the end point in a range, which is different from the standard Python slicing.\n",
    "\n",
    "```python\n",
    "df.loc[row_label, column_label]\n",
    "```\n",
    "\n",
    "- row_label: The label (or index) of the row you want to select. Note, this is not the position of the index. It is the name of the index.\n",
    "- column_label: The label (or name) of the column you want to select\n",
    "\n",
    "- **Selecting a specific row by label**:\n",
    "```python\n",
    "df.loc[2] # selections row with label/index 2\n",
    "```\n",
    "\n",
    "- **Selecting specific rows and columns**:\n",
    "```python\n",
    "df.loc[2, 'Salary'] # Selects the 'Salary' value in row with label 2\n",
    "df.loc[1:3, ['Name', 'Salary']] # Selects the 'Name' and 'Salary' values for rows with labels 1, 2, 3\n",
    "```\n",
    "\n",
    "- **Selecting all rows for specific columns**:\n",
    "```python\n",
    "df.loc[:, 'Salary'] # Selects the entire 'Salary' column\n",
    "df.loc[:, ['Name', 'Salary']] # Selects the entire 'Name' and 'Salary' column\n",
    "```\n",
    "\n",
    "- **Conditional selection**:\n",
    "```python\n",
    "df.loc[df['Salary']>50000] # Selects rows where Salary is greater than 50000\n",
    "df.loc[df['Age']<30, 'Name'] # Selects the 'Name' of employees younger than 30\n",
    "df.loc[df['Name'].isin(['Eric', 'Leah', 'Dahlia'])]['Age'] # Select the 'Age' of people whose names are 'Eric', 'Leah', or 'Dahlia'\n",
    "```\n",
    "\n",
    "##### **.iloc - Positional Indexing**\n",
    "- The `.iloc` indexer is used for integer-location based indexing. It selects rows and columns by their integer positions, similar to how you would slice a list (excludes the last index).\n",
    "\n",
    "```python\n",
    "df.iloc[row_index, column_index]\n",
    "```\n",
    "\n",
    "- row_index: The index position (integer) of the row you want to select\n",
    "- column_index: The index position (integer) of the column you want to select\n",
    "\n",
    "- **Selecting a specific row by position**:\n",
    "```python\n",
    "df.iloc[2] # Selects the third row (position 2)\n",
    "```\n",
    "\n",
    "- **Selecting specific rows and columns by position**:\n",
    "```python\n",
    "df.iloc[1:3, 0:2] # Selects rows at position 1 and 2, and columns at positions 0 and 1\n",
    "```\n",
    "\n",
    "- **Selecting all rows for specific columns by position**:\n",
    "```python\n",
    "df.iloc[:, 1] # Selects the second column (position 1)\n",
    "df.iloc[:, [0,2]] # Selects the first and third columns (position 0 and 2)\n",
    "```\n",
    "\n",
    "- **Conditional selection using `.iloc` along with `.values`**:\n",
    "- When using `.iloc` with a boolean condition, you need to convert the condition to a numpy array of booleans (e.g., using `.values`), so it can work with the positional indexing.\n",
    "\n",
    "```python\n",
    "df.iloc[df['Salary'].values > 50000] # Select rows where Salary > 50000 by position\n",
    "```\n",
    "\n",
    "#### **More Advanced Use Cases**\n",
    "\n",
    "- **Slicing rows and columns using `.loc`**\n",
    "```python\n",
    "df.loc[1:4, 'Name':'Salary'] # Selects rows from index 1 to 4, columns from 'Name' to 'Salary'\n",
    "```\n",
    "\n",
    "- **Selecting rows based on boolean conditions**\n",
    "```python\n",
    "df.loc[df['Age'] > 30, ['Name', 'Salary']] # Selects the 'Name' and 'Salary' for rows where 'Age' > 30\n",
    "```\n",
    "\n",
    "- **Modifying Values using `.loc`**\n",
    "```python\n",
    "df.loc[df['Age'] > 30, 'Salary'] = 60000 # Updates the 'Salary' of employees older than 30\n",
    "```\n",
    "\n",
    "- **Using `.iloc` for selecting random rows and columns**\n",
    "```python\n",
    "df.iloc[0:5, 1:3] # \n",
    "```\n",
    "\n",
    "### **Data Cleaning**\n",
    "\n",
    "- **Handling Missing Values**\n",
    "```python\n",
    "df.dropna(subset=['Salary', 'Age'], inplace=True) # Remove rows where any of these columns have missing values\n",
    "```\n",
    "```python\n",
    "df.fillna('T-rex', inplace=True) # Fills the missing values with 'T-rex'. Because Pandas DataFrame typically prefers having the same data type across all rows in a column, filling the missing rows with a string value for columns that are numeric will convert the data type of that column to 'object'\n",
    "```\n",
    "```python\n",
    "df['Salary'].fillna(100000, inplace=True) # Fills the missing value of the 'Salary' column with 100000\n",
    "```\n",
    "- **Rename Columns**\n",
    "- **Changing Data Types**\n",
    "\n",
    "\n",
    "### **Data Transformation**\n",
    "\n",
    "- **Using ```.apply()```**\n",
    "    - In pandas, the ```.apply()``` method is a powerful way to apply a function to each element in a Series or to each row or column in a DataFrame.\n",
    "\n",
    "    ```python\n",
    "    df['Name'] = df['Name'].apply(lambda x: x.upper()) # Converts all names to uppercase\n",
    "    ```\n",
    "\n",
    "    ```python\n",
    "    df['Full Name'] = df.apply(lambda row: row['First Name'] + ' ' + row['Last Name'], axis=1) # Combines two columns into a new one by applying a function to each row. Axis=1 tells pandas to apply the function across columns for each row\n",
    "    ```\n",
    "\n",
    "### **.groupby()**\n",
    "\n",
    "- ```df.groupby([...])``` tells pandas to split the DataFrame into groups based on column values. Each column contains rows with the same values for the specified columns\n",
    "```python\n",
    "df.groupby(['School', 'Major', 'Residence'])\n",
    "```\n",
    "- In the example above, pandas groups the data by the combination of the columns. For instance, all rows with ('McGill', 'Economics', 'Gardener') are grouped into one whereas all rows with ('UT Austin', 'Data Science', 'Non-resident') are grouped into another. \n",
    "- It returns a DataFrameGroupBy object - not a DataFrame, but an iterable object that represents groups of rows.\n",
    "    - We can think of this as a dictionary-like structure where:\n",
    "        - Each **key** is a tuple of group values like ('McGill', 'Economics', 'Gardener')\n",
    "        - Each **value** is a mini DataFrame containing the rows that match those values\n",
    "- ```.groupby([...])``` is typically used for:\n",
    "    - Aggregation: ```.sum()```, ```.mean()```, ```.count()```\n",
    "    - Transformation: ```.transform()``` to modify values but keep original shape\n",
    "    - Custom operations: ```.apply()``` to do anything we want with each group"
   ]
  },
  {
   "cell_type": "markdown",
   "metadata": {},
   "source": [
    "## Pandas Series Exercises"
   ]
  },
  {
   "cell_type": "code",
   "execution_count": 5,
   "metadata": {},
   "outputs": [],
   "source": [
    "import pandas as pd\n",
    "import numpy as np"
   ]
  },
  {
   "cell_type": "code",
   "execution_count": 6,
   "metadata": {},
   "outputs": [
    {
     "name": "stdout",
     "output_type": "stream",
     "text": [
      "0    1\n",
      "1    2\n",
      "2    3\n",
      "3    4\n",
      "4    5\n",
      "dtype: int64\n"
     ]
    }
   ],
   "source": [
    "# 1. Write a Pandas program to create and display a one-dimensional array-like object containing an array of data using Pandas module.\n",
    "\n",
    "list = [1,2,3,4,5]\n",
    "series1 = pd.Series(list)\n",
    "print(series1)"
   ]
  },
  {
   "cell_type": "code",
   "execution_count": 7,
   "metadata": {},
   "outputs": [
    {
     "name": "stdout",
     "output_type": "stream",
     "text": [
      "[1, 2, 3, 4, 5]\n"
     ]
    }
   ],
   "source": [
    "# 2. Write a Pandas program to convert a Panda module Series to Python list and it's type.\n",
    "\n",
    "series1 = pd.Series([1,2,3,4,5])\n",
    "list1 = series1.to_list()\n",
    "print(list1)"
   ]
  },
  {
   "cell_type": "code",
   "execution_count": 8,
   "metadata": {},
   "outputs": [
    {
     "name": "stdout",
     "output_type": "stream",
     "text": [
      "0     3\n",
      "1     7\n",
      "2    11\n",
      "3    15\n",
      "4    19\n",
      "dtype: int64 0    1\n",
      "1    1\n",
      "2    1\n",
      "3    1\n",
      "4    1\n",
      "dtype: int64 0     2\n",
      "1    12\n",
      "2    30\n",
      "3    56\n",
      "4    90\n",
      "dtype: int64 0    2.000000\n",
      "1    1.333333\n",
      "2    1.200000\n",
      "3    1.142857\n",
      "4    1.111111\n",
      "dtype: float64\n"
     ]
    }
   ],
   "source": [
    "# 3. Write a Pandas program to add, subtract, multiple and divide two Pandas Series.\n",
    "\n",
    "series1 = pd.Series([2, 4, 6, 8, 10])\n",
    "series2 = pd.Series([1, 3, 5, 7, 9])\n",
    "\n",
    "add = series1 + series2\n",
    "subtract = series1 - series2\n",
    "multiply = series1 * series2\n",
    "divide = series1 / series2\n",
    "print(add, subtract, multiply, divide)"
   ]
  },
  {
   "cell_type": "code",
   "execution_count": 9,
   "metadata": {},
   "outputs": [
    {
     "name": "stdout",
     "output_type": "stream",
     "text": [
      "series 1 is greater than series 2\n",
      "series 1 is greater than series 2\n",
      "series 1 is greater than series 2\n",
      "series 1 is greater than series 2\n",
      "series 1 is equal to series 2\n"
     ]
    }
   ],
   "source": [
    "# 4. Write a Pandas program to compare the elements of the two Pandas Series.\n",
    "\n",
    "series1 = pd.Series([2, 4, 6, 8, 10])\n",
    "series2 = pd.Series([1, 3, 5, 7, 10])\n",
    "\n",
    "for i in range(len(series1)):\n",
    "  if series1[i]>series2[i]:\n",
    "    print('series 1 is greater than series 2')\n",
    "  elif series1[i] == series2[i]:\n",
    "    print('series 1 is equal to series 2')\n",
    "  else:\n",
    "    print('series 2 is greater than series 1')"
   ]
  },
  {
   "cell_type": "code",
   "execution_count": 10,
   "metadata": {},
   "outputs": [
    {
     "name": "stdout",
     "output_type": "stream",
     "text": [
      "a    100\n",
      "b    200\n",
      "c    300\n",
      "d    400\n",
      "e    800\n",
      "dtype: int64\n"
     ]
    }
   ],
   "source": [
    "# 5. Write a Pandas program to convert a dictionary to a Pandas series.\n",
    "\n",
    "dict = {'a': 100, 'b': 200, 'c': 300, 'd': 400, 'e': 800}\n",
    "series1 = pd.Series(dict)\n",
    "print(series1)"
   ]
  },
  {
   "cell_type": "code",
   "execution_count": 11,
   "metadata": {},
   "outputs": [
    {
     "name": "stdout",
     "output_type": "stream",
     "text": [
      "0    10\n",
      "1    20\n",
      "2    30\n",
      "3    40\n",
      "4    50\n",
      "dtype: int32\n"
     ]
    }
   ],
   "source": [
    "# 6. Write a Pandas program to convert a NumPy array to a Pandas series.\n",
    "\n",
    "array1 = np.array([10,20,30,40,50])\n",
    "series1 = pd.Series(array1)\n",
    "print(series1)"
   ]
  },
  {
   "cell_type": "code",
   "execution_count": 12,
   "metadata": {},
   "outputs": [
    {
     "name": "stdout",
     "output_type": "stream",
     "text": [
      "0    1.0\n",
      "1    2.0\n",
      "2    NaN\n",
      "dtype: float64\n"
     ]
    }
   ],
   "source": [
    "# 7. Write a Pandas program to change the data type of given a column or a Series.\n",
    "\n",
    "# series1.astype('float') will not work because 'python' cannot be converted to a number\n",
    "# to_numeric() is specific to pandas only\n",
    "\n",
    "series1 = pd.Series(['1','2', 'python'])\n",
    "series1 = pd.to_numeric(series1, errors='coerce') #coerce will return NaN for values that cannot be converted\n",
    "\n",
    "print(series1)"
   ]
  },
  {
   "cell_type": "code",
   "execution_count": 13,
   "metadata": {},
   "outputs": [
    {
     "name": "stdout",
     "output_type": "stream",
     "text": [
      "0     1\n",
      "1     2\n",
      "2     3\n",
      "3     4\n",
      "4     7\n",
      "5    11\n",
      "Name: col1, dtype: int64\n"
     ]
    }
   ],
   "source": [
    "# 8. Write a Pandas program to convert the first column of a DataFrame as a Series.\n",
    "\n",
    "d = {'col1': [1, 2, 3, 4, 7, 11], 'col2': [4, 5, 6, 9, 5, 0], 'col3': [7, 5, 8, 12, 1, 11]}\n",
    "\n",
    "df = pd.DataFrame(d)\n",
    "series1 = df['col1']\n",
    "print(series1)"
   ]
  },
  {
   "cell_type": "code",
   "execution_count": 14,
   "metadata": {},
   "outputs": [
    {
     "name": "stdout",
     "output_type": "stream",
     "text": [
      "[1 2 3 4 5]\n"
     ]
    }
   ],
   "source": [
    "# 9. Write a Pandas program to convert a given Series to an array.\n",
    "\n",
    "# series.values return a numpy ndarray\n",
    "series1 = pd.Series([1,2,3,4,5])\n",
    "array = series1.values\n",
    "print(array)"
   ]
  },
  {
   "cell_type": "code",
   "execution_count": 15,
   "metadata": {},
   "outputs": [
    {
     "name": "stdout",
     "output_type": "stream",
     "text": [
      "0       Red\n",
      "1     Green\n",
      "2     White\n",
      "3       Red\n",
      "4     Black\n",
      "5    Yellow\n",
      "dtype: object\n"
     ]
    }
   ],
   "source": [
    "# 10. Write a Pandas program to convert Series of lists to one Series.\n",
    "\n",
    "s = pd.Series([\n",
    "    ['Red', 'Green', 'White'],\n",
    "    ['Red', 'Black'],\n",
    "    ['Yellow']])\n",
    "\n",
    "new_list = []\n",
    "\n",
    "for element in s:\n",
    "  for item in element:\n",
    "    new_list.append(item)\n",
    "sa = pd.Series(new_list)\n",
    "print(sa)"
   ]
  },
  {
   "cell_type": "code",
   "execution_count": 16,
   "metadata": {},
   "outputs": [
    {
     "name": "stdout",
     "output_type": "stream",
     "text": [
      "0    10\n",
      "1     6\n",
      "2     5\n",
      "3     4\n",
      "4     3\n",
      "dtype: int64\n"
     ]
    }
   ],
   "source": [
    "# 11. Write a Pandas program to sort a given Series.\n",
    "\n",
    "series1 = pd.Series([10,3,6,4,5])\n",
    "series1 = series1.sort_values(ascending = False, ignore_index = True)\n",
    "print(series1)"
   ]
  },
  {
   "cell_type": "code",
   "execution_count": 17,
   "metadata": {},
   "outputs": [
    {
     "name": "stdout",
     "output_type": "stream",
     "text": [
      "0          100\n",
      "1          200\n",
      "2       python\n",
      "3       300.12\n",
      "4          400\n",
      "5    microsoft\n",
      "6       google\n",
      "dtype: object\n"
     ]
    }
   ],
   "source": [
    "# 12. Write a Pandas program to add some data to an existing Series.\n",
    "\n",
    "s = pd.Series(['100', '200', 'python', '300.12', '400'])\n",
    "s1 = pd.Series(['microsoft', 'google'])\n",
    "new = pd.concat([s,s1], axis = 0, ignore_index = True)\n",
    "\n",
    "print(new)"
   ]
  },
  {
   "cell_type": "code",
   "execution_count": 18,
   "metadata": {},
   "outputs": [
    {
     "name": "stdout",
     "output_type": "stream",
     "text": [
      "0    100\n",
      "dtype: int64\n"
     ]
    }
   ],
   "source": [
    "# 13. Write a Pandas program to create a subset of a given series based on value and condition.\n",
    "\n",
    "s = pd.Series([100,200,300,400])\n",
    "new = s[s<200]\n",
    "print(new)"
   ]
  },
  {
   "cell_type": "code",
   "execution_count": 19,
   "metadata": {},
   "outputs": [
    {
     "name": "stdout",
     "output_type": "stream",
     "text": [
      "2         meta\n",
      "1    microsoft\n",
      "0       google\n",
      "dtype: object\n"
     ]
    }
   ],
   "source": [
    "# 14. Write a Pandas program to change the order of index of a given series.\n",
    "\n",
    "series1 = pd.Series(['meta', 'microsoft', 'google'])\n",
    "new_series = pd.Series(series1.to_list(), index=[2,1,0])\n",
    "print(new_series)"
   ]
  },
  {
   "cell_type": "code",
   "execution_count": 20,
   "metadata": {},
   "outputs": [
    {
     "name": "stdout",
     "output_type": "stream",
     "text": [
      "5.5 3.03\n"
     ]
    }
   ],
   "source": [
    "# 15. Write a Pandas program to create the mean and standard deviation of the data of a given Series.\n",
    "\n",
    "series1 = pd.Series([1,2,3,4,5,6,7,8,9,10])\n",
    "mean = series1.mean()\n",
    "sd = series1.std()\n",
    "\n",
    "print(mean, round(sd,2))"
   ]
  },
  {
   "cell_type": "code",
   "execution_count": 21,
   "metadata": {},
   "outputs": [
    {
     "name": "stdout",
     "output_type": "stream",
     "text": [
      "0    1\n",
      "1    2\n",
      "2    3\n",
      "dtype: int64\n"
     ]
    }
   ],
   "source": [
    "# 16. Write a Pandas program to get the items of a given series not present in another given series.\n",
    "\n",
    "series1 = pd.Series([1,2,3,4,5])\n",
    "series2 = pd.Series([4,5,6,7,8])\n",
    "\n",
    "print(series1[~series1.isin(series2)])"
   ]
  },
  {
   "cell_type": "code",
   "execution_count": 22,
   "metadata": {},
   "outputs": [
    {
     "name": "stdout",
     "output_type": "stream",
     "text": [
      "0      1\n",
      "1      2\n",
      "2      3\n",
      "3      4\n",
      "4      5\n",
      "5      6\n",
      "6      7\n",
      "7     11\n",
      "8     12\n",
      "9     13\n",
      "10    14\n",
      "11    15\n",
      "dtype: int64\n"
     ]
    }
   ],
   "source": [
    "# 17. Write a Pandas program to get the items which are not common of two given series.\n",
    "\n",
    "series1 = pd.Series([1,2,3,4,5,6,7,8,9,10])\n",
    "series2 = pd.Series([8,9,10,11,12,13,14,15])\n",
    "\n",
    "new1 = series1[~series1.isin(series2)]\n",
    "new2 = series2[~series2.isin(series1)]\n",
    "\n",
    "new = pd.concat([new1, new2], ignore_index = True)\n",
    "\n",
    "print(new)"
   ]
  },
  {
   "cell_type": "code",
   "execution_count": 23,
   "metadata": {},
   "outputs": [
    {
     "name": "stdout",
     "output_type": "stream",
     "text": [
      "10 1 3.25\n"
     ]
    }
   ],
   "source": [
    "# 18. Write a Pandas program to compute the minimum, 25th percentile, median, 75th, and maximum of a given series.\n",
    "\n",
    "series1 = pd.Series([1,2,3,4,5,6,7,8,9,10])\n",
    "max_num = series1.max()\n",
    "min_num = series1.min()\n",
    "twentyfifth = series1.quantile(q=0.25)\n",
    "\n",
    " \n",
    "\n",
    "print(max_num, min_num, twentyfifth)"
   ]
  },
  {
   "cell_type": "code",
   "execution_count": 24,
   "metadata": {},
   "outputs": [
    {
     "name": "stdout",
     "output_type": "stream",
     "text": [
      "7    5\n",
      "1    3\n",
      "6    2\n",
      "2    1\n",
      "3    1\n",
      "4    1\n",
      "5    1\n",
      "Name: count, dtype: int64\n"
     ]
    }
   ],
   "source": [
    "# 19. Write a Pandas program to calculate the frequency counts of each unique value of a given series.\n",
    "\n",
    "series1 = pd.Series([1,1,1,2,3,4,5,6,6,7,7,7,7,7])\n",
    "print(series1.value_counts())"
   ]
  },
  {
   "cell_type": "code",
   "execution_count": 25,
   "metadata": {},
   "outputs": [
    {
     "name": "stdout",
     "output_type": "stream",
     "text": [
      "0         4\n",
      "1     Other\n",
      "2     Other\n",
      "3     Other\n",
      "4     Other\n",
      "5         4\n",
      "6         4\n",
      "7         4\n",
      "8     Other\n",
      "9         4\n",
      "10    Other\n",
      "11        4\n",
      "12    Other\n",
      "13    Other\n",
      "14        4\n",
      "dtype: object\n"
     ]
    },
    {
     "name": "stderr",
     "output_type": "stream",
     "text": [
      "C:\\Users\\ericj\\AppData\\Local\\Temp\\ipykernel_25124\\486258893.py:7: FutureWarning: Setting an item of incompatible dtype is deprecated and will raise in a future error of pandas. Value 'Other' has dtype incompatible with int32, please explicitly cast to a compatible dtype first.\n",
      "  num_series[num_series!=most_frequent] = 'Other'\n"
     ]
    }
   ],
   "source": [
    "# 20. Write a Pandas program to display most frequent value in a given series and replace everything else as 'Other' in the series.\n",
    "\n",
    "num_series = pd.Series(np.random.randint(1, 5, [15]))\n",
    "count = num_series.value_counts() #value_counts returns a Series\n",
    "most_frequent = count.index[0]\n",
    "\n",
    "num_series[num_series!=most_frequent] = 'Other'\n",
    "\n",
    "print(num_series)"
   ]
  },
  {
   "cell_type": "code",
   "execution_count": 26,
   "metadata": {},
   "outputs": [
    {
     "name": "stdout",
     "output_type": "stream",
     "text": [
      "Index([0, 7], dtype='int64')\n"
     ]
    }
   ],
   "source": [
    "# 21. Write a Pandas program to find the positions of numbers that are multiples of 5 of a given series.\n",
    "\n",
    "num_series = pd.Series(np.random.randint(1, 10, 9))\n",
    "num_series = num_series[num_series%5==0]\n",
    "\n",
    "print(num_series.index)"
   ]
  },
  {
   "cell_type": "code",
   "execution_count": 27,
   "metadata": {},
   "outputs": [
    {
     "name": "stdout",
     "output_type": "stream",
     "text": [
      "10    4\n",
      "15    3\n",
      "dtype: int8\n"
     ]
    }
   ],
   "source": [
    "# 22. Write a Pandas program to extract items at given positions of a given series.\n",
    "\n",
    "series1 = pd.Series([1,2,3,4,4,3,1,2,3,5,4,3,3,5,2,3,4,4,6,4,2,1])\n",
    "series1 = pd.to_numeric(series1, downcast = 'integer')\n",
    "positions = [10, 15]\n",
    "\n",
    "print(series1.take(positions)) #Note that this method does not necessarily return indices 10 and 15. Instead, it returns the items in the 10th and 15th rows."
   ]
  }
 ],
 "metadata": {
  "kernelspec": {
   "display_name": "PythonEnv",
   "language": "python",
   "name": "python3"
  },
  "language_info": {
   "codemirror_mode": {
    "name": "ipython",
    "version": 3
   },
   "file_extension": ".py",
   "mimetype": "text/x-python",
   "name": "python",
   "nbconvert_exporter": "python",
   "pygments_lexer": "ipython3",
   "version": "3.11.8"
  }
 },
 "nbformat": 4,
 "nbformat_minor": 2
}
